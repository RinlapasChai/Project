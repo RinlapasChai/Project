{
  "nbformat": 4,
  "nbformat_minor": 0,
  "metadata": {
    "colab": {
      "provenance": [],
      "collapsed_sections": [
        "FCkkEmwJ-IvH",
        "Jv3BtcyFlVpK",
        "LSlXUL1FtRSo",
        "nR4NyKAPe3Za",
        "Jw5C0eIidIWq",
        "aaYx5QtOu3zf",
        "vGVg5Cy7u7gY",
        "0x63CphB9R_v"
      ],
      "toc_visible": true,
      "include_colab_link": true
    },
    "kernelspec": {
      "name": "python3",
      "display_name": "Python 3"
    },
    "language_info": {
      "name": "python"
    }
  },
  "cells": [
    {
      "cell_type": "markdown",
      "metadata": {
        "id": "view-in-github",
        "colab_type": "text"
      },
      "source": [
        "<a href=\"https://colab.research.google.com/github/RinlapasCha/Assignments-Tools/blob/main/PCA_preprocessing_data.ipynb\" target=\"_parent\"><img src=\"https://colab.research.google.com/assets/colab-badge.svg\" alt=\"Open In Colab\"/></a>"
      ]
    },
    {
      "cell_type": "markdown",
      "source": [
        "###Breast Cancer Wisconsin (Diagnostic) Data Set"
      ],
      "metadata": {
        "id": "FCkkEmwJ-IvH"
      }
    },
    {
      "cell_type": "markdown",
      "source": [
        "\n",
        "id: ID number\n",
        "\n",
        "diagnosis: The diagnosis of breast tissues (M = malignant, B = benign)\n",
        "\n",
        "radius_mean: mean of distances from center to points on the perimeter\n",
        "\n",
        "texture_mean: standard deviation of gray-scale values\n",
        "\n",
        "perimeter_mean: mean size of the core tumor\n",
        "\n",
        "area_mean: area of the tumor\n",
        "\n",
        "smoothness_mean: mean of local variation in radius lengths\n",
        "\n",
        "compactness_mean: mean of perimeter^2 / area - 1.0\n",
        "\n",
        "concavity_mean: mean of severity of concave portions of the contour\n",
        "\n",
        "concave_points_mean: mean for number of concave portions of the contour\n",
        "symmetry_mean\n",
        "\n",
        "fractal_dimension_mean: mean for \"coastline approximation\" - 1\n",
        "\n",
        "radius_se: standard error for the mean of distances from center to points on the perimeter\n",
        "\n",
        "texture_se: standard error for standard deviation of gray-scale values\n",
        "perimeter_se, area_se\n",
        "\n",
        "smoothness_se: standard error for local variation in radius lengths\n",
        "\n",
        "compactness_se: standard error for perimeter^2 / area - 1.0\n",
        "\n",
        "concavity_se: standard error for severity of concave portions of the contour\n",
        "\n",
        "concave_points_se: standard error for number of concave portions of the contour\n",
        "symmetry_se\n",
        "\n",
        "fractal_dimension_se: standard error for \"coastline approximation\" - 1\n",
        "\n",
        "radius_worst: \"worst\" or largest mean value for mean of distances from center to points on the perimeter\n",
        "\n",
        "texture_worst: \"worst\" or largest mean value for standard deviation of gray-scale values\n",
        "perimeter_worst\n",
        "area_worst\n",
        "\n",
        "smoothness_worst: \"worst\" or largest mean value for local variation in radius lengths\n",
        "\n",
        "compactness_worst: \"worst\" or largest mean value for perimeter^2 / area - 1.0\n",
        "\n",
        "concavity_worst: \"worst\" or largest mean value for severity of concave portions of the contour\n",
        "\n",
        "concave_points_worst: \"worst\" or largest mean value for number of concave portions of the contour\n",
        "symmetry_worst\n",
        "fractal_dimension_worst: \"worst\" or largest mean value for \"coastline approximation\" - 1"
      ],
      "metadata": {
        "id": "1KGZddx59oCf"
      }
    },
    {
      "cell_type": "markdown",
      "source": [
        "Link Data : https://www.kaggle.com/datasets/uciml/breast-cancer-wisconsin-data"
      ],
      "metadata": {
        "id": "Kzh28MtRbZH9"
      }
    },
    {
      "cell_type": "markdown",
      "source": [
        "### Survey Data"
      ],
      "metadata": {
        "id": "mp23Q3Uv-L1e"
      }
    },
    {
      "cell_type": "code",
      "execution_count": null,
      "metadata": {
        "id": "iJzsPCvd8CsM"
      },
      "outputs": [],
      "source": [
        "import pandas as pd\n",
        "import seaborn as sns\n",
        "import matplotlib.pyplot as plt\n",
        "import numpy as np\n",
        "from sklearn.model_selection import train_test_split\n",
        "from sklearn import datasets\n",
        "from sklearn import svm\n",
        "from sklearn.preprocessing import LabelBinarizer\n",
        "from sklearn.metrics import roc_curve, auc\n"
      ]
    },
    {
      "cell_type": "code",
      "source": [
        " #from google.colab import drive\n",
        " #drive.mount('/content/drive')"
      ],
      "metadata": {
        "id": "zo9Pbfaakq1I"
      },
      "execution_count": null,
      "outputs": []
    },
    {
      "cell_type": "code",
      "source": [
        "df = pd.read_csv('/content/data.csv')\n",
        "df"
      ],
      "metadata": {
        "id": "4YGyjrIxGyxI",
        "colab": {
          "base_uri": "https://localhost:8080/",
          "height": 461
        },
        "outputId": "440338a8-bbd2-4040-f827-c6602d58b6ec"
      },
      "execution_count": null,
      "outputs": [
        {
          "output_type": "execute_result",
          "data": {
            "text/plain": [
              "           id diagnosis  radius_mean  texture_mean  perimeter_mean  area_mean  \\\n",
              "0      842302         M        17.99         10.38          122.80     1001.0   \n",
              "1      842517         M        20.57         17.77          132.90     1326.0   \n",
              "2    84300903         M        19.69         21.25          130.00     1203.0   \n",
              "3    84348301         M        11.42         20.38           77.58      386.1   \n",
              "4    84358402         M        20.29         14.34          135.10     1297.0   \n",
              "..        ...       ...          ...           ...             ...        ...   \n",
              "564    926424         M        21.56         22.39          142.00     1479.0   \n",
              "565    926682         M        20.13         28.25          131.20     1261.0   \n",
              "566    926954         M        16.60         28.08          108.30      858.1   \n",
              "567    927241         M        20.60         29.33          140.10     1265.0   \n",
              "568     92751         B         7.76         24.54           47.92      181.0   \n",
              "\n",
              "     smoothness_mean  compactness_mean  concavity_mean  concave points_mean  \\\n",
              "0            0.11840           0.27760         0.30010              0.14710   \n",
              "1            0.08474           0.07864         0.08690              0.07017   \n",
              "2            0.10960           0.15990         0.19740              0.12790   \n",
              "3            0.14250           0.28390         0.24140              0.10520   \n",
              "4            0.10030           0.13280         0.19800              0.10430   \n",
              "..               ...               ...             ...                  ...   \n",
              "564          0.11100           0.11590         0.24390              0.13890   \n",
              "565          0.09780           0.10340         0.14400              0.09791   \n",
              "566          0.08455           0.10230         0.09251              0.05302   \n",
              "567          0.11780           0.27700         0.35140              0.15200   \n",
              "568          0.05263           0.04362         0.00000              0.00000   \n",
              "\n",
              "     ...  texture_worst  perimeter_worst  area_worst  smoothness_worst  \\\n",
              "0    ...          17.33           184.60      2019.0           0.16220   \n",
              "1    ...          23.41           158.80      1956.0           0.12380   \n",
              "2    ...          25.53           152.50      1709.0           0.14440   \n",
              "3    ...          26.50            98.87       567.7           0.20980   \n",
              "4    ...          16.67           152.20      1575.0           0.13740   \n",
              "..   ...            ...              ...         ...               ...   \n",
              "564  ...          26.40           166.10      2027.0           0.14100   \n",
              "565  ...          38.25           155.00      1731.0           0.11660   \n",
              "566  ...          34.12           126.70      1124.0           0.11390   \n",
              "567  ...          39.42           184.60      1821.0           0.16500   \n",
              "568  ...          30.37            59.16       268.6           0.08996   \n",
              "\n",
              "     compactness_worst  concavity_worst  concave points_worst  symmetry_worst  \\\n",
              "0              0.66560           0.7119                0.2654          0.4601   \n",
              "1              0.18660           0.2416                0.1860          0.2750   \n",
              "2              0.42450           0.4504                0.2430          0.3613   \n",
              "3              0.86630           0.6869                0.2575          0.6638   \n",
              "4              0.20500           0.4000                0.1625          0.2364   \n",
              "..                 ...              ...                   ...             ...   \n",
              "564            0.21130           0.4107                0.2216          0.2060   \n",
              "565            0.19220           0.3215                0.1628          0.2572   \n",
              "566            0.30940           0.3403                0.1418          0.2218   \n",
              "567            0.86810           0.9387                0.2650          0.4087   \n",
              "568            0.06444           0.0000                0.0000          0.2871   \n",
              "\n",
              "     fractal_dimension_worst  Unnamed: 32  \n",
              "0                    0.11890          NaN  \n",
              "1                    0.08902          NaN  \n",
              "2                    0.08758          NaN  \n",
              "3                    0.17300          NaN  \n",
              "4                    0.07678          NaN  \n",
              "..                       ...          ...  \n",
              "564                  0.07115          NaN  \n",
              "565                  0.06637          NaN  \n",
              "566                  0.07820          NaN  \n",
              "567                  0.12400          NaN  \n",
              "568                  0.07039          NaN  \n",
              "\n",
              "[569 rows x 33 columns]"
            ],
            "text/html": [
              "\n",
              "  <div id=\"df-f945420b-9ed6-4ff7-a7e9-14152cac4c5a\" class=\"colab-df-container\">\n",
              "    <div>\n",
              "<style scoped>\n",
              "    .dataframe tbody tr th:only-of-type {\n",
              "        vertical-align: middle;\n",
              "    }\n",
              "\n",
              "    .dataframe tbody tr th {\n",
              "        vertical-align: top;\n",
              "    }\n",
              "\n",
              "    .dataframe thead th {\n",
              "        text-align: right;\n",
              "    }\n",
              "</style>\n",
              "<table border=\"1\" class=\"dataframe\">\n",
              "  <thead>\n",
              "    <tr style=\"text-align: right;\">\n",
              "      <th></th>\n",
              "      <th>id</th>\n",
              "      <th>diagnosis</th>\n",
              "      <th>radius_mean</th>\n",
              "      <th>texture_mean</th>\n",
              "      <th>perimeter_mean</th>\n",
              "      <th>area_mean</th>\n",
              "      <th>smoothness_mean</th>\n",
              "      <th>compactness_mean</th>\n",
              "      <th>concavity_mean</th>\n",
              "      <th>concave points_mean</th>\n",
              "      <th>...</th>\n",
              "      <th>texture_worst</th>\n",
              "      <th>perimeter_worst</th>\n",
              "      <th>area_worst</th>\n",
              "      <th>smoothness_worst</th>\n",
              "      <th>compactness_worst</th>\n",
              "      <th>concavity_worst</th>\n",
              "      <th>concave points_worst</th>\n",
              "      <th>symmetry_worst</th>\n",
              "      <th>fractal_dimension_worst</th>\n",
              "      <th>Unnamed: 32</th>\n",
              "    </tr>\n",
              "  </thead>\n",
              "  <tbody>\n",
              "    <tr>\n",
              "      <th>0</th>\n",
              "      <td>842302</td>\n",
              "      <td>M</td>\n",
              "      <td>17.99</td>\n",
              "      <td>10.38</td>\n",
              "      <td>122.80</td>\n",
              "      <td>1001.0</td>\n",
              "      <td>0.11840</td>\n",
              "      <td>0.27760</td>\n",
              "      <td>0.30010</td>\n",
              "      <td>0.14710</td>\n",
              "      <td>...</td>\n",
              "      <td>17.33</td>\n",
              "      <td>184.60</td>\n",
              "      <td>2019.0</td>\n",
              "      <td>0.16220</td>\n",
              "      <td>0.66560</td>\n",
              "      <td>0.7119</td>\n",
              "      <td>0.2654</td>\n",
              "      <td>0.4601</td>\n",
              "      <td>0.11890</td>\n",
              "      <td>NaN</td>\n",
              "    </tr>\n",
              "    <tr>\n",
              "      <th>1</th>\n",
              "      <td>842517</td>\n",
              "      <td>M</td>\n",
              "      <td>20.57</td>\n",
              "      <td>17.77</td>\n",
              "      <td>132.90</td>\n",
              "      <td>1326.0</td>\n",
              "      <td>0.08474</td>\n",
              "      <td>0.07864</td>\n",
              "      <td>0.08690</td>\n",
              "      <td>0.07017</td>\n",
              "      <td>...</td>\n",
              "      <td>23.41</td>\n",
              "      <td>158.80</td>\n",
              "      <td>1956.0</td>\n",
              "      <td>0.12380</td>\n",
              "      <td>0.18660</td>\n",
              "      <td>0.2416</td>\n",
              "      <td>0.1860</td>\n",
              "      <td>0.2750</td>\n",
              "      <td>0.08902</td>\n",
              "      <td>NaN</td>\n",
              "    </tr>\n",
              "    <tr>\n",
              "      <th>2</th>\n",
              "      <td>84300903</td>\n",
              "      <td>M</td>\n",
              "      <td>19.69</td>\n",
              "      <td>21.25</td>\n",
              "      <td>130.00</td>\n",
              "      <td>1203.0</td>\n",
              "      <td>0.10960</td>\n",
              "      <td>0.15990</td>\n",
              "      <td>0.19740</td>\n",
              "      <td>0.12790</td>\n",
              "      <td>...</td>\n",
              "      <td>25.53</td>\n",
              "      <td>152.50</td>\n",
              "      <td>1709.0</td>\n",
              "      <td>0.14440</td>\n",
              "      <td>0.42450</td>\n",
              "      <td>0.4504</td>\n",
              "      <td>0.2430</td>\n",
              "      <td>0.3613</td>\n",
              "      <td>0.08758</td>\n",
              "      <td>NaN</td>\n",
              "    </tr>\n",
              "    <tr>\n",
              "      <th>3</th>\n",
              "      <td>84348301</td>\n",
              "      <td>M</td>\n",
              "      <td>11.42</td>\n",
              "      <td>20.38</td>\n",
              "      <td>77.58</td>\n",
              "      <td>386.1</td>\n",
              "      <td>0.14250</td>\n",
              "      <td>0.28390</td>\n",
              "      <td>0.24140</td>\n",
              "      <td>0.10520</td>\n",
              "      <td>...</td>\n",
              "      <td>26.50</td>\n",
              "      <td>98.87</td>\n",
              "      <td>567.7</td>\n",
              "      <td>0.20980</td>\n",
              "      <td>0.86630</td>\n",
              "      <td>0.6869</td>\n",
              "      <td>0.2575</td>\n",
              "      <td>0.6638</td>\n",
              "      <td>0.17300</td>\n",
              "      <td>NaN</td>\n",
              "    </tr>\n",
              "    <tr>\n",
              "      <th>4</th>\n",
              "      <td>84358402</td>\n",
              "      <td>M</td>\n",
              "      <td>20.29</td>\n",
              "      <td>14.34</td>\n",
              "      <td>135.10</td>\n",
              "      <td>1297.0</td>\n",
              "      <td>0.10030</td>\n",
              "      <td>0.13280</td>\n",
              "      <td>0.19800</td>\n",
              "      <td>0.10430</td>\n",
              "      <td>...</td>\n",
              "      <td>16.67</td>\n",
              "      <td>152.20</td>\n",
              "      <td>1575.0</td>\n",
              "      <td>0.13740</td>\n",
              "      <td>0.20500</td>\n",
              "      <td>0.4000</td>\n",
              "      <td>0.1625</td>\n",
              "      <td>0.2364</td>\n",
              "      <td>0.07678</td>\n",
              "      <td>NaN</td>\n",
              "    </tr>\n",
              "    <tr>\n",
              "      <th>...</th>\n",
              "      <td>...</td>\n",
              "      <td>...</td>\n",
              "      <td>...</td>\n",
              "      <td>...</td>\n",
              "      <td>...</td>\n",
              "      <td>...</td>\n",
              "      <td>...</td>\n",
              "      <td>...</td>\n",
              "      <td>...</td>\n",
              "      <td>...</td>\n",
              "      <td>...</td>\n",
              "      <td>...</td>\n",
              "      <td>...</td>\n",
              "      <td>...</td>\n",
              "      <td>...</td>\n",
              "      <td>...</td>\n",
              "      <td>...</td>\n",
              "      <td>...</td>\n",
              "      <td>...</td>\n",
              "      <td>...</td>\n",
              "      <td>...</td>\n",
              "    </tr>\n",
              "    <tr>\n",
              "      <th>564</th>\n",
              "      <td>926424</td>\n",
              "      <td>M</td>\n",
              "      <td>21.56</td>\n",
              "      <td>22.39</td>\n",
              "      <td>142.00</td>\n",
              "      <td>1479.0</td>\n",
              "      <td>0.11100</td>\n",
              "      <td>0.11590</td>\n",
              "      <td>0.24390</td>\n",
              "      <td>0.13890</td>\n",
              "      <td>...</td>\n",
              "      <td>26.40</td>\n",
              "      <td>166.10</td>\n",
              "      <td>2027.0</td>\n",
              "      <td>0.14100</td>\n",
              "      <td>0.21130</td>\n",
              "      <td>0.4107</td>\n",
              "      <td>0.2216</td>\n",
              "      <td>0.2060</td>\n",
              "      <td>0.07115</td>\n",
              "      <td>NaN</td>\n",
              "    </tr>\n",
              "    <tr>\n",
              "      <th>565</th>\n",
              "      <td>926682</td>\n",
              "      <td>M</td>\n",
              "      <td>20.13</td>\n",
              "      <td>28.25</td>\n",
              "      <td>131.20</td>\n",
              "      <td>1261.0</td>\n",
              "      <td>0.09780</td>\n",
              "      <td>0.10340</td>\n",
              "      <td>0.14400</td>\n",
              "      <td>0.09791</td>\n",
              "      <td>...</td>\n",
              "      <td>38.25</td>\n",
              "      <td>155.00</td>\n",
              "      <td>1731.0</td>\n",
              "      <td>0.11660</td>\n",
              "      <td>0.19220</td>\n",
              "      <td>0.3215</td>\n",
              "      <td>0.1628</td>\n",
              "      <td>0.2572</td>\n",
              "      <td>0.06637</td>\n",
              "      <td>NaN</td>\n",
              "    </tr>\n",
              "    <tr>\n",
              "      <th>566</th>\n",
              "      <td>926954</td>\n",
              "      <td>M</td>\n",
              "      <td>16.60</td>\n",
              "      <td>28.08</td>\n",
              "      <td>108.30</td>\n",
              "      <td>858.1</td>\n",
              "      <td>0.08455</td>\n",
              "      <td>0.10230</td>\n",
              "      <td>0.09251</td>\n",
              "      <td>0.05302</td>\n",
              "      <td>...</td>\n",
              "      <td>34.12</td>\n",
              "      <td>126.70</td>\n",
              "      <td>1124.0</td>\n",
              "      <td>0.11390</td>\n",
              "      <td>0.30940</td>\n",
              "      <td>0.3403</td>\n",
              "      <td>0.1418</td>\n",
              "      <td>0.2218</td>\n",
              "      <td>0.07820</td>\n",
              "      <td>NaN</td>\n",
              "    </tr>\n",
              "    <tr>\n",
              "      <th>567</th>\n",
              "      <td>927241</td>\n",
              "      <td>M</td>\n",
              "      <td>20.60</td>\n",
              "      <td>29.33</td>\n",
              "      <td>140.10</td>\n",
              "      <td>1265.0</td>\n",
              "      <td>0.11780</td>\n",
              "      <td>0.27700</td>\n",
              "      <td>0.35140</td>\n",
              "      <td>0.15200</td>\n",
              "      <td>...</td>\n",
              "      <td>39.42</td>\n",
              "      <td>184.60</td>\n",
              "      <td>1821.0</td>\n",
              "      <td>0.16500</td>\n",
              "      <td>0.86810</td>\n",
              "      <td>0.9387</td>\n",
              "      <td>0.2650</td>\n",
              "      <td>0.4087</td>\n",
              "      <td>0.12400</td>\n",
              "      <td>NaN</td>\n",
              "    </tr>\n",
              "    <tr>\n",
              "      <th>568</th>\n",
              "      <td>92751</td>\n",
              "      <td>B</td>\n",
              "      <td>7.76</td>\n",
              "      <td>24.54</td>\n",
              "      <td>47.92</td>\n",
              "      <td>181.0</td>\n",
              "      <td>0.05263</td>\n",
              "      <td>0.04362</td>\n",
              "      <td>0.00000</td>\n",
              "      <td>0.00000</td>\n",
              "      <td>...</td>\n",
              "      <td>30.37</td>\n",
              "      <td>59.16</td>\n",
              "      <td>268.6</td>\n",
              "      <td>0.08996</td>\n",
              "      <td>0.06444</td>\n",
              "      <td>0.0000</td>\n",
              "      <td>0.0000</td>\n",
              "      <td>0.2871</td>\n",
              "      <td>0.07039</td>\n",
              "      <td>NaN</td>\n",
              "    </tr>\n",
              "  </tbody>\n",
              "</table>\n",
              "<p>569 rows × 33 columns</p>\n",
              "</div>\n",
              "    <div class=\"colab-df-buttons\">\n",
              "\n",
              "  <div class=\"colab-df-container\">\n",
              "    <button class=\"colab-df-convert\" onclick=\"convertToInteractive('df-f945420b-9ed6-4ff7-a7e9-14152cac4c5a')\"\n",
              "            title=\"Convert this dataframe to an interactive table.\"\n",
              "            style=\"display:none;\">\n",
              "\n",
              "  <svg xmlns=\"http://www.w3.org/2000/svg\" height=\"24px\" viewBox=\"0 -960 960 960\">\n",
              "    <path d=\"M120-120v-720h720v720H120Zm60-500h600v-160H180v160Zm220 220h160v-160H400v160Zm0 220h160v-160H400v160ZM180-400h160v-160H180v160Zm440 0h160v-160H620v160ZM180-180h160v-160H180v160Zm440 0h160v-160H620v160Z\"/>\n",
              "  </svg>\n",
              "    </button>\n",
              "\n",
              "  <style>\n",
              "    .colab-df-container {\n",
              "      display:flex;\n",
              "      gap: 12px;\n",
              "    }\n",
              "\n",
              "    .colab-df-convert {\n",
              "      background-color: #E8F0FE;\n",
              "      border: none;\n",
              "      border-radius: 50%;\n",
              "      cursor: pointer;\n",
              "      display: none;\n",
              "      fill: #1967D2;\n",
              "      height: 32px;\n",
              "      padding: 0 0 0 0;\n",
              "      width: 32px;\n",
              "    }\n",
              "\n",
              "    .colab-df-convert:hover {\n",
              "      background-color: #E2EBFA;\n",
              "      box-shadow: 0px 1px 2px rgba(60, 64, 67, 0.3), 0px 1px 3px 1px rgba(60, 64, 67, 0.15);\n",
              "      fill: #174EA6;\n",
              "    }\n",
              "\n",
              "    .colab-df-buttons div {\n",
              "      margin-bottom: 4px;\n",
              "    }\n",
              "\n",
              "    [theme=dark] .colab-df-convert {\n",
              "      background-color: #3B4455;\n",
              "      fill: #D2E3FC;\n",
              "    }\n",
              "\n",
              "    [theme=dark] .colab-df-convert:hover {\n",
              "      background-color: #434B5C;\n",
              "      box-shadow: 0px 1px 3px 1px rgba(0, 0, 0, 0.15);\n",
              "      filter: drop-shadow(0px 1px 2px rgba(0, 0, 0, 0.3));\n",
              "      fill: #FFFFFF;\n",
              "    }\n",
              "  </style>\n",
              "\n",
              "    <script>\n",
              "      const buttonEl =\n",
              "        document.querySelector('#df-f945420b-9ed6-4ff7-a7e9-14152cac4c5a button.colab-df-convert');\n",
              "      buttonEl.style.display =\n",
              "        google.colab.kernel.accessAllowed ? 'block' : 'none';\n",
              "\n",
              "      async function convertToInteractive(key) {\n",
              "        const element = document.querySelector('#df-f945420b-9ed6-4ff7-a7e9-14152cac4c5a');\n",
              "        const dataTable =\n",
              "          await google.colab.kernel.invokeFunction('convertToInteractive',\n",
              "                                                    [key], {});\n",
              "        if (!dataTable) return;\n",
              "\n",
              "        const docLinkHtml = 'Like what you see? Visit the ' +\n",
              "          '<a target=\"_blank\" href=https://colab.research.google.com/notebooks/data_table.ipynb>data table notebook</a>'\n",
              "          + ' to learn more about interactive tables.';\n",
              "        element.innerHTML = '';\n",
              "        dataTable['output_type'] = 'display_data';\n",
              "        await google.colab.output.renderOutput(dataTable, element);\n",
              "        const docLink = document.createElement('div');\n",
              "        docLink.innerHTML = docLinkHtml;\n",
              "        element.appendChild(docLink);\n",
              "      }\n",
              "    </script>\n",
              "  </div>\n",
              "\n",
              "\n",
              "<div id=\"df-368126e2-94a1-4bc8-958a-a286219e3f01\">\n",
              "  <button class=\"colab-df-quickchart\" onclick=\"quickchart('df-368126e2-94a1-4bc8-958a-a286219e3f01')\"\n",
              "            title=\"Suggest charts\"\n",
              "            style=\"display:none;\">\n",
              "\n",
              "<svg xmlns=\"http://www.w3.org/2000/svg\" height=\"24px\"viewBox=\"0 0 24 24\"\n",
              "     width=\"24px\">\n",
              "    <g>\n",
              "        <path d=\"M19 3H5c-1.1 0-2 .9-2 2v14c0 1.1.9 2 2 2h14c1.1 0 2-.9 2-2V5c0-1.1-.9-2-2-2zM9 17H7v-7h2v7zm4 0h-2V7h2v10zm4 0h-2v-4h2v4z\"/>\n",
              "    </g>\n",
              "</svg>\n",
              "  </button>\n",
              "\n",
              "<style>\n",
              "  .colab-df-quickchart {\n",
              "      --bg-color: #E8F0FE;\n",
              "      --fill-color: #1967D2;\n",
              "      --hover-bg-color: #E2EBFA;\n",
              "      --hover-fill-color: #174EA6;\n",
              "      --disabled-fill-color: #AAA;\n",
              "      --disabled-bg-color: #DDD;\n",
              "  }\n",
              "\n",
              "  [theme=dark] .colab-df-quickchart {\n",
              "      --bg-color: #3B4455;\n",
              "      --fill-color: #D2E3FC;\n",
              "      --hover-bg-color: #434B5C;\n",
              "      --hover-fill-color: #FFFFFF;\n",
              "      --disabled-bg-color: #3B4455;\n",
              "      --disabled-fill-color: #666;\n",
              "  }\n",
              "\n",
              "  .colab-df-quickchart {\n",
              "    background-color: var(--bg-color);\n",
              "    border: none;\n",
              "    border-radius: 50%;\n",
              "    cursor: pointer;\n",
              "    display: none;\n",
              "    fill: var(--fill-color);\n",
              "    height: 32px;\n",
              "    padding: 0;\n",
              "    width: 32px;\n",
              "  }\n",
              "\n",
              "  .colab-df-quickchart:hover {\n",
              "    background-color: var(--hover-bg-color);\n",
              "    box-shadow: 0 1px 2px rgba(60, 64, 67, 0.3), 0 1px 3px 1px rgba(60, 64, 67, 0.15);\n",
              "    fill: var(--button-hover-fill-color);\n",
              "  }\n",
              "\n",
              "  .colab-df-quickchart-complete:disabled,\n",
              "  .colab-df-quickchart-complete:disabled:hover {\n",
              "    background-color: var(--disabled-bg-color);\n",
              "    fill: var(--disabled-fill-color);\n",
              "    box-shadow: none;\n",
              "  }\n",
              "\n",
              "  .colab-df-spinner {\n",
              "    border: 2px solid var(--fill-color);\n",
              "    border-color: transparent;\n",
              "    border-bottom-color: var(--fill-color);\n",
              "    animation:\n",
              "      spin 1s steps(1) infinite;\n",
              "  }\n",
              "\n",
              "  @keyframes spin {\n",
              "    0% {\n",
              "      border-color: transparent;\n",
              "      border-bottom-color: var(--fill-color);\n",
              "      border-left-color: var(--fill-color);\n",
              "    }\n",
              "    20% {\n",
              "      border-color: transparent;\n",
              "      border-left-color: var(--fill-color);\n",
              "      border-top-color: var(--fill-color);\n",
              "    }\n",
              "    30% {\n",
              "      border-color: transparent;\n",
              "      border-left-color: var(--fill-color);\n",
              "      border-top-color: var(--fill-color);\n",
              "      border-right-color: var(--fill-color);\n",
              "    }\n",
              "    40% {\n",
              "      border-color: transparent;\n",
              "      border-right-color: var(--fill-color);\n",
              "      border-top-color: var(--fill-color);\n",
              "    }\n",
              "    60% {\n",
              "      border-color: transparent;\n",
              "      border-right-color: var(--fill-color);\n",
              "    }\n",
              "    80% {\n",
              "      border-color: transparent;\n",
              "      border-right-color: var(--fill-color);\n",
              "      border-bottom-color: var(--fill-color);\n",
              "    }\n",
              "    90% {\n",
              "      border-color: transparent;\n",
              "      border-bottom-color: var(--fill-color);\n",
              "    }\n",
              "  }\n",
              "</style>\n",
              "\n",
              "  <script>\n",
              "    async function quickchart(key) {\n",
              "      const quickchartButtonEl =\n",
              "        document.querySelector('#' + key + ' button');\n",
              "      quickchartButtonEl.disabled = true;  // To prevent multiple clicks.\n",
              "      quickchartButtonEl.classList.add('colab-df-spinner');\n",
              "      try {\n",
              "        const charts = await google.colab.kernel.invokeFunction(\n",
              "            'suggestCharts', [key], {});\n",
              "      } catch (error) {\n",
              "        console.error('Error during call to suggestCharts:', error);\n",
              "      }\n",
              "      quickchartButtonEl.classList.remove('colab-df-spinner');\n",
              "      quickchartButtonEl.classList.add('colab-df-quickchart-complete');\n",
              "    }\n",
              "    (() => {\n",
              "      let quickchartButtonEl =\n",
              "        document.querySelector('#df-368126e2-94a1-4bc8-958a-a286219e3f01 button');\n",
              "      quickchartButtonEl.style.display =\n",
              "        google.colab.kernel.accessAllowed ? 'block' : 'none';\n",
              "    })();\n",
              "  </script>\n",
              "</div>\n",
              "    </div>\n",
              "  </div>\n"
            ],
            "application/vnd.google.colaboratory.intrinsic+json": {
              "type": "dataframe",
              "variable_name": "df"
            }
          },
          "metadata": {},
          "execution_count": 3
        }
      ]
    },
    {
      "cell_type": "code",
      "source": [
        "df.info()"
      ],
      "metadata": {
        "id": "x-bahcML9LZI",
        "outputId": "8fda18a6-be22-4244-c473-2a032dc8e926",
        "colab": {
          "base_uri": "https://localhost:8080/"
        }
      },
      "execution_count": null,
      "outputs": [
        {
          "output_type": "stream",
          "name": "stdout",
          "text": [
            "<class 'pandas.core.frame.DataFrame'>\n",
            "RangeIndex: 569 entries, 0 to 568\n",
            "Data columns (total 33 columns):\n",
            " #   Column                   Non-Null Count  Dtype  \n",
            "---  ------                   --------------  -----  \n",
            " 0   id                       569 non-null    int64  \n",
            " 1   diagnosis                569 non-null    object \n",
            " 2   radius_mean              569 non-null    float64\n",
            " 3   texture_mean             569 non-null    float64\n",
            " 4   perimeter_mean           569 non-null    float64\n",
            " 5   area_mean                569 non-null    float64\n",
            " 6   smoothness_mean          569 non-null    float64\n",
            " 7   compactness_mean         569 non-null    float64\n",
            " 8   concavity_mean           569 non-null    float64\n",
            " 9   concave points_mean      569 non-null    float64\n",
            " 10  symmetry_mean            569 non-null    float64\n",
            " 11  fractal_dimension_mean   569 non-null    float64\n",
            " 12  radius_se                569 non-null    float64\n",
            " 13  texture_se               569 non-null    float64\n",
            " 14  perimeter_se             569 non-null    float64\n",
            " 15  area_se                  569 non-null    float64\n",
            " 16  smoothness_se            569 non-null    float64\n",
            " 17  compactness_se           569 non-null    float64\n",
            " 18  concavity_se             569 non-null    float64\n",
            " 19  concave points_se        569 non-null    float64\n",
            " 20  symmetry_se              569 non-null    float64\n",
            " 21  fractal_dimension_se     569 non-null    float64\n",
            " 22  radius_worst             569 non-null    float64\n",
            " 23  texture_worst            569 non-null    float64\n",
            " 24  perimeter_worst          569 non-null    float64\n",
            " 25  area_worst               569 non-null    float64\n",
            " 26  smoothness_worst         569 non-null    float64\n",
            " 27  compactness_worst        569 non-null    float64\n",
            " 28  concavity_worst          569 non-null    float64\n",
            " 29  concave points_worst     569 non-null    float64\n",
            " 30  symmetry_worst           569 non-null    float64\n",
            " 31  fractal_dimension_worst  569 non-null    float64\n",
            " 32  Unnamed: 32              0 non-null      float64\n",
            "dtypes: float64(31), int64(1), object(1)\n",
            "memory usage: 146.8+ KB\n"
          ]
        }
      ]
    },
    {
      "cell_type": "code",
      "source": [
        "df['Unnamed: 32']"
      ],
      "metadata": {
        "id": "wQmu8-sp_ExM",
        "outputId": "66bcbdc9-3038-44bb-abd4-ee84ecf20d89",
        "colab": {
          "base_uri": "https://localhost:8080/"
        }
      },
      "execution_count": null,
      "outputs": [
        {
          "output_type": "execute_result",
          "data": {
            "text/plain": [
              "0     NaN\n",
              "1     NaN\n",
              "2     NaN\n",
              "3     NaN\n",
              "4     NaN\n",
              "       ..\n",
              "564   NaN\n",
              "565   NaN\n",
              "566   NaN\n",
              "567   NaN\n",
              "568   NaN\n",
              "Name: Unnamed: 32, Length: 569, dtype: float64"
            ]
          },
          "metadata": {},
          "execution_count": 5
        }
      ]
    },
    {
      "cell_type": "code",
      "source": [
        "df = df.drop(['Unnamed: 32', 'id'],axis = 1)\n",
        "df"
      ],
      "metadata": {
        "id": "q5J4yih6BL6G",
        "outputId": "d2ea5e2c-4114-42cf-e8bf-97b19a69f13e",
        "colab": {
          "base_uri": "https://localhost:8080/",
          "height": 461
        }
      },
      "execution_count": null,
      "outputs": [
        {
          "output_type": "execute_result",
          "data": {
            "text/plain": [
              "    diagnosis  radius_mean  texture_mean  perimeter_mean  area_mean  \\\n",
              "0           M        17.99         10.38          122.80     1001.0   \n",
              "1           M        20.57         17.77          132.90     1326.0   \n",
              "2           M        19.69         21.25          130.00     1203.0   \n",
              "3           M        11.42         20.38           77.58      386.1   \n",
              "4           M        20.29         14.34          135.10     1297.0   \n",
              "..        ...          ...           ...             ...        ...   \n",
              "564         M        21.56         22.39          142.00     1479.0   \n",
              "565         M        20.13         28.25          131.20     1261.0   \n",
              "566         M        16.60         28.08          108.30      858.1   \n",
              "567         M        20.60         29.33          140.10     1265.0   \n",
              "568         B         7.76         24.54           47.92      181.0   \n",
              "\n",
              "     smoothness_mean  compactness_mean  concavity_mean  concave points_mean  \\\n",
              "0            0.11840           0.27760         0.30010              0.14710   \n",
              "1            0.08474           0.07864         0.08690              0.07017   \n",
              "2            0.10960           0.15990         0.19740              0.12790   \n",
              "3            0.14250           0.28390         0.24140              0.10520   \n",
              "4            0.10030           0.13280         0.19800              0.10430   \n",
              "..               ...               ...             ...                  ...   \n",
              "564          0.11100           0.11590         0.24390              0.13890   \n",
              "565          0.09780           0.10340         0.14400              0.09791   \n",
              "566          0.08455           0.10230         0.09251              0.05302   \n",
              "567          0.11780           0.27700         0.35140              0.15200   \n",
              "568          0.05263           0.04362         0.00000              0.00000   \n",
              "\n",
              "     symmetry_mean  ...  radius_worst  texture_worst  perimeter_worst  \\\n",
              "0           0.2419  ...        25.380          17.33           184.60   \n",
              "1           0.1812  ...        24.990          23.41           158.80   \n",
              "2           0.2069  ...        23.570          25.53           152.50   \n",
              "3           0.2597  ...        14.910          26.50            98.87   \n",
              "4           0.1809  ...        22.540          16.67           152.20   \n",
              "..             ...  ...           ...            ...              ...   \n",
              "564         0.1726  ...        25.450          26.40           166.10   \n",
              "565         0.1752  ...        23.690          38.25           155.00   \n",
              "566         0.1590  ...        18.980          34.12           126.70   \n",
              "567         0.2397  ...        25.740          39.42           184.60   \n",
              "568         0.1587  ...         9.456          30.37            59.16   \n",
              "\n",
              "     area_worst  smoothness_worst  compactness_worst  concavity_worst  \\\n",
              "0        2019.0           0.16220            0.66560           0.7119   \n",
              "1        1956.0           0.12380            0.18660           0.2416   \n",
              "2        1709.0           0.14440            0.42450           0.4504   \n",
              "3         567.7           0.20980            0.86630           0.6869   \n",
              "4        1575.0           0.13740            0.20500           0.4000   \n",
              "..          ...               ...                ...              ...   \n",
              "564      2027.0           0.14100            0.21130           0.4107   \n",
              "565      1731.0           0.11660            0.19220           0.3215   \n",
              "566      1124.0           0.11390            0.30940           0.3403   \n",
              "567      1821.0           0.16500            0.86810           0.9387   \n",
              "568       268.6           0.08996            0.06444           0.0000   \n",
              "\n",
              "     concave points_worst  symmetry_worst  fractal_dimension_worst  \n",
              "0                  0.2654          0.4601                  0.11890  \n",
              "1                  0.1860          0.2750                  0.08902  \n",
              "2                  0.2430          0.3613                  0.08758  \n",
              "3                  0.2575          0.6638                  0.17300  \n",
              "4                  0.1625          0.2364                  0.07678  \n",
              "..                    ...             ...                      ...  \n",
              "564                0.2216          0.2060                  0.07115  \n",
              "565                0.1628          0.2572                  0.06637  \n",
              "566                0.1418          0.2218                  0.07820  \n",
              "567                0.2650          0.4087                  0.12400  \n",
              "568                0.0000          0.2871                  0.07039  \n",
              "\n",
              "[569 rows x 31 columns]"
            ],
            "text/html": [
              "\n",
              "  <div id=\"df-2c1652ab-1287-4e30-89ef-6b97f78c8963\" class=\"colab-df-container\">\n",
              "    <div>\n",
              "<style scoped>\n",
              "    .dataframe tbody tr th:only-of-type {\n",
              "        vertical-align: middle;\n",
              "    }\n",
              "\n",
              "    .dataframe tbody tr th {\n",
              "        vertical-align: top;\n",
              "    }\n",
              "\n",
              "    .dataframe thead th {\n",
              "        text-align: right;\n",
              "    }\n",
              "</style>\n",
              "<table border=\"1\" class=\"dataframe\">\n",
              "  <thead>\n",
              "    <tr style=\"text-align: right;\">\n",
              "      <th></th>\n",
              "      <th>diagnosis</th>\n",
              "      <th>radius_mean</th>\n",
              "      <th>texture_mean</th>\n",
              "      <th>perimeter_mean</th>\n",
              "      <th>area_mean</th>\n",
              "      <th>smoothness_mean</th>\n",
              "      <th>compactness_mean</th>\n",
              "      <th>concavity_mean</th>\n",
              "      <th>concave points_mean</th>\n",
              "      <th>symmetry_mean</th>\n",
              "      <th>...</th>\n",
              "      <th>radius_worst</th>\n",
              "      <th>texture_worst</th>\n",
              "      <th>perimeter_worst</th>\n",
              "      <th>area_worst</th>\n",
              "      <th>smoothness_worst</th>\n",
              "      <th>compactness_worst</th>\n",
              "      <th>concavity_worst</th>\n",
              "      <th>concave points_worst</th>\n",
              "      <th>symmetry_worst</th>\n",
              "      <th>fractal_dimension_worst</th>\n",
              "    </tr>\n",
              "  </thead>\n",
              "  <tbody>\n",
              "    <tr>\n",
              "      <th>0</th>\n",
              "      <td>M</td>\n",
              "      <td>17.99</td>\n",
              "      <td>10.38</td>\n",
              "      <td>122.80</td>\n",
              "      <td>1001.0</td>\n",
              "      <td>0.11840</td>\n",
              "      <td>0.27760</td>\n",
              "      <td>0.30010</td>\n",
              "      <td>0.14710</td>\n",
              "      <td>0.2419</td>\n",
              "      <td>...</td>\n",
              "      <td>25.380</td>\n",
              "      <td>17.33</td>\n",
              "      <td>184.60</td>\n",
              "      <td>2019.0</td>\n",
              "      <td>0.16220</td>\n",
              "      <td>0.66560</td>\n",
              "      <td>0.7119</td>\n",
              "      <td>0.2654</td>\n",
              "      <td>0.4601</td>\n",
              "      <td>0.11890</td>\n",
              "    </tr>\n",
              "    <tr>\n",
              "      <th>1</th>\n",
              "      <td>M</td>\n",
              "      <td>20.57</td>\n",
              "      <td>17.77</td>\n",
              "      <td>132.90</td>\n",
              "      <td>1326.0</td>\n",
              "      <td>0.08474</td>\n",
              "      <td>0.07864</td>\n",
              "      <td>0.08690</td>\n",
              "      <td>0.07017</td>\n",
              "      <td>0.1812</td>\n",
              "      <td>...</td>\n",
              "      <td>24.990</td>\n",
              "      <td>23.41</td>\n",
              "      <td>158.80</td>\n",
              "      <td>1956.0</td>\n",
              "      <td>0.12380</td>\n",
              "      <td>0.18660</td>\n",
              "      <td>0.2416</td>\n",
              "      <td>0.1860</td>\n",
              "      <td>0.2750</td>\n",
              "      <td>0.08902</td>\n",
              "    </tr>\n",
              "    <tr>\n",
              "      <th>2</th>\n",
              "      <td>M</td>\n",
              "      <td>19.69</td>\n",
              "      <td>21.25</td>\n",
              "      <td>130.00</td>\n",
              "      <td>1203.0</td>\n",
              "      <td>0.10960</td>\n",
              "      <td>0.15990</td>\n",
              "      <td>0.19740</td>\n",
              "      <td>0.12790</td>\n",
              "      <td>0.2069</td>\n",
              "      <td>...</td>\n",
              "      <td>23.570</td>\n",
              "      <td>25.53</td>\n",
              "      <td>152.50</td>\n",
              "      <td>1709.0</td>\n",
              "      <td>0.14440</td>\n",
              "      <td>0.42450</td>\n",
              "      <td>0.4504</td>\n",
              "      <td>0.2430</td>\n",
              "      <td>0.3613</td>\n",
              "      <td>0.08758</td>\n",
              "    </tr>\n",
              "    <tr>\n",
              "      <th>3</th>\n",
              "      <td>M</td>\n",
              "      <td>11.42</td>\n",
              "      <td>20.38</td>\n",
              "      <td>77.58</td>\n",
              "      <td>386.1</td>\n",
              "      <td>0.14250</td>\n",
              "      <td>0.28390</td>\n",
              "      <td>0.24140</td>\n",
              "      <td>0.10520</td>\n",
              "      <td>0.2597</td>\n",
              "      <td>...</td>\n",
              "      <td>14.910</td>\n",
              "      <td>26.50</td>\n",
              "      <td>98.87</td>\n",
              "      <td>567.7</td>\n",
              "      <td>0.20980</td>\n",
              "      <td>0.86630</td>\n",
              "      <td>0.6869</td>\n",
              "      <td>0.2575</td>\n",
              "      <td>0.6638</td>\n",
              "      <td>0.17300</td>\n",
              "    </tr>\n",
              "    <tr>\n",
              "      <th>4</th>\n",
              "      <td>M</td>\n",
              "      <td>20.29</td>\n",
              "      <td>14.34</td>\n",
              "      <td>135.10</td>\n",
              "      <td>1297.0</td>\n",
              "      <td>0.10030</td>\n",
              "      <td>0.13280</td>\n",
              "      <td>0.19800</td>\n",
              "      <td>0.10430</td>\n",
              "      <td>0.1809</td>\n",
              "      <td>...</td>\n",
              "      <td>22.540</td>\n",
              "      <td>16.67</td>\n",
              "      <td>152.20</td>\n",
              "      <td>1575.0</td>\n",
              "      <td>0.13740</td>\n",
              "      <td>0.20500</td>\n",
              "      <td>0.4000</td>\n",
              "      <td>0.1625</td>\n",
              "      <td>0.2364</td>\n",
              "      <td>0.07678</td>\n",
              "    </tr>\n",
              "    <tr>\n",
              "      <th>...</th>\n",
              "      <td>...</td>\n",
              "      <td>...</td>\n",
              "      <td>...</td>\n",
              "      <td>...</td>\n",
              "      <td>...</td>\n",
              "      <td>...</td>\n",
              "      <td>...</td>\n",
              "      <td>...</td>\n",
              "      <td>...</td>\n",
              "      <td>...</td>\n",
              "      <td>...</td>\n",
              "      <td>...</td>\n",
              "      <td>...</td>\n",
              "      <td>...</td>\n",
              "      <td>...</td>\n",
              "      <td>...</td>\n",
              "      <td>...</td>\n",
              "      <td>...</td>\n",
              "      <td>...</td>\n",
              "      <td>...</td>\n",
              "      <td>...</td>\n",
              "    </tr>\n",
              "    <tr>\n",
              "      <th>564</th>\n",
              "      <td>M</td>\n",
              "      <td>21.56</td>\n",
              "      <td>22.39</td>\n",
              "      <td>142.00</td>\n",
              "      <td>1479.0</td>\n",
              "      <td>0.11100</td>\n",
              "      <td>0.11590</td>\n",
              "      <td>0.24390</td>\n",
              "      <td>0.13890</td>\n",
              "      <td>0.1726</td>\n",
              "      <td>...</td>\n",
              "      <td>25.450</td>\n",
              "      <td>26.40</td>\n",
              "      <td>166.10</td>\n",
              "      <td>2027.0</td>\n",
              "      <td>0.14100</td>\n",
              "      <td>0.21130</td>\n",
              "      <td>0.4107</td>\n",
              "      <td>0.2216</td>\n",
              "      <td>0.2060</td>\n",
              "      <td>0.07115</td>\n",
              "    </tr>\n",
              "    <tr>\n",
              "      <th>565</th>\n",
              "      <td>M</td>\n",
              "      <td>20.13</td>\n",
              "      <td>28.25</td>\n",
              "      <td>131.20</td>\n",
              "      <td>1261.0</td>\n",
              "      <td>0.09780</td>\n",
              "      <td>0.10340</td>\n",
              "      <td>0.14400</td>\n",
              "      <td>0.09791</td>\n",
              "      <td>0.1752</td>\n",
              "      <td>...</td>\n",
              "      <td>23.690</td>\n",
              "      <td>38.25</td>\n",
              "      <td>155.00</td>\n",
              "      <td>1731.0</td>\n",
              "      <td>0.11660</td>\n",
              "      <td>0.19220</td>\n",
              "      <td>0.3215</td>\n",
              "      <td>0.1628</td>\n",
              "      <td>0.2572</td>\n",
              "      <td>0.06637</td>\n",
              "    </tr>\n",
              "    <tr>\n",
              "      <th>566</th>\n",
              "      <td>M</td>\n",
              "      <td>16.60</td>\n",
              "      <td>28.08</td>\n",
              "      <td>108.30</td>\n",
              "      <td>858.1</td>\n",
              "      <td>0.08455</td>\n",
              "      <td>0.10230</td>\n",
              "      <td>0.09251</td>\n",
              "      <td>0.05302</td>\n",
              "      <td>0.1590</td>\n",
              "      <td>...</td>\n",
              "      <td>18.980</td>\n",
              "      <td>34.12</td>\n",
              "      <td>126.70</td>\n",
              "      <td>1124.0</td>\n",
              "      <td>0.11390</td>\n",
              "      <td>0.30940</td>\n",
              "      <td>0.3403</td>\n",
              "      <td>0.1418</td>\n",
              "      <td>0.2218</td>\n",
              "      <td>0.07820</td>\n",
              "    </tr>\n",
              "    <tr>\n",
              "      <th>567</th>\n",
              "      <td>M</td>\n",
              "      <td>20.60</td>\n",
              "      <td>29.33</td>\n",
              "      <td>140.10</td>\n",
              "      <td>1265.0</td>\n",
              "      <td>0.11780</td>\n",
              "      <td>0.27700</td>\n",
              "      <td>0.35140</td>\n",
              "      <td>0.15200</td>\n",
              "      <td>0.2397</td>\n",
              "      <td>...</td>\n",
              "      <td>25.740</td>\n",
              "      <td>39.42</td>\n",
              "      <td>184.60</td>\n",
              "      <td>1821.0</td>\n",
              "      <td>0.16500</td>\n",
              "      <td>0.86810</td>\n",
              "      <td>0.9387</td>\n",
              "      <td>0.2650</td>\n",
              "      <td>0.4087</td>\n",
              "      <td>0.12400</td>\n",
              "    </tr>\n",
              "    <tr>\n",
              "      <th>568</th>\n",
              "      <td>B</td>\n",
              "      <td>7.76</td>\n",
              "      <td>24.54</td>\n",
              "      <td>47.92</td>\n",
              "      <td>181.0</td>\n",
              "      <td>0.05263</td>\n",
              "      <td>0.04362</td>\n",
              "      <td>0.00000</td>\n",
              "      <td>0.00000</td>\n",
              "      <td>0.1587</td>\n",
              "      <td>...</td>\n",
              "      <td>9.456</td>\n",
              "      <td>30.37</td>\n",
              "      <td>59.16</td>\n",
              "      <td>268.6</td>\n",
              "      <td>0.08996</td>\n",
              "      <td>0.06444</td>\n",
              "      <td>0.0000</td>\n",
              "      <td>0.0000</td>\n",
              "      <td>0.2871</td>\n",
              "      <td>0.07039</td>\n",
              "    </tr>\n",
              "  </tbody>\n",
              "</table>\n",
              "<p>569 rows × 31 columns</p>\n",
              "</div>\n",
              "    <div class=\"colab-df-buttons\">\n",
              "\n",
              "  <div class=\"colab-df-container\">\n",
              "    <button class=\"colab-df-convert\" onclick=\"convertToInteractive('df-2c1652ab-1287-4e30-89ef-6b97f78c8963')\"\n",
              "            title=\"Convert this dataframe to an interactive table.\"\n",
              "            style=\"display:none;\">\n",
              "\n",
              "  <svg xmlns=\"http://www.w3.org/2000/svg\" height=\"24px\" viewBox=\"0 -960 960 960\">\n",
              "    <path d=\"M120-120v-720h720v720H120Zm60-500h600v-160H180v160Zm220 220h160v-160H400v160Zm0 220h160v-160H400v160ZM180-400h160v-160H180v160Zm440 0h160v-160H620v160ZM180-180h160v-160H180v160Zm440 0h160v-160H620v160Z\"/>\n",
              "  </svg>\n",
              "    </button>\n",
              "\n",
              "  <style>\n",
              "    .colab-df-container {\n",
              "      display:flex;\n",
              "      gap: 12px;\n",
              "    }\n",
              "\n",
              "    .colab-df-convert {\n",
              "      background-color: #E8F0FE;\n",
              "      border: none;\n",
              "      border-radius: 50%;\n",
              "      cursor: pointer;\n",
              "      display: none;\n",
              "      fill: #1967D2;\n",
              "      height: 32px;\n",
              "      padding: 0 0 0 0;\n",
              "      width: 32px;\n",
              "    }\n",
              "\n",
              "    .colab-df-convert:hover {\n",
              "      background-color: #E2EBFA;\n",
              "      box-shadow: 0px 1px 2px rgba(60, 64, 67, 0.3), 0px 1px 3px 1px rgba(60, 64, 67, 0.15);\n",
              "      fill: #174EA6;\n",
              "    }\n",
              "\n",
              "    .colab-df-buttons div {\n",
              "      margin-bottom: 4px;\n",
              "    }\n",
              "\n",
              "    [theme=dark] .colab-df-convert {\n",
              "      background-color: #3B4455;\n",
              "      fill: #D2E3FC;\n",
              "    }\n",
              "\n",
              "    [theme=dark] .colab-df-convert:hover {\n",
              "      background-color: #434B5C;\n",
              "      box-shadow: 0px 1px 3px 1px rgba(0, 0, 0, 0.15);\n",
              "      filter: drop-shadow(0px 1px 2px rgba(0, 0, 0, 0.3));\n",
              "      fill: #FFFFFF;\n",
              "    }\n",
              "  </style>\n",
              "\n",
              "    <script>\n",
              "      const buttonEl =\n",
              "        document.querySelector('#df-2c1652ab-1287-4e30-89ef-6b97f78c8963 button.colab-df-convert');\n",
              "      buttonEl.style.display =\n",
              "        google.colab.kernel.accessAllowed ? 'block' : 'none';\n",
              "\n",
              "      async function convertToInteractive(key) {\n",
              "        const element = document.querySelector('#df-2c1652ab-1287-4e30-89ef-6b97f78c8963');\n",
              "        const dataTable =\n",
              "          await google.colab.kernel.invokeFunction('convertToInteractive',\n",
              "                                                    [key], {});\n",
              "        if (!dataTable) return;\n",
              "\n",
              "        const docLinkHtml = 'Like what you see? Visit the ' +\n",
              "          '<a target=\"_blank\" href=https://colab.research.google.com/notebooks/data_table.ipynb>data table notebook</a>'\n",
              "          + ' to learn more about interactive tables.';\n",
              "        element.innerHTML = '';\n",
              "        dataTable['output_type'] = 'display_data';\n",
              "        await google.colab.output.renderOutput(dataTable, element);\n",
              "        const docLink = document.createElement('div');\n",
              "        docLink.innerHTML = docLinkHtml;\n",
              "        element.appendChild(docLink);\n",
              "      }\n",
              "    </script>\n",
              "  </div>\n",
              "\n",
              "\n",
              "<div id=\"df-7a803477-412e-4647-8772-a4e09db026b7\">\n",
              "  <button class=\"colab-df-quickchart\" onclick=\"quickchart('df-7a803477-412e-4647-8772-a4e09db026b7')\"\n",
              "            title=\"Suggest charts\"\n",
              "            style=\"display:none;\">\n",
              "\n",
              "<svg xmlns=\"http://www.w3.org/2000/svg\" height=\"24px\"viewBox=\"0 0 24 24\"\n",
              "     width=\"24px\">\n",
              "    <g>\n",
              "        <path d=\"M19 3H5c-1.1 0-2 .9-2 2v14c0 1.1.9 2 2 2h14c1.1 0 2-.9 2-2V5c0-1.1-.9-2-2-2zM9 17H7v-7h2v7zm4 0h-2V7h2v10zm4 0h-2v-4h2v4z\"/>\n",
              "    </g>\n",
              "</svg>\n",
              "  </button>\n",
              "\n",
              "<style>\n",
              "  .colab-df-quickchart {\n",
              "      --bg-color: #E8F0FE;\n",
              "      --fill-color: #1967D2;\n",
              "      --hover-bg-color: #E2EBFA;\n",
              "      --hover-fill-color: #174EA6;\n",
              "      --disabled-fill-color: #AAA;\n",
              "      --disabled-bg-color: #DDD;\n",
              "  }\n",
              "\n",
              "  [theme=dark] .colab-df-quickchart {\n",
              "      --bg-color: #3B4455;\n",
              "      --fill-color: #D2E3FC;\n",
              "      --hover-bg-color: #434B5C;\n",
              "      --hover-fill-color: #FFFFFF;\n",
              "      --disabled-bg-color: #3B4455;\n",
              "      --disabled-fill-color: #666;\n",
              "  }\n",
              "\n",
              "  .colab-df-quickchart {\n",
              "    background-color: var(--bg-color);\n",
              "    border: none;\n",
              "    border-radius: 50%;\n",
              "    cursor: pointer;\n",
              "    display: none;\n",
              "    fill: var(--fill-color);\n",
              "    height: 32px;\n",
              "    padding: 0;\n",
              "    width: 32px;\n",
              "  }\n",
              "\n",
              "  .colab-df-quickchart:hover {\n",
              "    background-color: var(--hover-bg-color);\n",
              "    box-shadow: 0 1px 2px rgba(60, 64, 67, 0.3), 0 1px 3px 1px rgba(60, 64, 67, 0.15);\n",
              "    fill: var(--button-hover-fill-color);\n",
              "  }\n",
              "\n",
              "  .colab-df-quickchart-complete:disabled,\n",
              "  .colab-df-quickchart-complete:disabled:hover {\n",
              "    background-color: var(--disabled-bg-color);\n",
              "    fill: var(--disabled-fill-color);\n",
              "    box-shadow: none;\n",
              "  }\n",
              "\n",
              "  .colab-df-spinner {\n",
              "    border: 2px solid var(--fill-color);\n",
              "    border-color: transparent;\n",
              "    border-bottom-color: var(--fill-color);\n",
              "    animation:\n",
              "      spin 1s steps(1) infinite;\n",
              "  }\n",
              "\n",
              "  @keyframes spin {\n",
              "    0% {\n",
              "      border-color: transparent;\n",
              "      border-bottom-color: var(--fill-color);\n",
              "      border-left-color: var(--fill-color);\n",
              "    }\n",
              "    20% {\n",
              "      border-color: transparent;\n",
              "      border-left-color: var(--fill-color);\n",
              "      border-top-color: var(--fill-color);\n",
              "    }\n",
              "    30% {\n",
              "      border-color: transparent;\n",
              "      border-left-color: var(--fill-color);\n",
              "      border-top-color: var(--fill-color);\n",
              "      border-right-color: var(--fill-color);\n",
              "    }\n",
              "    40% {\n",
              "      border-color: transparent;\n",
              "      border-right-color: var(--fill-color);\n",
              "      border-top-color: var(--fill-color);\n",
              "    }\n",
              "    60% {\n",
              "      border-color: transparent;\n",
              "      border-right-color: var(--fill-color);\n",
              "    }\n",
              "    80% {\n",
              "      border-color: transparent;\n",
              "      border-right-color: var(--fill-color);\n",
              "      border-bottom-color: var(--fill-color);\n",
              "    }\n",
              "    90% {\n",
              "      border-color: transparent;\n",
              "      border-bottom-color: var(--fill-color);\n",
              "    }\n",
              "  }\n",
              "</style>\n",
              "\n",
              "  <script>\n",
              "    async function quickchart(key) {\n",
              "      const quickchartButtonEl =\n",
              "        document.querySelector('#' + key + ' button');\n",
              "      quickchartButtonEl.disabled = true;  // To prevent multiple clicks.\n",
              "      quickchartButtonEl.classList.add('colab-df-spinner');\n",
              "      try {\n",
              "        const charts = await google.colab.kernel.invokeFunction(\n",
              "            'suggestCharts', [key], {});\n",
              "      } catch (error) {\n",
              "        console.error('Error during call to suggestCharts:', error);\n",
              "      }\n",
              "      quickchartButtonEl.classList.remove('colab-df-spinner');\n",
              "      quickchartButtonEl.classList.add('colab-df-quickchart-complete');\n",
              "    }\n",
              "    (() => {\n",
              "      let quickchartButtonEl =\n",
              "        document.querySelector('#df-7a803477-412e-4647-8772-a4e09db026b7 button');\n",
              "      quickchartButtonEl.style.display =\n",
              "        google.colab.kernel.accessAllowed ? 'block' : 'none';\n",
              "    })();\n",
              "  </script>\n",
              "</div>\n",
              "    </div>\n",
              "  </div>\n"
            ],
            "application/vnd.google.colaboratory.intrinsic+json": {
              "type": "dataframe",
              "variable_name": "df"
            }
          },
          "metadata": {},
          "execution_count": 6
        }
      ]
    },
    {
      "cell_type": "code",
      "source": [
        "df.info()"
      ],
      "metadata": {
        "id": "wrCaXhGetcVX",
        "outputId": "51c21ba6-0528-43bd-a4e8-e0ea171e312c",
        "colab": {
          "base_uri": "https://localhost:8080/"
        }
      },
      "execution_count": null,
      "outputs": [
        {
          "output_type": "stream",
          "name": "stdout",
          "text": [
            "<class 'pandas.core.frame.DataFrame'>\n",
            "RangeIndex: 569 entries, 0 to 568\n",
            "Data columns (total 31 columns):\n",
            " #   Column                   Non-Null Count  Dtype  \n",
            "---  ------                   --------------  -----  \n",
            " 0   diagnosis                569 non-null    object \n",
            " 1   radius_mean              569 non-null    float64\n",
            " 2   texture_mean             569 non-null    float64\n",
            " 3   perimeter_mean           569 non-null    float64\n",
            " 4   area_mean                569 non-null    float64\n",
            " 5   smoothness_mean          569 non-null    float64\n",
            " 6   compactness_mean         569 non-null    float64\n",
            " 7   concavity_mean           569 non-null    float64\n",
            " 8   concave points_mean      569 non-null    float64\n",
            " 9   symmetry_mean            569 non-null    float64\n",
            " 10  fractal_dimension_mean   569 non-null    float64\n",
            " 11  radius_se                569 non-null    float64\n",
            " 12  texture_se               569 non-null    float64\n",
            " 13  perimeter_se             569 non-null    float64\n",
            " 14  area_se                  569 non-null    float64\n",
            " 15  smoothness_se            569 non-null    float64\n",
            " 16  compactness_se           569 non-null    float64\n",
            " 17  concavity_se             569 non-null    float64\n",
            " 18  concave points_se        569 non-null    float64\n",
            " 19  symmetry_se              569 non-null    float64\n",
            " 20  fractal_dimension_se     569 non-null    float64\n",
            " 21  radius_worst             569 non-null    float64\n",
            " 22  texture_worst            569 non-null    float64\n",
            " 23  perimeter_worst          569 non-null    float64\n",
            " 24  area_worst               569 non-null    float64\n",
            " 25  smoothness_worst         569 non-null    float64\n",
            " 26  compactness_worst        569 non-null    float64\n",
            " 27  concavity_worst          569 non-null    float64\n",
            " 28  concave points_worst     569 non-null    float64\n",
            " 29  symmetry_worst           569 non-null    float64\n",
            " 30  fractal_dimension_worst  569 non-null    float64\n",
            "dtypes: float64(30), object(1)\n",
            "memory usage: 137.9+ KB\n"
          ]
        }
      ]
    },
    {
      "cell_type": "code",
      "source": [
        "df.describe().T"
      ],
      "metadata": {
        "id": "HZL-KqepBTSs",
        "outputId": "eaa34a94-8825-4a61-c57a-7c2b369d617d",
        "colab": {
          "base_uri": "https://localhost:8080/",
          "height": 990
        }
      },
      "execution_count": null,
      "outputs": [
        {
          "output_type": "execute_result",
          "data": {
            "text/plain": [
              "                         count        mean         std         min  \\\n",
              "radius_mean              569.0   14.127292    3.524049    6.981000   \n",
              "texture_mean             569.0   19.289649    4.301036    9.710000   \n",
              "perimeter_mean           569.0   91.969033   24.298981   43.790000   \n",
              "area_mean                569.0  654.889104  351.914129  143.500000   \n",
              "smoothness_mean          569.0    0.096360    0.014064    0.052630   \n",
              "compactness_mean         569.0    0.104341    0.052813    0.019380   \n",
              "concavity_mean           569.0    0.088799    0.079720    0.000000   \n",
              "concave points_mean      569.0    0.048919    0.038803    0.000000   \n",
              "symmetry_mean            569.0    0.181162    0.027414    0.106000   \n",
              "fractal_dimension_mean   569.0    0.062798    0.007060    0.049960   \n",
              "radius_se                569.0    0.405172    0.277313    0.111500   \n",
              "texture_se               569.0    1.216853    0.551648    0.360200   \n",
              "perimeter_se             569.0    2.866059    2.021855    0.757000   \n",
              "area_se                  569.0   40.337079   45.491006    6.802000   \n",
              "smoothness_se            569.0    0.007041    0.003003    0.001713   \n",
              "compactness_se           569.0    0.025478    0.017908    0.002252   \n",
              "concavity_se             569.0    0.031894    0.030186    0.000000   \n",
              "concave points_se        569.0    0.011796    0.006170    0.000000   \n",
              "symmetry_se              569.0    0.020542    0.008266    0.007882   \n",
              "fractal_dimension_se     569.0    0.003795    0.002646    0.000895   \n",
              "radius_worst             569.0   16.269190    4.833242    7.930000   \n",
              "texture_worst            569.0   25.677223    6.146258   12.020000   \n",
              "perimeter_worst          569.0  107.261213   33.602542   50.410000   \n",
              "area_worst               569.0  880.583128  569.356993  185.200000   \n",
              "smoothness_worst         569.0    0.132369    0.022832    0.071170   \n",
              "compactness_worst        569.0    0.254265    0.157336    0.027290   \n",
              "concavity_worst          569.0    0.272188    0.208624    0.000000   \n",
              "concave points_worst     569.0    0.114606    0.065732    0.000000   \n",
              "symmetry_worst           569.0    0.290076    0.061867    0.156500   \n",
              "fractal_dimension_worst  569.0    0.083946    0.018061    0.055040   \n",
              "\n",
              "                                25%         50%          75%         max  \n",
              "radius_mean               11.700000   13.370000    15.780000    28.11000  \n",
              "texture_mean              16.170000   18.840000    21.800000    39.28000  \n",
              "perimeter_mean            75.170000   86.240000   104.100000   188.50000  \n",
              "area_mean                420.300000  551.100000   782.700000  2501.00000  \n",
              "smoothness_mean            0.086370    0.095870     0.105300     0.16340  \n",
              "compactness_mean           0.064920    0.092630     0.130400     0.34540  \n",
              "concavity_mean             0.029560    0.061540     0.130700     0.42680  \n",
              "concave points_mean        0.020310    0.033500     0.074000     0.20120  \n",
              "symmetry_mean              0.161900    0.179200     0.195700     0.30400  \n",
              "fractal_dimension_mean     0.057700    0.061540     0.066120     0.09744  \n",
              "radius_se                  0.232400    0.324200     0.478900     2.87300  \n",
              "texture_se                 0.833900    1.108000     1.474000     4.88500  \n",
              "perimeter_se               1.606000    2.287000     3.357000    21.98000  \n",
              "area_se                   17.850000   24.530000    45.190000   542.20000  \n",
              "smoothness_se              0.005169    0.006380     0.008146     0.03113  \n",
              "compactness_se             0.013080    0.020450     0.032450     0.13540  \n",
              "concavity_se               0.015090    0.025890     0.042050     0.39600  \n",
              "concave points_se          0.007638    0.010930     0.014710     0.05279  \n",
              "symmetry_se                0.015160    0.018730     0.023480     0.07895  \n",
              "fractal_dimension_se       0.002248    0.003187     0.004558     0.02984  \n",
              "radius_worst              13.010000   14.970000    18.790000    36.04000  \n",
              "texture_worst             21.080000   25.410000    29.720000    49.54000  \n",
              "perimeter_worst           84.110000   97.660000   125.400000   251.20000  \n",
              "area_worst               515.300000  686.500000  1084.000000  4254.00000  \n",
              "smoothness_worst           0.116600    0.131300     0.146000     0.22260  \n",
              "compactness_worst          0.147200    0.211900     0.339100     1.05800  \n",
              "concavity_worst            0.114500    0.226700     0.382900     1.25200  \n",
              "concave points_worst       0.064930    0.099930     0.161400     0.29100  \n",
              "symmetry_worst             0.250400    0.282200     0.317900     0.66380  \n",
              "fractal_dimension_worst    0.071460    0.080040     0.092080     0.20750  "
            ],
            "text/html": [
              "\n",
              "  <div id=\"df-75f6e36d-af85-4c6f-a16b-4a4fa9734469\" class=\"colab-df-container\">\n",
              "    <div>\n",
              "<style scoped>\n",
              "    .dataframe tbody tr th:only-of-type {\n",
              "        vertical-align: middle;\n",
              "    }\n",
              "\n",
              "    .dataframe tbody tr th {\n",
              "        vertical-align: top;\n",
              "    }\n",
              "\n",
              "    .dataframe thead th {\n",
              "        text-align: right;\n",
              "    }\n",
              "</style>\n",
              "<table border=\"1\" class=\"dataframe\">\n",
              "  <thead>\n",
              "    <tr style=\"text-align: right;\">\n",
              "      <th></th>\n",
              "      <th>count</th>\n",
              "      <th>mean</th>\n",
              "      <th>std</th>\n",
              "      <th>min</th>\n",
              "      <th>25%</th>\n",
              "      <th>50%</th>\n",
              "      <th>75%</th>\n",
              "      <th>max</th>\n",
              "    </tr>\n",
              "  </thead>\n",
              "  <tbody>\n",
              "    <tr>\n",
              "      <th>radius_mean</th>\n",
              "      <td>569.0</td>\n",
              "      <td>14.127292</td>\n",
              "      <td>3.524049</td>\n",
              "      <td>6.981000</td>\n",
              "      <td>11.700000</td>\n",
              "      <td>13.370000</td>\n",
              "      <td>15.780000</td>\n",
              "      <td>28.11000</td>\n",
              "    </tr>\n",
              "    <tr>\n",
              "      <th>texture_mean</th>\n",
              "      <td>569.0</td>\n",
              "      <td>19.289649</td>\n",
              "      <td>4.301036</td>\n",
              "      <td>9.710000</td>\n",
              "      <td>16.170000</td>\n",
              "      <td>18.840000</td>\n",
              "      <td>21.800000</td>\n",
              "      <td>39.28000</td>\n",
              "    </tr>\n",
              "    <tr>\n",
              "      <th>perimeter_mean</th>\n",
              "      <td>569.0</td>\n",
              "      <td>91.969033</td>\n",
              "      <td>24.298981</td>\n",
              "      <td>43.790000</td>\n",
              "      <td>75.170000</td>\n",
              "      <td>86.240000</td>\n",
              "      <td>104.100000</td>\n",
              "      <td>188.50000</td>\n",
              "    </tr>\n",
              "    <tr>\n",
              "      <th>area_mean</th>\n",
              "      <td>569.0</td>\n",
              "      <td>654.889104</td>\n",
              "      <td>351.914129</td>\n",
              "      <td>143.500000</td>\n",
              "      <td>420.300000</td>\n",
              "      <td>551.100000</td>\n",
              "      <td>782.700000</td>\n",
              "      <td>2501.00000</td>\n",
              "    </tr>\n",
              "    <tr>\n",
              "      <th>smoothness_mean</th>\n",
              "      <td>569.0</td>\n",
              "      <td>0.096360</td>\n",
              "      <td>0.014064</td>\n",
              "      <td>0.052630</td>\n",
              "      <td>0.086370</td>\n",
              "      <td>0.095870</td>\n",
              "      <td>0.105300</td>\n",
              "      <td>0.16340</td>\n",
              "    </tr>\n",
              "    <tr>\n",
              "      <th>compactness_mean</th>\n",
              "      <td>569.0</td>\n",
              "      <td>0.104341</td>\n",
              "      <td>0.052813</td>\n",
              "      <td>0.019380</td>\n",
              "      <td>0.064920</td>\n",
              "      <td>0.092630</td>\n",
              "      <td>0.130400</td>\n",
              "      <td>0.34540</td>\n",
              "    </tr>\n",
              "    <tr>\n",
              "      <th>concavity_mean</th>\n",
              "      <td>569.0</td>\n",
              "      <td>0.088799</td>\n",
              "      <td>0.079720</td>\n",
              "      <td>0.000000</td>\n",
              "      <td>0.029560</td>\n",
              "      <td>0.061540</td>\n",
              "      <td>0.130700</td>\n",
              "      <td>0.42680</td>\n",
              "    </tr>\n",
              "    <tr>\n",
              "      <th>concave points_mean</th>\n",
              "      <td>569.0</td>\n",
              "      <td>0.048919</td>\n",
              "      <td>0.038803</td>\n",
              "      <td>0.000000</td>\n",
              "      <td>0.020310</td>\n",
              "      <td>0.033500</td>\n",
              "      <td>0.074000</td>\n",
              "      <td>0.20120</td>\n",
              "    </tr>\n",
              "    <tr>\n",
              "      <th>symmetry_mean</th>\n",
              "      <td>569.0</td>\n",
              "      <td>0.181162</td>\n",
              "      <td>0.027414</td>\n",
              "      <td>0.106000</td>\n",
              "      <td>0.161900</td>\n",
              "      <td>0.179200</td>\n",
              "      <td>0.195700</td>\n",
              "      <td>0.30400</td>\n",
              "    </tr>\n",
              "    <tr>\n",
              "      <th>fractal_dimension_mean</th>\n",
              "      <td>569.0</td>\n",
              "      <td>0.062798</td>\n",
              "      <td>0.007060</td>\n",
              "      <td>0.049960</td>\n",
              "      <td>0.057700</td>\n",
              "      <td>0.061540</td>\n",
              "      <td>0.066120</td>\n",
              "      <td>0.09744</td>\n",
              "    </tr>\n",
              "    <tr>\n",
              "      <th>radius_se</th>\n",
              "      <td>569.0</td>\n",
              "      <td>0.405172</td>\n",
              "      <td>0.277313</td>\n",
              "      <td>0.111500</td>\n",
              "      <td>0.232400</td>\n",
              "      <td>0.324200</td>\n",
              "      <td>0.478900</td>\n",
              "      <td>2.87300</td>\n",
              "    </tr>\n",
              "    <tr>\n",
              "      <th>texture_se</th>\n",
              "      <td>569.0</td>\n",
              "      <td>1.216853</td>\n",
              "      <td>0.551648</td>\n",
              "      <td>0.360200</td>\n",
              "      <td>0.833900</td>\n",
              "      <td>1.108000</td>\n",
              "      <td>1.474000</td>\n",
              "      <td>4.88500</td>\n",
              "    </tr>\n",
              "    <tr>\n",
              "      <th>perimeter_se</th>\n",
              "      <td>569.0</td>\n",
              "      <td>2.866059</td>\n",
              "      <td>2.021855</td>\n",
              "      <td>0.757000</td>\n",
              "      <td>1.606000</td>\n",
              "      <td>2.287000</td>\n",
              "      <td>3.357000</td>\n",
              "      <td>21.98000</td>\n",
              "    </tr>\n",
              "    <tr>\n",
              "      <th>area_se</th>\n",
              "      <td>569.0</td>\n",
              "      <td>40.337079</td>\n",
              "      <td>45.491006</td>\n",
              "      <td>6.802000</td>\n",
              "      <td>17.850000</td>\n",
              "      <td>24.530000</td>\n",
              "      <td>45.190000</td>\n",
              "      <td>542.20000</td>\n",
              "    </tr>\n",
              "    <tr>\n",
              "      <th>smoothness_se</th>\n",
              "      <td>569.0</td>\n",
              "      <td>0.007041</td>\n",
              "      <td>0.003003</td>\n",
              "      <td>0.001713</td>\n",
              "      <td>0.005169</td>\n",
              "      <td>0.006380</td>\n",
              "      <td>0.008146</td>\n",
              "      <td>0.03113</td>\n",
              "    </tr>\n",
              "    <tr>\n",
              "      <th>compactness_se</th>\n",
              "      <td>569.0</td>\n",
              "      <td>0.025478</td>\n",
              "      <td>0.017908</td>\n",
              "      <td>0.002252</td>\n",
              "      <td>0.013080</td>\n",
              "      <td>0.020450</td>\n",
              "      <td>0.032450</td>\n",
              "      <td>0.13540</td>\n",
              "    </tr>\n",
              "    <tr>\n",
              "      <th>concavity_se</th>\n",
              "      <td>569.0</td>\n",
              "      <td>0.031894</td>\n",
              "      <td>0.030186</td>\n",
              "      <td>0.000000</td>\n",
              "      <td>0.015090</td>\n",
              "      <td>0.025890</td>\n",
              "      <td>0.042050</td>\n",
              "      <td>0.39600</td>\n",
              "    </tr>\n",
              "    <tr>\n",
              "      <th>concave points_se</th>\n",
              "      <td>569.0</td>\n",
              "      <td>0.011796</td>\n",
              "      <td>0.006170</td>\n",
              "      <td>0.000000</td>\n",
              "      <td>0.007638</td>\n",
              "      <td>0.010930</td>\n",
              "      <td>0.014710</td>\n",
              "      <td>0.05279</td>\n",
              "    </tr>\n",
              "    <tr>\n",
              "      <th>symmetry_se</th>\n",
              "      <td>569.0</td>\n",
              "      <td>0.020542</td>\n",
              "      <td>0.008266</td>\n",
              "      <td>0.007882</td>\n",
              "      <td>0.015160</td>\n",
              "      <td>0.018730</td>\n",
              "      <td>0.023480</td>\n",
              "      <td>0.07895</td>\n",
              "    </tr>\n",
              "    <tr>\n",
              "      <th>fractal_dimension_se</th>\n",
              "      <td>569.0</td>\n",
              "      <td>0.003795</td>\n",
              "      <td>0.002646</td>\n",
              "      <td>0.000895</td>\n",
              "      <td>0.002248</td>\n",
              "      <td>0.003187</td>\n",
              "      <td>0.004558</td>\n",
              "      <td>0.02984</td>\n",
              "    </tr>\n",
              "    <tr>\n",
              "      <th>radius_worst</th>\n",
              "      <td>569.0</td>\n",
              "      <td>16.269190</td>\n",
              "      <td>4.833242</td>\n",
              "      <td>7.930000</td>\n",
              "      <td>13.010000</td>\n",
              "      <td>14.970000</td>\n",
              "      <td>18.790000</td>\n",
              "      <td>36.04000</td>\n",
              "    </tr>\n",
              "    <tr>\n",
              "      <th>texture_worst</th>\n",
              "      <td>569.0</td>\n",
              "      <td>25.677223</td>\n",
              "      <td>6.146258</td>\n",
              "      <td>12.020000</td>\n",
              "      <td>21.080000</td>\n",
              "      <td>25.410000</td>\n",
              "      <td>29.720000</td>\n",
              "      <td>49.54000</td>\n",
              "    </tr>\n",
              "    <tr>\n",
              "      <th>perimeter_worst</th>\n",
              "      <td>569.0</td>\n",
              "      <td>107.261213</td>\n",
              "      <td>33.602542</td>\n",
              "      <td>50.410000</td>\n",
              "      <td>84.110000</td>\n",
              "      <td>97.660000</td>\n",
              "      <td>125.400000</td>\n",
              "      <td>251.20000</td>\n",
              "    </tr>\n",
              "    <tr>\n",
              "      <th>area_worst</th>\n",
              "      <td>569.0</td>\n",
              "      <td>880.583128</td>\n",
              "      <td>569.356993</td>\n",
              "      <td>185.200000</td>\n",
              "      <td>515.300000</td>\n",
              "      <td>686.500000</td>\n",
              "      <td>1084.000000</td>\n",
              "      <td>4254.00000</td>\n",
              "    </tr>\n",
              "    <tr>\n",
              "      <th>smoothness_worst</th>\n",
              "      <td>569.0</td>\n",
              "      <td>0.132369</td>\n",
              "      <td>0.022832</td>\n",
              "      <td>0.071170</td>\n",
              "      <td>0.116600</td>\n",
              "      <td>0.131300</td>\n",
              "      <td>0.146000</td>\n",
              "      <td>0.22260</td>\n",
              "    </tr>\n",
              "    <tr>\n",
              "      <th>compactness_worst</th>\n",
              "      <td>569.0</td>\n",
              "      <td>0.254265</td>\n",
              "      <td>0.157336</td>\n",
              "      <td>0.027290</td>\n",
              "      <td>0.147200</td>\n",
              "      <td>0.211900</td>\n",
              "      <td>0.339100</td>\n",
              "      <td>1.05800</td>\n",
              "    </tr>\n",
              "    <tr>\n",
              "      <th>concavity_worst</th>\n",
              "      <td>569.0</td>\n",
              "      <td>0.272188</td>\n",
              "      <td>0.208624</td>\n",
              "      <td>0.000000</td>\n",
              "      <td>0.114500</td>\n",
              "      <td>0.226700</td>\n",
              "      <td>0.382900</td>\n",
              "      <td>1.25200</td>\n",
              "    </tr>\n",
              "    <tr>\n",
              "      <th>concave points_worst</th>\n",
              "      <td>569.0</td>\n",
              "      <td>0.114606</td>\n",
              "      <td>0.065732</td>\n",
              "      <td>0.000000</td>\n",
              "      <td>0.064930</td>\n",
              "      <td>0.099930</td>\n",
              "      <td>0.161400</td>\n",
              "      <td>0.29100</td>\n",
              "    </tr>\n",
              "    <tr>\n",
              "      <th>symmetry_worst</th>\n",
              "      <td>569.0</td>\n",
              "      <td>0.290076</td>\n",
              "      <td>0.061867</td>\n",
              "      <td>0.156500</td>\n",
              "      <td>0.250400</td>\n",
              "      <td>0.282200</td>\n",
              "      <td>0.317900</td>\n",
              "      <td>0.66380</td>\n",
              "    </tr>\n",
              "    <tr>\n",
              "      <th>fractal_dimension_worst</th>\n",
              "      <td>569.0</td>\n",
              "      <td>0.083946</td>\n",
              "      <td>0.018061</td>\n",
              "      <td>0.055040</td>\n",
              "      <td>0.071460</td>\n",
              "      <td>0.080040</td>\n",
              "      <td>0.092080</td>\n",
              "      <td>0.20750</td>\n",
              "    </tr>\n",
              "  </tbody>\n",
              "</table>\n",
              "</div>\n",
              "    <div class=\"colab-df-buttons\">\n",
              "\n",
              "  <div class=\"colab-df-container\">\n",
              "    <button class=\"colab-df-convert\" onclick=\"convertToInteractive('df-75f6e36d-af85-4c6f-a16b-4a4fa9734469')\"\n",
              "            title=\"Convert this dataframe to an interactive table.\"\n",
              "            style=\"display:none;\">\n",
              "\n",
              "  <svg xmlns=\"http://www.w3.org/2000/svg\" height=\"24px\" viewBox=\"0 -960 960 960\">\n",
              "    <path d=\"M120-120v-720h720v720H120Zm60-500h600v-160H180v160Zm220 220h160v-160H400v160Zm0 220h160v-160H400v160ZM180-400h160v-160H180v160Zm440 0h160v-160H620v160ZM180-180h160v-160H180v160Zm440 0h160v-160H620v160Z\"/>\n",
              "  </svg>\n",
              "    </button>\n",
              "\n",
              "  <style>\n",
              "    .colab-df-container {\n",
              "      display:flex;\n",
              "      gap: 12px;\n",
              "    }\n",
              "\n",
              "    .colab-df-convert {\n",
              "      background-color: #E8F0FE;\n",
              "      border: none;\n",
              "      border-radius: 50%;\n",
              "      cursor: pointer;\n",
              "      display: none;\n",
              "      fill: #1967D2;\n",
              "      height: 32px;\n",
              "      padding: 0 0 0 0;\n",
              "      width: 32px;\n",
              "    }\n",
              "\n",
              "    .colab-df-convert:hover {\n",
              "      background-color: #E2EBFA;\n",
              "      box-shadow: 0px 1px 2px rgba(60, 64, 67, 0.3), 0px 1px 3px 1px rgba(60, 64, 67, 0.15);\n",
              "      fill: #174EA6;\n",
              "    }\n",
              "\n",
              "    .colab-df-buttons div {\n",
              "      margin-bottom: 4px;\n",
              "    }\n",
              "\n",
              "    [theme=dark] .colab-df-convert {\n",
              "      background-color: #3B4455;\n",
              "      fill: #D2E3FC;\n",
              "    }\n",
              "\n",
              "    [theme=dark] .colab-df-convert:hover {\n",
              "      background-color: #434B5C;\n",
              "      box-shadow: 0px 1px 3px 1px rgba(0, 0, 0, 0.15);\n",
              "      filter: drop-shadow(0px 1px 2px rgba(0, 0, 0, 0.3));\n",
              "      fill: #FFFFFF;\n",
              "    }\n",
              "  </style>\n",
              "\n",
              "    <script>\n",
              "      const buttonEl =\n",
              "        document.querySelector('#df-75f6e36d-af85-4c6f-a16b-4a4fa9734469 button.colab-df-convert');\n",
              "      buttonEl.style.display =\n",
              "        google.colab.kernel.accessAllowed ? 'block' : 'none';\n",
              "\n",
              "      async function convertToInteractive(key) {\n",
              "        const element = document.querySelector('#df-75f6e36d-af85-4c6f-a16b-4a4fa9734469');\n",
              "        const dataTable =\n",
              "          await google.colab.kernel.invokeFunction('convertToInteractive',\n",
              "                                                    [key], {});\n",
              "        if (!dataTable) return;\n",
              "\n",
              "        const docLinkHtml = 'Like what you see? Visit the ' +\n",
              "          '<a target=\"_blank\" href=https://colab.research.google.com/notebooks/data_table.ipynb>data table notebook</a>'\n",
              "          + ' to learn more about interactive tables.';\n",
              "        element.innerHTML = '';\n",
              "        dataTable['output_type'] = 'display_data';\n",
              "        await google.colab.output.renderOutput(dataTable, element);\n",
              "        const docLink = document.createElement('div');\n",
              "        docLink.innerHTML = docLinkHtml;\n",
              "        element.appendChild(docLink);\n",
              "      }\n",
              "    </script>\n",
              "  </div>\n",
              "\n",
              "\n",
              "<div id=\"df-f9251ceb-4f27-4d54-ab44-0f15c153235a\">\n",
              "  <button class=\"colab-df-quickchart\" onclick=\"quickchart('df-f9251ceb-4f27-4d54-ab44-0f15c153235a')\"\n",
              "            title=\"Suggest charts\"\n",
              "            style=\"display:none;\">\n",
              "\n",
              "<svg xmlns=\"http://www.w3.org/2000/svg\" height=\"24px\"viewBox=\"0 0 24 24\"\n",
              "     width=\"24px\">\n",
              "    <g>\n",
              "        <path d=\"M19 3H5c-1.1 0-2 .9-2 2v14c0 1.1.9 2 2 2h14c1.1 0 2-.9 2-2V5c0-1.1-.9-2-2-2zM9 17H7v-7h2v7zm4 0h-2V7h2v10zm4 0h-2v-4h2v4z\"/>\n",
              "    </g>\n",
              "</svg>\n",
              "  </button>\n",
              "\n",
              "<style>\n",
              "  .colab-df-quickchart {\n",
              "      --bg-color: #E8F0FE;\n",
              "      --fill-color: #1967D2;\n",
              "      --hover-bg-color: #E2EBFA;\n",
              "      --hover-fill-color: #174EA6;\n",
              "      --disabled-fill-color: #AAA;\n",
              "      --disabled-bg-color: #DDD;\n",
              "  }\n",
              "\n",
              "  [theme=dark] .colab-df-quickchart {\n",
              "      --bg-color: #3B4455;\n",
              "      --fill-color: #D2E3FC;\n",
              "      --hover-bg-color: #434B5C;\n",
              "      --hover-fill-color: #FFFFFF;\n",
              "      --disabled-bg-color: #3B4455;\n",
              "      --disabled-fill-color: #666;\n",
              "  }\n",
              "\n",
              "  .colab-df-quickchart {\n",
              "    background-color: var(--bg-color);\n",
              "    border: none;\n",
              "    border-radius: 50%;\n",
              "    cursor: pointer;\n",
              "    display: none;\n",
              "    fill: var(--fill-color);\n",
              "    height: 32px;\n",
              "    padding: 0;\n",
              "    width: 32px;\n",
              "  }\n",
              "\n",
              "  .colab-df-quickchart:hover {\n",
              "    background-color: var(--hover-bg-color);\n",
              "    box-shadow: 0 1px 2px rgba(60, 64, 67, 0.3), 0 1px 3px 1px rgba(60, 64, 67, 0.15);\n",
              "    fill: var(--button-hover-fill-color);\n",
              "  }\n",
              "\n",
              "  .colab-df-quickchart-complete:disabled,\n",
              "  .colab-df-quickchart-complete:disabled:hover {\n",
              "    background-color: var(--disabled-bg-color);\n",
              "    fill: var(--disabled-fill-color);\n",
              "    box-shadow: none;\n",
              "  }\n",
              "\n",
              "  .colab-df-spinner {\n",
              "    border: 2px solid var(--fill-color);\n",
              "    border-color: transparent;\n",
              "    border-bottom-color: var(--fill-color);\n",
              "    animation:\n",
              "      spin 1s steps(1) infinite;\n",
              "  }\n",
              "\n",
              "  @keyframes spin {\n",
              "    0% {\n",
              "      border-color: transparent;\n",
              "      border-bottom-color: var(--fill-color);\n",
              "      border-left-color: var(--fill-color);\n",
              "    }\n",
              "    20% {\n",
              "      border-color: transparent;\n",
              "      border-left-color: var(--fill-color);\n",
              "      border-top-color: var(--fill-color);\n",
              "    }\n",
              "    30% {\n",
              "      border-color: transparent;\n",
              "      border-left-color: var(--fill-color);\n",
              "      border-top-color: var(--fill-color);\n",
              "      border-right-color: var(--fill-color);\n",
              "    }\n",
              "    40% {\n",
              "      border-color: transparent;\n",
              "      border-right-color: var(--fill-color);\n",
              "      border-top-color: var(--fill-color);\n",
              "    }\n",
              "    60% {\n",
              "      border-color: transparent;\n",
              "      border-right-color: var(--fill-color);\n",
              "    }\n",
              "    80% {\n",
              "      border-color: transparent;\n",
              "      border-right-color: var(--fill-color);\n",
              "      border-bottom-color: var(--fill-color);\n",
              "    }\n",
              "    90% {\n",
              "      border-color: transparent;\n",
              "      border-bottom-color: var(--fill-color);\n",
              "    }\n",
              "  }\n",
              "</style>\n",
              "\n",
              "  <script>\n",
              "    async function quickchart(key) {\n",
              "      const quickchartButtonEl =\n",
              "        document.querySelector('#' + key + ' button');\n",
              "      quickchartButtonEl.disabled = true;  // To prevent multiple clicks.\n",
              "      quickchartButtonEl.classList.add('colab-df-spinner');\n",
              "      try {\n",
              "        const charts = await google.colab.kernel.invokeFunction(\n",
              "            'suggestCharts', [key], {});\n",
              "      } catch (error) {\n",
              "        console.error('Error during call to suggestCharts:', error);\n",
              "      }\n",
              "      quickchartButtonEl.classList.remove('colab-df-spinner');\n",
              "      quickchartButtonEl.classList.add('colab-df-quickchart-complete');\n",
              "    }\n",
              "    (() => {\n",
              "      let quickchartButtonEl =\n",
              "        document.querySelector('#df-f9251ceb-4f27-4d54-ab44-0f15c153235a button');\n",
              "      quickchartButtonEl.style.display =\n",
              "        google.colab.kernel.accessAllowed ? 'block' : 'none';\n",
              "    })();\n",
              "  </script>\n",
              "</div>\n",
              "    </div>\n",
              "  </div>\n"
            ],
            "application/vnd.google.colaboratory.intrinsic+json": {
              "type": "dataframe",
              "summary": "{\n  \"name\": \"df\",\n  \"rows\": 30,\n  \"fields\": [\n    {\n      \"column\": \"count\",\n      \"properties\": {\n        \"dtype\": \"number\",\n        \"std\": 0.0,\n        \"min\": 569.0,\n        \"max\": 569.0,\n        \"num_unique_values\": 1,\n        \"samples\": [\n          569.0\n        ],\n        \"semantic_type\": \"\",\n        \"description\": \"\"\n      }\n    },\n    {\n      \"column\": \"mean\",\n      \"properties\": {\n        \"dtype\": \"number\",\n        \"std\": 195.86138598399455,\n        \"min\": 0.0037949038664323374,\n        \"max\": 880.5831282952548,\n        \"num_unique_values\": 30,\n        \"samples\": [\n          0.11460622319859401\n        ],\n        \"semantic_type\": \"\",\n        \"description\": \"\"\n      }\n    },\n    {\n      \"column\": \"std\",\n      \"properties\": {\n        \"dtype\": \"number\",\n        \"std\": 119.67576524672171,\n        \"min\": 0.002646070967089195,\n        \"max\": 569.356992669949,\n        \"num_unique_values\": 30,\n        \"samples\": [\n          0.06573234119594207\n        ],\n        \"semantic_type\": \"\",\n        \"description\": \"\"\n      }\n    },\n    {\n      \"column\": \"min\",\n      \"properties\": {\n        \"dtype\": \"number\",\n        \"std\": 42.524969915309626,\n        \"min\": 0.0,\n        \"max\": 185.2,\n        \"num_unique_values\": 25,\n        \"samples\": [\n          0.04996\n        ],\n        \"semantic_type\": \"\",\n        \"description\": \"\"\n      }\n    },\n    {\n      \"column\": \"25%\",\n      \"properties\": {\n        \"dtype\": \"number\",\n        \"std\": 118.89455228667681,\n        \"min\": 0.002248,\n        \"max\": 515.3,\n        \"num_unique_values\": 30,\n        \"samples\": [\n          0.06493\n        ],\n        \"semantic_type\": \"\",\n        \"description\": \"\"\n      }\n    },\n    {\n      \"column\": \"50%\",\n      \"properties\": {\n        \"dtype\": \"number\",\n        \"std\": 157.19118789388529,\n        \"min\": 0.003187,\n        \"max\": 686.5,\n        \"num_unique_values\": 29,\n        \"samples\": [\n          0.2822\n        ],\n        \"semantic_type\": \"\",\n        \"description\": \"\"\n      }\n    },\n    {\n      \"column\": \"75%\",\n      \"properties\": {\n        \"dtype\": \"number\",\n        \"std\": 238.65558769907574,\n        \"min\": 0.004558,\n        \"max\": 1084.0,\n        \"num_unique_values\": 30,\n        \"samples\": [\n          0.1614\n        ],\n        \"semantic_type\": \"\",\n        \"description\": \"\"\n      }\n    },\n    {\n      \"column\": \"max\",\n      \"properties\": {\n        \"dtype\": \"number\",\n        \"std\": 883.8964955090008,\n        \"min\": 0.02984,\n        \"max\": 4254.0,\n        \"num_unique_values\": 30,\n        \"samples\": [\n          0.291\n        ],\n        \"semantic_type\": \"\",\n        \"description\": \"\"\n      }\n    }\n  ]\n}"
            }
          },
          "metadata": {},
          "execution_count": 8
        }
      ]
    },
    {
      "cell_type": "code",
      "source": [
        "df.shape"
      ],
      "metadata": {
        "id": "oePRavzi9dTm",
        "outputId": "8c1e8253-d10f-4987-f7aa-ea3b646039ee",
        "colab": {
          "base_uri": "https://localhost:8080/"
        }
      },
      "execution_count": null,
      "outputs": [
        {
          "output_type": "execute_result",
          "data": {
            "text/plain": [
              "(569, 31)"
            ]
          },
          "metadata": {},
          "execution_count": 9
        }
      ]
    },
    {
      "cell_type": "code",
      "source": [
        "import matplotlib.pyplot as plt\n",
        "import numpy as np\n",
        "from scipy.stats import norm\n",
        "\n",
        "# สร้างข้อมูลที่มีการกระจายตัวแบบ normal distribution\n",
        "data = np.random.normal(loc=0, scale=1, size=1000)\n",
        "\n",
        "# พล็อต histogram\n",
        "plt.hist(data, bins=30, density=True, alpha=0.6, color='g')  # เปลี่ยนสีเป็นสีเขียว (green)\n",
        "\n",
        "# เพิ่มเส้นกราฟของ normal distribution\n",
        "xmin, xmax = plt.xlim()\n",
        "x = np.linspace(xmin, xmax, 100)\n",
        "p = norm.pdf(x, loc=np.mean(data), scale=np.std(data))\n",
        "plt.plot(x, p, 'k', linewidth=2)  # เปลี่ยนสีเป็นสีดำ (black)\n",
        "\n",
        "# แสดงกราฟ\n",
        "plt.show()\n",
        "\n"
      ],
      "metadata": {
        "id": "jsQFC43xqOOk",
        "outputId": "21265e18-047f-4c76-c403-0fc39b645975",
        "colab": {
          "base_uri": "https://localhost:8080/",
          "height": 430
        }
      },
      "execution_count": null,
      "outputs": [
        {
          "output_type": "display_data",
          "data": {
            "text/plain": [
              "<Figure size 640x480 with 1 Axes>"
            ],
            "image/png": "[encoded data removed]"
          },
          "metadata": {}
        }
      ]
    },
    {
      "cell_type": "markdown",
      "source": [
        "____"
      ],
      "metadata": {
        "id": "OOUMn7HfGjjG"
      }
    },
    {
      "cell_type": "markdown",
      "source": [
        "*31 features to determine whether the cancer cells in our data are benign or malignant. This data contains 2 types of cancers: 1. benign cancer (B) and 2. malignant cancer (M).*"
      ],
      "metadata": {
        "id": "-k14Jr6yCig-"
      }
    },
    {
      "cell_type": "markdown",
      "source": [
        "____"
      ],
      "metadata": {
        "id": "GxAykuE1Gl2G"
      }
    },
    {
      "cell_type": "markdown",
      "source": [
        "#Classification Dimensionality Reduction"
      ],
      "metadata": {
        "id": "IkChRiiyvKcA"
      }
    },
    {
      "cell_type": "markdown",
      "source": [
        "## Encoding labels"
      ],
      "metadata": {
        "id": "HKUoUsnxcXqM"
      }
    },
    {
      "cell_type": "code",
      "source": [
        "from sklearn.preprocessing import LabelEncoder\n",
        "le = LabelEncoder()\n",
        "df['diagnosis'] = le.fit_transform(df['diagnosis']) # M:1, B:0\n",
        "df['diagnosis'].value_counts()"
      ],
      "metadata": {
        "id": "Ig0y27Nhca8q",
        "outputId": "11e35e77-fef7-4940-a9cb-82dc92add2d0",
        "colab": {
          "base_uri": "https://localhost:8080/"
        }
      },
      "execution_count": null,
      "outputs": [
        {
          "output_type": "execute_result",
          "data": {
            "text/plain": [
              "0    357\n",
              "1    212\n",
              "Name: diagnosis, dtype: int64"
            ]
          },
          "metadata": {},
          "execution_count": 11
        }
      ]
    },
    {
      "cell_type": "code",
      "source": [
        "y = df['diagnosis']\n",
        "X = df.drop(['diagnosis'], axis=1)"
      ],
      "metadata": {
        "id": "G4_m78Rn3TGS"
      },
      "execution_count": null,
      "outputs": []
    },
    {
      "cell_type": "markdown",
      "source": [
        "\n",
        "\n",
        "---\n",
        "\n",
        "\n",
        "*standardization*\n",
        "\n",
        "\n",
        "---\n",
        "\n"
      ],
      "metadata": {
        "id": "jcg0_Y11uWiP"
      }
    },
    {
      "cell_type": "code",
      "source": [
        "from sklearn.preprocessing import StandardScaler"
      ],
      "metadata": {
        "id": "VotdVNeruVVm"
      },
      "execution_count": null,
      "outputs": []
    },
    {
      "cell_type": "code",
      "source": [
        "#first fits the scaler to the data to learn the mean and standard deviation of each feature\n",
        "# Fit on training set only.\n",
        "\n",
        "scaler = StandardScaler()\n",
        "scaler.fit(df)"
      ],
      "metadata": {
        "id": "Zj3qOKtFupL2",
        "outputId": "f5730331-a837-4347-b467-abf58d716d76",
        "colab": {
          "base_uri": "https://localhost:8080/",
          "height": 74
        }
      },
      "execution_count": null,
      "outputs": [
        {
          "output_type": "execute_result",
          "data": {
            "text/plain": [
              "StandardScaler()"
            ],
            "text/html": [
              "<style>#sk-container-id-1 {color: black;background-color: white;}#sk-container-id-1 pre{padding: 0;}#sk-container-id-1 div.sk-toggleable {background-color: white;}#sk-container-id-1 label.sk-toggleable__label {cursor: pointer;display: block;width: 100%;margin-bottom: 0;padding: 0.3em;box-sizing: border-box;text-align: center;}#sk-container-id-1 label.sk-toggleable__label-arrow:before {content: \"▸\";float: left;margin-right: 0.25em;color: #696969;}#sk-container-id-1 label.sk-toggleable__label-arrow:hover:before {color: black;}#sk-container-id-1 div.sk-estimator:hover label.sk-toggleable__label-arrow:before {color: black;}#sk-container-id-1 div.sk-toggleable__content {max-height: 0;max-width: 0;overflow: hidden;text-align: left;background-color: #f0f8ff;}#sk-container-id-1 div.sk-toggleable__content pre {margin: 0.2em;color: black;border-radius: 0.25em;background-color: #f0f8ff;}#sk-container-id-1 input.sk-toggleable__control:checked~div.sk-toggleable__content {max-height: 200px;max-width: 100%;overflow: auto;}#sk-container-id-1 input.sk-toggleable__control:checked~label.sk-toggleable__label-arrow:before {content: \"▾\";}#sk-container-id-1 div.sk-estimator input.sk-toggleable__control:checked~label.sk-toggleable__label {background-color: #d4ebff;}#sk-container-id-1 div.sk-label input.sk-toggleable__control:checked~label.sk-toggleable__label {background-color: #d4ebff;}#sk-container-id-1 input.sk-hidden--visually {border: 0;clip: rect(1px 1px 1px 1px);clip: rect(1px, 1px, 1px, 1px);height: 1px;margin: -1px;overflow: hidden;padding: 0;position: absolute;width: 1px;}#sk-container-id-1 div.sk-estimator {font-family: monospace;background-color: #f0f8ff;border: 1px dotted black;border-radius: 0.25em;box-sizing: border-box;margin-bottom: 0.5em;}#sk-container-id-1 div.sk-estimator:hover {background-color: #d4ebff;}#sk-container-id-1 div.sk-parallel-item::after {content: \"\";width: 100%;border-bottom: 1px solid gray;flex-grow: 1;}#sk-container-id-1 div.sk-label:hover label.sk-toggleable__label {background-color: #d4ebff;}#sk-container-id-1 div.sk-serial::before {content: \"\";position: absolute;border-left: 1px solid gray;box-sizing: border-box;top: 0;bottom: 0;left: 50%;z-index: 0;}#sk-container-id-1 div.sk-serial {display: flex;flex-direction: column;align-items: center;background-color: white;padding-right: 0.2em;padding-left: 0.2em;position: relative;}#sk-container-id-1 div.sk-item {position: relative;z-index: 1;}#sk-container-id-1 div.sk-parallel {display: flex;align-items: stretch;justify-content: center;background-color: white;position: relative;}#sk-container-id-1 div.sk-item::before, #sk-container-id-1 div.sk-parallel-item::before {content: \"\";position: absolute;border-left: 1px solid gray;box-sizing: border-box;top: 0;bottom: 0;left: 50%;z-index: -1;}#sk-container-id-1 div.sk-parallel-item {display: flex;flex-direction: column;z-index: 1;position: relative;background-color: white;}#sk-container-id-1 div.sk-parallel-item:first-child::after {align-self: flex-end;width: 50%;}#sk-container-id-1 div.sk-parallel-item:last-child::after {align-self: flex-start;width: 50%;}#sk-container-id-1 div.sk-parallel-item:only-child::after {width: 0;}#sk-container-id-1 div.sk-dashed-wrapped {border: 1px dashed gray;margin: 0 0.4em 0.5em 0.4em;box-sizing: border-box;padding-bottom: 0.4em;background-color: white;}#sk-container-id-1 div.sk-label label {font-family: monospace;font-weight: bold;display: inline-block;line-height: 1.2em;}#sk-container-id-1 div.sk-label-container {text-align: center;}#sk-container-id-1 div.sk-container {/* jupyter's `normalize.less` sets `[hidden] { display: none; }` but bootstrap.min.css set `[hidden] { display: none !important; }` so we also need the `!important` here to be able to override the default hidden behavior on the sphinx rendered scikit-learn.org. See: https://github.com/scikit-learn/scikit-learn/issues/21755 */display: inline-block !important;position: relative;}#sk-container-id-1 div.sk-text-repr-fallback {display: none;}</style><div id=\"sk-container-id-1\" class=\"sk-top-container\"><div class=\"sk-text-repr-fallback\"><pre>StandardScaler()</pre><b>In a Jupyter environment, please rerun this cell to show the HTML representation or trust the notebook. <br />On GitHub, the HTML representation is unable to render, please try loading this page with nbviewer.org.</b></div><div class=\"sk-container\" hidden><div class=\"sk-item\"><div class=\"sk-estimator sk-toggleable\"><input class=\"sk-toggleable__control sk-hidden--visually\" id=\"sk-estimator-id-1\" type=\"checkbox\" checked><label for=\"sk-estimator-id-1\" class=\"sk-toggleable__label sk-toggleable__label-arrow\">StandardScaler</label><div class=\"sk-toggleable__content\"><pre>StandardScaler()</pre></div></div></div></div></div>"
            ]
          },
          "metadata": {},
          "execution_count": 14
        }
      ]
    },
    {
      "cell_type": "code",
      "source": [
        "# Apply transform to both the training set and the test set.\n",
        "##X_train = scaler.transform(X_train)\n",
        "#X_test = scaler.transform(X_test)"
      ],
      "metadata": {
        "id": "oaneONdtQ8yo"
      },
      "execution_count": null,
      "outputs": []
    },
    {
      "cell_type": "code",
      "source": [
        "#transforms the data based on these parameters.\n",
        "scaled_data = scaler.transform(df)"
      ],
      "metadata": {
        "id": "JD8hbOOfupOm"
      },
      "execution_count": null,
      "outputs": []
    },
    {
      "cell_type": "code",
      "source": [
        "from sklearn.decomposition import PCA"
      ],
      "metadata": {
        "id": "WdsQEK7nupQ-"
      },
      "execution_count": null,
      "outputs": []
    },
    {
      "cell_type": "code",
      "source": [
        "#pca = PCA(n_components=2)"
      ],
      "metadata": {
        "id": "w1akTvU1RnPk"
      },
      "execution_count": null,
      "outputs": []
    },
    {
      "cell_type": "code",
      "source": [
        "pca = PCA(.95)"
      ],
      "metadata": {
        "id": "urESmMT0RkkG"
      },
      "execution_count": null,
      "outputs": []
    },
    {
      "cell_type": "code",
      "source": [
        "pca.fit(scaled_data)"
      ],
      "metadata": {
        "id": "NXsa3lS6upT2",
        "outputId": "c2f56479-3bf5-4ae6-d35d-f2cff100c0d5",
        "colab": {
          "base_uri": "https://localhost:8080/",
          "height": 74
        }
      },
      "execution_count": null,
      "outputs": [
        {
          "output_type": "execute_result",
          "data": {
            "text/plain": [
              "PCA(n_components=0.95)"
            ],
            "text/html": [
              "<style>#sk-container-id-2 {color: black;background-color: white;}#sk-container-id-2 pre{padding: 0;}#sk-container-id-2 div.sk-toggleable {background-color: white;}#sk-container-id-2 label.sk-toggleable__label {cursor: pointer;display: block;width: 100%;margin-bottom: 0;padding: 0.3em;box-sizing: border-box;text-align: center;}#sk-container-id-2 label.sk-toggleable__label-arrow:before {content: \"▸\";float: left;margin-right: 0.25em;color: #696969;}#sk-container-id-2 label.sk-toggleable__label-arrow:hover:before {color: black;}#sk-container-id-2 div.sk-estimator:hover label.sk-toggleable__label-arrow:before {color: black;}#sk-container-id-2 div.sk-toggleable__content {max-height: 0;max-width: 0;overflow: hidden;text-align: left;background-color: #f0f8ff;}#sk-container-id-2 div.sk-toggleable__content pre {margin: 0.2em;color: black;border-radius: 0.25em;background-color: #f0f8ff;}#sk-container-id-2 input.sk-toggleable__control:checked~div.sk-toggleable__content {max-height: 200px;max-width: 100%;overflow: auto;}#sk-container-id-2 input.sk-toggleable__control:checked~label.sk-toggleable__label-arrow:before {content: \"▾\";}#sk-container-id-2 div.sk-estimator input.sk-toggleable__control:checked~label.sk-toggleable__label {background-color: #d4ebff;}#sk-container-id-2 div.sk-label input.sk-toggleable__control:checked~label.sk-toggleable__label {background-color: #d4ebff;}#sk-container-id-2 input.sk-hidden--visually {border: 0;clip: rect(1px 1px 1px 1px);clip: rect(1px, 1px, 1px, 1px);height: 1px;margin: -1px;overflow: hidden;padding: 0;position: absolute;width: 1px;}#sk-container-id-2 div.sk-estimator {font-family: monospace;background-color: #f0f8ff;border: 1px dotted black;border-radius: 0.25em;box-sizing: border-box;margin-bottom: 0.5em;}#sk-container-id-2 div.sk-estimator:hover {background-color: #d4ebff;}#sk-container-id-2 div.sk-parallel-item::after {content: \"\";width: 100%;border-bottom: 1px solid gray;flex-grow: 1;}#sk-container-id-2 div.sk-label:hover label.sk-toggleable__label {background-color: #d4ebff;}#sk-container-id-2 div.sk-serial::before {content: \"\";position: absolute;border-left: 1px solid gray;box-sizing: border-box;top: 0;bottom: 0;left: 50%;z-index: 0;}#sk-container-id-2 div.sk-serial {display: flex;flex-direction: column;align-items: center;background-color: white;padding-right: 0.2em;padding-left: 0.2em;position: relative;}#sk-container-id-2 div.sk-item {position: relative;z-index: 1;}#sk-container-id-2 div.sk-parallel {display: flex;align-items: stretch;justify-content: center;background-color: white;position: relative;}#sk-container-id-2 div.sk-item::before, #sk-container-id-2 div.sk-parallel-item::before {content: \"\";position: absolute;border-left: 1px solid gray;box-sizing: border-box;top: 0;bottom: 0;left: 50%;z-index: -1;}#sk-container-id-2 div.sk-parallel-item {display: flex;flex-direction: column;z-index: 1;position: relative;background-color: white;}#sk-container-id-2 div.sk-parallel-item:first-child::after {align-self: flex-end;width: 50%;}#sk-container-id-2 div.sk-parallel-item:last-child::after {align-self: flex-start;width: 50%;}#sk-container-id-2 div.sk-parallel-item:only-child::after {width: 0;}#sk-container-id-2 div.sk-dashed-wrapped {border: 1px dashed gray;margin: 0 0.4em 0.5em 0.4em;box-sizing: border-box;padding-bottom: 0.4em;background-color: white;}#sk-container-id-2 div.sk-label label {font-family: monospace;font-weight: bold;display: inline-block;line-height: 1.2em;}#sk-container-id-2 div.sk-label-container {text-align: center;}#sk-container-id-2 div.sk-container {/* jupyter's `normalize.less` sets `[hidden] { display: none; }` but bootstrap.min.css set `[hidden] { display: none !important; }` so we also need the `!important` here to be able to override the default hidden behavior on the sphinx rendered scikit-learn.org. See: https://github.com/scikit-learn/scikit-learn/issues/21755 */display: inline-block !important;position: relative;}#sk-container-id-2 div.sk-text-repr-fallback {display: none;}</style><div id=\"sk-container-id-2\" class=\"sk-top-container\"><div class=\"sk-text-repr-fallback\"><pre>PCA(n_components=0.95)</pre><b>In a Jupyter environment, please rerun this cell to show the HTML representation or trust the notebook. <br />On GitHub, the HTML representation is unable to render, please try loading this page with nbviewer.org.</b></div><div class=\"sk-container\" hidden><div class=\"sk-item\"><div class=\"sk-estimator sk-toggleable\"><input class=\"sk-toggleable__control sk-hidden--visually\" id=\"sk-estimator-id-2\" type=\"checkbox\" checked><label for=\"sk-estimator-id-2\" class=\"sk-toggleable__label sk-toggleable__label-arrow\">PCA</label><div class=\"sk-toggleable__content\"><pre>PCA(n_components=0.95)</pre></div></div></div></div></div>"
            ]
          },
          "metadata": {},
          "execution_count": 20
        }
      ]
    },
    {
      "cell_type": "code",
      "source": [
        "x_pca = pca.transform(scaled_data)"
      ],
      "metadata": {
        "id": "aUoYtYdfxToW"
      },
      "execution_count": null,
      "outputs": []
    },
    {
      "cell_type": "code",
      "source": [
        "scaled_data.shape, x_pca.shape"
      ],
      "metadata": {
        "id": "8WnlC7ymupWO",
        "outputId": "978f8fae-654d-48f5-9e2e-1605ddd9b065",
        "colab": {
          "base_uri": "https://localhost:8080/"
        }
      },
      "execution_count": null,
      "outputs": [
        {
          "output_type": "execute_result",
          "data": {
            "text/plain": [
              "((569, 31), (569, 11))"
            ]
          },
          "metadata": {},
          "execution_count": 22
        }
      ]
    },
    {
      "cell_type": "code",
      "source": [
        "pca_df = pd.DataFrame(data = x_pca, columns = ['principal component 1', 'principal component 2',\n",
        "                      'principal component 3','principal component 4','principal component 5',\n",
        "                      'principal component 6','principal component 7','principal component 8',\n",
        "                      'principal component 9','principal component 10','principal component 11'])\n",
        "pca_df"
      ],
      "metadata": {
        "id": "bnwrAOnCzL9Y",
        "outputId": "8f8bb7b7-0d6f-43b5-ff17-4e983aecf57a",
        "colab": {
          "base_uri": "https://localhost:8080/",
          "height": 441
        }
      },
      "execution_count": null,
      "outputs": [
        {
          "output_type": "execute_result",
          "data": {
            "text/plain": [
              "     principal component 1  principal component 2  principal component 3  \\\n",
              "0                 9.225770               2.116196              -0.948109   \n",
              "1                 2.655802              -3.784776              -0.502825   \n",
              "2                 5.892492              -1.005579              -0.487149   \n",
              "3                 7.135401              10.318716              -3.339501   \n",
              "4                 4.129423              -1.905579               1.454000   \n",
              "..                     ...                    ...                    ...   \n",
              "564               6.593983              -3.454947               2.570876   \n",
              "565               4.024833              -3.556006               2.047373   \n",
              "566               1.530077              -1.958871               0.465718   \n",
              "567              10.405008               1.849078              -1.779328   \n",
              "568              -5.504862              -0.766348               1.368623   \n",
              "\n",
              "     principal component 4  principal component 5  principal component 6  \\\n",
              "0                -3.695778              -1.256280               1.419117   \n",
              "1                -1.123938               0.551107               0.019273   \n",
              "2                -0.942486              -0.191711               0.541332   \n",
              "3                -0.085947              -2.938456               3.062748   \n",
              "4                -2.880175               0.365289              -1.243428   \n",
              "..                     ...                    ...                    ...   \n",
              "564              -1.152905              -0.129841              -2.377277   \n",
              "565               2.568539              -0.434088              -0.243029   \n",
              "566               2.104481               1.820113              -0.546015   \n",
              "567               2.163463               0.201609               0.591631   \n",
              "568               2.386050              -0.140754               1.617713   \n",
              "\n",
              "     principal component 7  principal component 8  principal component 9  \\\n",
              "0                 2.194974              -0.315737              -0.156946   \n",
              "1                -0.099645               0.385282              -0.711683   \n",
              "2                -0.660969               0.058983               0.024004   \n",
              "3                 1.380734               1.150379              -1.405498   \n",
              "4                -1.073155               0.717646              -0.263770   \n",
              "..                     ...                    ...                    ...   \n",
              "564              -0.586578              -0.065769               0.987906   \n",
              "565              -0.670490              -1.121366              -0.104973   \n",
              "566              -0.317641               0.460620               0.394043   \n",
              "567               0.461155              -0.552565              -0.542471   \n",
              "568               1.598711               1.185167               0.374083   \n",
              "\n",
              "     principal component 10  principal component 11  \n",
              "0                 -0.889455                0.193289  \n",
              "1                  1.049263                1.310276  \n",
              "2                  0.456603               -0.142171  \n",
              "3                 -1.123232               -0.176077  \n",
              "4                  0.354929                0.551089  \n",
              "..                      ...                     ...  \n",
              "564                0.256753                0.027679  \n",
              "565               -0.128847                0.331092  \n",
              "566                0.495904               -0.004177  \n",
              "567               -0.004040               -1.403878  \n",
              "568               -0.057469                0.015103  \n",
              "\n",
              "[569 rows x 11 columns]"
            ],
            "text/html": [
              "\n",
              "  <div id=\"df-58ef27d5-12f7-4749-aa3f-3e41fbd27714\" class=\"colab-df-container\">\n",
              "    <div>\n",
              "<style scoped>\n",
              "    .dataframe tbody tr th:only-of-type {\n",
              "        vertical-align: middle;\n",
              "    }\n",
              "\n",
              "    .dataframe tbody tr th {\n",
              "        vertical-align: top;\n",
              "    }\n",
              "\n",
              "    .dataframe thead th {\n",
              "        text-align: right;\n",
              "    }\n",
              "</style>\n",
              "<table border=\"1\" class=\"dataframe\">\n",
              "  <thead>\n",
              "    <tr style=\"text-align: right;\">\n",
              "      <th></th>\n",
              "      <th>principal component 1</th>\n",
              "      <th>principal component 2</th>\n",
              "      <th>principal component 3</th>\n",
              "      <th>principal component 4</th>\n",
              "      <th>principal component 5</th>\n",
              "      <th>principal component 6</th>\n",
              "      <th>principal component 7</th>\n",
              "      <th>principal component 8</th>\n",
              "      <th>principal component 9</th>\n",
              "      <th>principal component 10</th>\n",
              "      <th>principal component 11</th>\n",
              "    </tr>\n",
              "  </thead>\n",
              "  <tbody>\n",
              "    <tr>\n",
              "      <th>0</th>\n",
              "      <td>9.225770</td>\n",
              "      <td>2.116196</td>\n",
              "      <td>-0.948109</td>\n",
              "      <td>-3.695778</td>\n",
              "      <td>-1.256280</td>\n",
              "      <td>1.419117</td>\n",
              "      <td>2.194974</td>\n",
              "      <td>-0.315737</td>\n",
              "      <td>-0.156946</td>\n",
              "      <td>-0.889455</td>\n",
              "      <td>0.193289</td>\n",
              "    </tr>\n",
              "    <tr>\n",
              "      <th>1</th>\n",
              "      <td>2.655802</td>\n",
              "      <td>-3.784776</td>\n",
              "      <td>-0.502825</td>\n",
              "      <td>-1.123938</td>\n",
              "      <td>0.551107</td>\n",
              "      <td>0.019273</td>\n",
              "      <td>-0.099645</td>\n",
              "      <td>0.385282</td>\n",
              "      <td>-0.711683</td>\n",
              "      <td>1.049263</td>\n",
              "      <td>1.310276</td>\n",
              "    </tr>\n",
              "    <tr>\n",
              "      <th>2</th>\n",
              "      <td>5.892492</td>\n",
              "      <td>-1.005579</td>\n",
              "      <td>-0.487149</td>\n",
              "      <td>-0.942486</td>\n",
              "      <td>-0.191711</td>\n",
              "      <td>0.541332</td>\n",
              "      <td>-0.660969</td>\n",
              "      <td>0.058983</td>\n",
              "      <td>0.024004</td>\n",
              "      <td>0.456603</td>\n",
              "      <td>-0.142171</td>\n",
              "    </tr>\n",
              "    <tr>\n",
              "      <th>3</th>\n",
              "      <td>7.135401</td>\n",
              "      <td>10.318716</td>\n",
              "      <td>-3.339501</td>\n",
              "      <td>-0.085947</td>\n",
              "      <td>-2.938456</td>\n",
              "      <td>3.062748</td>\n",
              "      <td>1.380734</td>\n",
              "      <td>1.150379</td>\n",
              "      <td>-1.405498</td>\n",
              "      <td>-1.123232</td>\n",
              "      <td>-0.176077</td>\n",
              "    </tr>\n",
              "    <tr>\n",
              "      <th>4</th>\n",
              "      <td>4.129423</td>\n",
              "      <td>-1.905579</td>\n",
              "      <td>1.454000</td>\n",
              "      <td>-2.880175</td>\n",
              "      <td>0.365289</td>\n",
              "      <td>-1.243428</td>\n",
              "      <td>-1.073155</td>\n",
              "      <td>0.717646</td>\n",
              "      <td>-0.263770</td>\n",
              "      <td>0.354929</td>\n",
              "      <td>0.551089</td>\n",
              "    </tr>\n",
              "    <tr>\n",
              "      <th>...</th>\n",
              "      <td>...</td>\n",
              "      <td>...</td>\n",
              "      <td>...</td>\n",
              "      <td>...</td>\n",
              "      <td>...</td>\n",
              "      <td>...</td>\n",
              "      <td>...</td>\n",
              "      <td>...</td>\n",
              "      <td>...</td>\n",
              "      <td>...</td>\n",
              "      <td>...</td>\n",
              "    </tr>\n",
              "    <tr>\n",
              "      <th>564</th>\n",
              "      <td>6.593983</td>\n",
              "      <td>-3.454947</td>\n",
              "      <td>2.570876</td>\n",
              "      <td>-1.152905</td>\n",
              "      <td>-0.129841</td>\n",
              "      <td>-2.377277</td>\n",
              "      <td>-0.586578</td>\n",
              "      <td>-0.065769</td>\n",
              "      <td>0.987906</td>\n",
              "      <td>0.256753</td>\n",
              "      <td>0.027679</td>\n",
              "    </tr>\n",
              "    <tr>\n",
              "      <th>565</th>\n",
              "      <td>4.024833</td>\n",
              "      <td>-3.556006</td>\n",
              "      <td>2.047373</td>\n",
              "      <td>2.568539</td>\n",
              "      <td>-0.434088</td>\n",
              "      <td>-0.243029</td>\n",
              "      <td>-0.670490</td>\n",
              "      <td>-1.121366</td>\n",
              "      <td>-0.104973</td>\n",
              "      <td>-0.128847</td>\n",
              "      <td>0.331092</td>\n",
              "    </tr>\n",
              "    <tr>\n",
              "      <th>566</th>\n",
              "      <td>1.530077</td>\n",
              "      <td>-1.958871</td>\n",
              "      <td>0.465718</td>\n",
              "      <td>2.104481</td>\n",
              "      <td>1.820113</td>\n",
              "      <td>-0.546015</td>\n",
              "      <td>-0.317641</td>\n",
              "      <td>0.460620</td>\n",
              "      <td>0.394043</td>\n",
              "      <td>0.495904</td>\n",
              "      <td>-0.004177</td>\n",
              "    </tr>\n",
              "    <tr>\n",
              "      <th>567</th>\n",
              "      <td>10.405008</td>\n",
              "      <td>1.849078</td>\n",
              "      <td>-1.779328</td>\n",
              "      <td>2.163463</td>\n",
              "      <td>0.201609</td>\n",
              "      <td>0.591631</td>\n",
              "      <td>0.461155</td>\n",
              "      <td>-0.552565</td>\n",
              "      <td>-0.542471</td>\n",
              "      <td>-0.004040</td>\n",
              "      <td>-1.403878</td>\n",
              "    </tr>\n",
              "    <tr>\n",
              "      <th>568</th>\n",
              "      <td>-5.504862</td>\n",
              "      <td>-0.766348</td>\n",
              "      <td>1.368623</td>\n",
              "      <td>2.386050</td>\n",
              "      <td>-0.140754</td>\n",
              "      <td>1.617713</td>\n",
              "      <td>1.598711</td>\n",
              "      <td>1.185167</td>\n",
              "      <td>0.374083</td>\n",
              "      <td>-0.057469</td>\n",
              "      <td>0.015103</td>\n",
              "    </tr>\n",
              "  </tbody>\n",
              "</table>\n",
              "<p>569 rows × 11 columns</p>\n",
              "</div>\n",
              "    <div class=\"colab-df-buttons\">\n",
              "\n",
              "  <div class=\"colab-df-container\">\n",
              "    <button class=\"colab-df-convert\" onclick=\"convertToInteractive('df-58ef27d5-12f7-4749-aa3f-3e41fbd27714')\"\n",
              "            title=\"Convert this dataframe to an interactive table.\"\n",
              "            style=\"display:none;\">\n",
              "\n",
              "  <svg xmlns=\"http://www.w3.org/2000/svg\" height=\"24px\" viewBox=\"0 -960 960 960\">\n",
              "    <path d=\"M120-120v-720h720v720H120Zm60-500h600v-160H180v160Zm220 220h160v-160H400v160Zm0 220h160v-160H400v160ZM180-400h160v-160H180v160Zm440 0h160v-160H620v160ZM180-180h160v-160H180v160Zm440 0h160v-160H620v160Z\"/>\n",
              "  </svg>\n",
              "    </button>\n",
              "\n",
              "  <style>\n",
              "    .colab-df-container {\n",
              "      display:flex;\n",
              "      gap: 12px;\n",
              "    }\n",
              "\n",
              "    .colab-df-convert {\n",
              "      background-color: #E8F0FE;\n",
              "      border: none;\n",
              "      border-radius: 50%;\n",
              "      cursor: pointer;\n",
              "      display: none;\n",
              "      fill: #1967D2;\n",
              "      height: 32px;\n",
              "      padding: 0 0 0 0;\n",
              "      width: 32px;\n",
              "    }\n",
              "\n",
              "    .colab-df-convert:hover {\n",
              "      background-color: #E2EBFA;\n",
              "      box-shadow: 0px 1px 2px rgba(60, 64, 67, 0.3), 0px 1px 3px 1px rgba(60, 64, 67, 0.15);\n",
              "      fill: #174EA6;\n",
              "    }\n",
              "\n",
              "    .colab-df-buttons div {\n",
              "      margin-bottom: 4px;\n",
              "    }\n",
              "\n",
              "    [theme=dark] .colab-df-convert {\n",
              "      background-color: #3B4455;\n",
              "      fill: #D2E3FC;\n",
              "    }\n",
              "\n",
              "    [theme=dark] .colab-df-convert:hover {\n",
              "      background-color: #434B5C;\n",
              "      box-shadow: 0px 1px 3px 1px rgba(0, 0, 0, 0.15);\n",
              "      filter: drop-shadow(0px 1px 2px rgba(0, 0, 0, 0.3));\n",
              "      fill: #FFFFFF;\n",
              "    }\n",
              "  </style>\n",
              "\n",
              "    <script>\n",
              "      const buttonEl =\n",
              "        document.querySelector('#df-58ef27d5-12f7-4749-aa3f-3e41fbd27714 button.colab-df-convert');\n",
              "      buttonEl.style.display =\n",
              "        google.colab.kernel.accessAllowed ? 'block' : 'none';\n",
              "\n",
              "      async function convertToInteractive(key) {\n",
              "        const element = document.querySelector('#df-58ef27d5-12f7-4749-aa3f-3e41fbd27714');\n",
              "        const dataTable =\n",
              "          await google.colab.kernel.invokeFunction('convertToInteractive',\n",
              "                                                    [key], {});\n",
              "        if (!dataTable) return;\n",
              "\n",
              "        const docLinkHtml = 'Like what you see? Visit the ' +\n",
              "          '<a target=\"_blank\" href=https://colab.research.google.com/notebooks/data_table.ipynb>data table notebook</a>'\n",
              "          + ' to learn more about interactive tables.';\n",
              "        element.innerHTML = '';\n",
              "        dataTable['output_type'] = 'display_data';\n",
              "        await google.colab.output.renderOutput(dataTable, element);\n",
              "        const docLink = document.createElement('div');\n",
              "        docLink.innerHTML = docLinkHtml;\n",
              "        element.appendChild(docLink);\n",
              "      }\n",
              "    </script>\n",
              "  </div>\n",
              "\n",
              "\n",
              "<div id=\"df-b7d059ce-f72d-40eb-a67c-7bbd2c10f89e\">\n",
              "  <button class=\"colab-df-quickchart\" onclick=\"quickchart('df-b7d059ce-f72d-40eb-a67c-7bbd2c10f89e')\"\n",
              "            title=\"Suggest charts\"\n",
              "            style=\"display:none;\">\n",
              "\n",
              "<svg xmlns=\"http://www.w3.org/2000/svg\" height=\"24px\"viewBox=\"0 0 24 24\"\n",
              "     width=\"24px\">\n",
              "    <g>\n",
              "        <path d=\"M19 3H5c-1.1 0-2 .9-2 2v14c0 1.1.9 2 2 2h14c1.1 0 2-.9 2-2V5c0-1.1-.9-2-2-2zM9 17H7v-7h2v7zm4 0h-2V7h2v10zm4 0h-2v-4h2v4z\"/>\n",
              "    </g>\n",
              "</svg>\n",
              "  </button>\n",
              "\n",
              "<style>\n",
              "  .colab-df-quickchart {\n",
              "      --bg-color: #E8F0FE;\n",
              "      --fill-color: #1967D2;\n",
              "      --hover-bg-color: #E2EBFA;\n",
              "      --hover-fill-color: #174EA6;\n",
              "      --disabled-fill-color: #AAA;\n",
              "      --disabled-bg-color: #DDD;\n",
              "  }\n",
              "\n",
              "  [theme=dark] .colab-df-quickchart {\n",
              "      --bg-color: #3B4455;\n",
              "      --fill-color: #D2E3FC;\n",
              "      --hover-bg-color: #434B5C;\n",
              "      --hover-fill-color: #FFFFFF;\n",
              "      --disabled-bg-color: #3B4455;\n",
              "      --disabled-fill-color: #666;\n",
              "  }\n",
              "\n",
              "  .colab-df-quickchart {\n",
              "    background-color: var(--bg-color);\n",
              "    border: none;\n",
              "    border-radius: 50%;\n",
              "    cursor: pointer;\n",
              "    display: none;\n",
              "    fill: var(--fill-color);\n",
              "    height: 32px;\n",
              "    padding: 0;\n",
              "    width: 32px;\n",
              "  }\n",
              "\n",
              "  .colab-df-quickchart:hover {\n",
              "    background-color: var(--hover-bg-color);\n",
              "    box-shadow: 0 1px 2px rgba(60, 64, 67, 0.3), 0 1px 3px 1px rgba(60, 64, 67, 0.15);\n",
              "    fill: var(--button-hover-fill-color);\n",
              "  }\n",
              "\n",
              "  .colab-df-quickchart-complete:disabled,\n",
              "  .colab-df-quickchart-complete:disabled:hover {\n",
              "    background-color: var(--disabled-bg-color);\n",
              "    fill: var(--disabled-fill-color);\n",
              "    box-shadow: none;\n",
              "  }\n",
              "\n",
              "  .colab-df-spinner {\n",
              "    border: 2px solid var(--fill-color);\n",
              "    border-color: transparent;\n",
              "    border-bottom-color: var(--fill-color);\n",
              "    animation:\n",
              "      spin 1s steps(1) infinite;\n",
              "  }\n",
              "\n",
              "  @keyframes spin {\n",
              "    0% {\n",
              "      border-color: transparent;\n",
              "      border-bottom-color: var(--fill-color);\n",
              "      border-left-color: var(--fill-color);\n",
              "    }\n",
              "    20% {\n",
              "      border-color: transparent;\n",
              "      border-left-color: var(--fill-color);\n",
              "      border-top-color: var(--fill-color);\n",
              "    }\n",
              "    30% {\n",
              "      border-color: transparent;\n",
              "      border-left-color: var(--fill-color);\n",
              "      border-top-color: var(--fill-color);\n",
              "      border-right-color: var(--fill-color);\n",
              "    }\n",
              "    40% {\n",
              "      border-color: transparent;\n",
              "      border-right-color: var(--fill-color);\n",
              "      border-top-color: var(--fill-color);\n",
              "    }\n",
              "    60% {\n",
              "      border-color: transparent;\n",
              "      border-right-color: var(--fill-color);\n",
              "    }\n",
              "    80% {\n",
              "      border-color: transparent;\n",
              "      border-right-color: var(--fill-color);\n",
              "      border-bottom-color: var(--fill-color);\n",
              "    }\n",
              "    90% {\n",
              "      border-color: transparent;\n",
              "      border-bottom-color: var(--fill-color);\n",
              "    }\n",
              "  }\n",
              "</style>\n",
              "\n",
              "  <script>\n",
              "    async function quickchart(key) {\n",
              "      const quickchartButtonEl =\n",
              "        document.querySelector('#' + key + ' button');\n",
              "      quickchartButtonEl.disabled = true;  // To prevent multiple clicks.\n",
              "      quickchartButtonEl.classList.add('colab-df-spinner');\n",
              "      try {\n",
              "        const charts = await google.colab.kernel.invokeFunction(\n",
              "            'suggestCharts', [key], {});\n",
              "      } catch (error) {\n",
              "        console.error('Error during call to suggestCharts:', error);\n",
              "      }\n",
              "      quickchartButtonEl.classList.remove('colab-df-spinner');\n",
              "      quickchartButtonEl.classList.add('colab-df-quickchart-complete');\n",
              "    }\n",
              "    (() => {\n",
              "      let quickchartButtonEl =\n",
              "        document.querySelector('#df-b7d059ce-f72d-40eb-a67c-7bbd2c10f89e button');\n",
              "      quickchartButtonEl.style.display =\n",
              "        google.colab.kernel.accessAllowed ? 'block' : 'none';\n",
              "    })();\n",
              "  </script>\n",
              "</div>\n",
              "    </div>\n",
              "  </div>\n"
            ],
            "application/vnd.google.colaboratory.intrinsic+json": {
              "type": "dataframe",
              "variable_name": "pca_df",
              "summary": "{\n  \"name\": \"pca_df\",\n  \"rows\": 569,\n  \"fields\": [\n    {\n      \"column\": \"principal component 1\",\n      \"properties\": {\n        \"dtype\": \"number\",\n        \"std\": 3.733935466095256,\n        \"min\": -5.61017549564184,\n        \"max\": 16.25920625787642,\n        \"num_unique_values\": 569,\n        \"samples\": [\n          -0.9338042585799813,\n          2.9700189052374073,\n          1.6988009965902577\n        ],\n        \"semantic_type\": \"\",\n        \"description\": \"\"\n      }\n    },\n    {\n      \"column\": \"principal component 2\",\n      \"properties\": {\n        \"dtype\": \"number\",\n        \"std\": 2.3950853383560107,\n        \"min\": -7.313433359680415,\n        \"max\": 12.873425761474456,\n        \"num_unique_values\": 569,\n        \"samples\": [\n          0.6825445683013389,\n          -4.437947027224459,\n          -1.1139261954896644\n        ],\n        \"semantic_type\": \"\",\n        \"description\": \"\"\n      }\n    },\n    {\n      \"column\": \"principal component 3\",\n      \"properties\": {\n        \"dtype\": \"number\",\n        \"std\": 1.6887455528893083,\n        \"min\": -5.005641280715854,\n        \"max\": 10.473324221264804,\n        \"num_unique_values\": 569,\n        \"samples\": [\n          -0.5923323600557829,\n          0.33490118123985935,\n          -1.3280766208888022\n        ],\n        \"semantic_type\": \"\",\n        \"description\": \"\"\n      }\n    },\n    {\n      \"column\": \"principal component 4\",\n      \"properties\": {\n        \"dtype\": \"number\",\n        \"std\": 1.4148785776327235,\n        \"min\": -4.981119513119646,\n        \"max\": 5.247370471498639,\n        \"num_unique_values\": 569,\n        \"samples\": [\n          -0.26778989612643855,\n          -0.48134687496237133,\n          -0.46693680993590253\n        ],\n        \"semantic_type\": \"\",\n        \"description\": \"\"\n      }\n    },\n    {\n      \"column\": \"principal component 5\",\n      \"properties\": {\n        \"dtype\": \"number\",\n        \"std\": 1.2891855926417195,\n        \"min\": -4.884748157703966,\n        \"max\": 7.341988103358654,\n        \"num_unique_values\": 569,\n        \"samples\": [\n          -0.39133888134035566,\n          0.33127067064106347,\n          -0.6941928812702743\n        ],\n        \"semantic_type\": \"\",\n        \"description\": \"\"\n      }\n    },\n    {\n      \"column\": \"principal component 6\",\n      \"properties\": {\n        \"dtype\": \"number\",\n        \"std\": 1.0998335286498322,\n        \"min\": -4.258836507904076,\n        \"max\": 5.1270451981576945,\n        \"num_unique_values\": 569,\n        \"samples\": [\n          -0.1516577471033994,\n          -0.29749259780307175,\n          -0.7934444612684244\n        ],\n        \"semantic_type\": \"\",\n        \"description\": \"\"\n      }\n    },\n    {\n      \"column\": \"principal component 7\",\n      \"properties\": {\n        \"dtype\": \"number\",\n        \"std\": 0.8282056785386432,\n        \"min\": -4.4430303116292915,\n        \"max\": 5.422830297321617,\n        \"num_unique_values\": 569,\n        \"samples\": [\n          0.2815816075709644,\n          0.20825847027148886,\n          -0.7034296737814962\n        ],\n        \"semantic_type\": \"\",\n        \"description\": \"\"\n      }\n    },\n    {\n      \"column\": \"principal component 8\",\n      \"properties\": {\n        \"dtype\": \"number\",\n        \"std\": 0.6969283010668827,\n        \"min\": -3.65164154911017,\n        \"max\": 4.33746041412384,\n        \"num_unique_values\": 569,\n        \"samples\": [\n          -0.17223216884563472,\n          0.19399108955745034,\n          -0.12779041146720707\n        ],\n        \"semantic_type\": \"\",\n        \"description\": \"\"\n      }\n    },\n    {\n      \"column\": \"principal component 9\",\n      \"properties\": {\n        \"dtype\": \"number\",\n        \"std\": 0.6462420599190476,\n        \"min\": -2.968758909527864,\n        \"max\": 3.7834954753265997,\n        \"num_unique_values\": 569,\n        \"samples\": [\n          0.5335866984381051,\n          0.3273211880784858,\n          0.6697961245352062\n        ],\n        \"semantic_type\": \"\",\n        \"description\": \"\"\n      }\n    },\n    {\n      \"column\": \"principal component 10\",\n      \"properties\": {\n        \"dtype\": \"number\",\n        \"std\": 0.5928839753171036,\n        \"min\": -2.79551791177437,\n        \"max\": 3.1380996458029435,\n        \"num_unique_values\": 569,\n        \"samples\": [\n          0.2178826554616438,\n          0.0038660030214224695,\n          0.10347639123495331\n        ],\n        \"semantic_type\": \"\",\n        \"description\": \"\"\n      }\n    },\n    {\n      \"column\": \"principal component 11\",\n      \"properties\": {\n        \"dtype\": \"number\",\n        \"std\": 0.5526229389425912,\n        \"min\": -2.192943867276185,\n        \"max\": 2.96666856080665,\n        \"num_unique_values\": 569,\n        \"samples\": [\n          -0.3414500936507585,\n          0.29065498806778217,\n          0.3057485240375563\n        ],\n        \"semantic_type\": \"\",\n        \"description\": \"\"\n      }\n    }\n  ]\n}"
            }
          },
          "metadata": {},
          "execution_count": 23
        }
      ]
    },
    {
      "cell_type": "code",
      "source": [
        "pca_df.info()"
      ],
      "metadata": {
        "id": "c9u8G-epzPva",
        "outputId": "330e526c-d989-47e8-94b3-5e44e08aebb4",
        "colab": {
          "base_uri": "https://localhost:8080/"
        }
      },
      "execution_count": null,
      "outputs": [
        {
          "output_type": "stream",
          "name": "stdout",
          "text": [
            "<class 'pandas.core.frame.DataFrame'>\n",
            "RangeIndex: 569 entries, 0 to 568\n",
            "Data columns (total 11 columns):\n",
            " #   Column                  Non-Null Count  Dtype  \n",
            "---  ------                  --------------  -----  \n",
            " 0   principal component 1   569 non-null    float64\n",
            " 1   principal component 2   569 non-null    float64\n",
            " 2   principal component 3   569 non-null    float64\n",
            " 3   principal component 4   569 non-null    float64\n",
            " 4   principal component 5   569 non-null    float64\n",
            " 5   principal component 6   569 non-null    float64\n",
            " 6   principal component 7   569 non-null    float64\n",
            " 7   principal component 8   569 non-null    float64\n",
            " 8   principal component 9   569 non-null    float64\n",
            " 9   principal component 10  569 non-null    float64\n",
            " 10  principal component 11  569 non-null    float64\n",
            "dtypes: float64(11)\n",
            "memory usage: 49.0 KB\n"
          ]
        }
      ]
    },
    {
      "cell_type": "code",
      "source": [
        "import numpy\n",
        "\n",
        "explained_variance = np.var(pca_df, axis=0)\n",
        "explained_variance_ratio = explained_variance / numpy.sum(explained_variance)"
      ],
      "metadata": {
        "id": "dEjXuexeYPMc"
      },
      "execution_count": null,
      "outputs": []
    },
    {
      "cell_type": "code",
      "source": [
        "explained_variance_ratio"
      ],
      "metadata": {
        "id": "VH8eFZvucXqG",
        "outputId": "7d475387-9d87-4c24-afc8-4c047c32f16a",
        "colab": {
          "base_uri": "https://localhost:8080/"
        }
      },
      "execution_count": null,
      "outputs": [
        {
          "output_type": "execute_result",
          "data": {
            "text/plain": [
              "principal component 1     0.470225\n",
              "principal component 2     0.193470\n",
              "principal component 3     0.096183\n",
              "principal component 4     0.067517\n",
              "principal component 5     0.056053\n",
              "principal component 6     0.040797\n",
              "principal component 7     0.023134\n",
              "principal component 8     0.016381\n",
              "principal component 9     0.014085\n",
              "principal component 10    0.011855\n",
              "principal component 11    0.010300\n",
              "dtype: float64"
            ]
          },
          "metadata": {},
          "execution_count": 26
        }
      ]
    },
    {
      "cell_type": "markdown",
      "source": [
        "##Data split"
      ],
      "metadata": {
        "id": "nR4NyKAPe3Za"
      }
    },
    {
      "cell_type": "code",
      "source": [
        "X_train_PCA, X_test_PCA, y_train_PCA, y_test_PCA = train_test_split(pca_df.iloc[:,0:], df['diagnosis'], test_size = 0.3, random_state = 42)"
      ],
      "metadata": {
        "id": "S67XweFRcrgh"
      },
      "execution_count": null,
      "outputs": []
    },
    {
      "cell_type": "code",
      "source": [
        "X_train_PCA.shape, y_train_PCA.shape, X_test_PCA.shape, y_test_PCA.shape"
      ],
      "metadata": {
        "id": "Wg7Tj4kzvOrg",
        "outputId": "5cf692ed-d2ec-4c58-965d-4c3091d34abf",
        "colab": {
          "base_uri": "https://localhost:8080/"
        }
      },
      "execution_count": null,
      "outputs": [
        {
          "output_type": "execute_result",
          "data": {
            "text/plain": [
              "((398, 11), (398,), (171, 11), (171,))"
            ]
          },
          "metadata": {},
          "execution_count": 28
        }
      ]
    },
    {
      "cell_type": "code",
      "source": [
        "X_train_PCA, X_test_PCA, y_train_PCA, y_test_PCA"
      ],
      "metadata": {
        "id": "fHGOjBE0gNsY",
        "outputId": "726e0a6c-e162-4576-8a89-b7436224ef78",
        "colab": {
          "base_uri": "https://localhost:8080/"
        }
      },
      "execution_count": null,
      "outputs": [
        {
          "output_type": "execute_result",
          "data": {
            "text/plain": [
              "(     principal component 1  principal component 2  principal component 3  \\\n",
              " 149              -3.120456              -2.257719              -0.412001   \n",
              " 124              -2.316094              -0.729194               0.325832   \n",
              " 421               1.732106               2.443614               1.370754   \n",
              " 195              -2.907740              -0.989795              -0.349004   \n",
              " 545              -2.033886              -1.131687               0.492454   \n",
              " ..                     ...                    ...                    ...   \n",
              " 71               -0.590093               7.456615               3.824572   \n",
              " 106              -0.911921               1.819743              -0.560820   \n",
              " 270              -4.532257              -3.227072              -0.158078   \n",
              " 435               0.942518               0.330933              -2.805034   \n",
              " 102              -3.509715              -1.468525              -0.120968   \n",
              " \n",
              "      principal component 4  principal component 5  principal component 6  \\\n",
              " 149              -0.284994               1.596586               0.408218   \n",
              " 124              -0.087326               2.940496              -0.254436   \n",
              " 421              -1.825723               0.126686               0.139140   \n",
              " 195              -0.509865               0.550789               1.207674   \n",
              " 545               1.131085              -0.123370               0.123092   \n",
              " ..                     ...                    ...                    ...   \n",
              " 71               -2.075189               2.522565              -1.660892   \n",
              " 106               0.540818              -0.867439              -1.599755   \n",
              " 270              -0.448277               1.369184               1.133617   \n",
              " 435               0.756064              -0.042683              -1.088878   \n",
              " 102               1.693678              -0.020431               0.349575   \n",
              " \n",
              "      principal component 7  principal component 8  principal component 9  \\\n",
              " 149               0.513215              -0.232419              -0.053268   \n",
              " 124              -0.199271               0.052239              -0.198209   \n",
              " 421               0.474834              -0.609865              -0.712493   \n",
              " 195              -0.351418               0.066668               0.330129   \n",
              " 545              -0.026853              -0.107498               0.057842   \n",
              " ..                     ...                    ...                    ...   \n",
              " 71                2.200615               1.599356              -1.885006   \n",
              " 106              -0.376177              -0.584020               0.527465   \n",
              " 270               0.115811               0.169152              -0.429717   \n",
              " 435              -0.111664               0.038709              -0.009610   \n",
              " 102              -0.169278              -0.570750               0.455191   \n",
              " \n",
              "      principal component 10  principal component 11  \n",
              " 149               -0.120050               -0.333772  \n",
              " 124               -0.463282               -0.059774  \n",
              " 421                0.041996               -0.702203  \n",
              " 195                0.208404               -0.004836  \n",
              " 545                0.168475               -0.625883  \n",
              " ..                      ...                     ...  \n",
              " 71                 3.138100                0.889840  \n",
              " 106               -0.439260               -0.108199  \n",
              " 270                0.345817                0.096016  \n",
              " 435               -0.534321                0.787566  \n",
              " 102                0.155663                0.146939  \n",
              " \n",
              " [398 rows x 11 columns],\n",
              "      principal component 1  principal component 2  principal component 3  \\\n",
              " 204              -0.933804               0.682545              -0.592332   \n",
              " 70                2.970019              -4.437947               0.334901   \n",
              " 131               1.698801              -1.113926              -1.328077   \n",
              " 431              -1.094025               2.507605               0.381609   \n",
              " 540              -1.832794               2.407207               1.508785   \n",
              " ..                     ...                    ...                    ...   \n",
              " 69               -3.341899              -0.967235               0.221476   \n",
              " 542              -1.411653              -1.797310               0.405824   \n",
              " 176               0.864605               7.121146               4.267216   \n",
              " 501               2.977326               3.340485              -0.906072   \n",
              " 247               0.801759               2.445531              -1.465281   \n",
              " \n",
              "      principal component 4  principal component 5  principal component 6  \\\n",
              " 204              -0.267790              -0.391339              -0.151658   \n",
              " 70               -0.481347               0.331271              -0.297493   \n",
              " 131              -0.466937              -0.694193              -0.793444   \n",
              " 431              -0.277133               0.140743              -0.988964   \n",
              " 540              -0.840378               0.417071              -1.195579   \n",
              " ..                     ...                    ...                    ...   \n",
              " 69               -1.060277              -0.511413              -0.436419   \n",
              " 542               1.776957               0.327566               0.776664   \n",
              " 176               0.348494               2.848981              -0.402995   \n",
              " 501               1.455776              -1.584553              -0.509312   \n",
              " 247              -1.414228               4.166790              -0.211913   \n",
              " \n",
              "      principal component 7  principal component 8  principal component 9  \\\n",
              " 204               0.281582              -0.172232               0.533587   \n",
              " 70                0.208258               0.193991               0.327321   \n",
              " 131              -0.703430              -0.127790               0.669796   \n",
              " 431               0.002318              -0.170332              -0.627098   \n",
              " 540              -0.682887              -0.175921              -0.291659   \n",
              " ..                     ...                    ...                    ...   \n",
              " 69               -0.845164               0.262741              -0.005155   \n",
              " 542              -0.333656              -0.557843               0.364807   \n",
              " 176               0.601929               0.641766              -1.249844   \n",
              " 501               0.128452               0.200326              -0.051513   \n",
              " 247               0.749143               0.583078               0.142451   \n",
              " \n",
              "      principal component 10  principal component 11  \n",
              " 204                0.217883               -0.341450  \n",
              " 70                 0.003866                0.290655  \n",
              " 131                0.103476                0.305749  \n",
              " 431                0.134397               -0.335975  \n",
              " 540                0.105784                0.117691  \n",
              " ..                      ...                     ...  \n",
              " 69                -0.286727               -0.409763  \n",
              " 542                0.826372               -0.490029  \n",
              " 176                0.110000                1.055173  \n",
              " 501                0.934757                0.623916  \n",
              " 247               -0.876282               -0.309668  \n",
              " \n",
              " [171 rows x 11 columns],\n",
              " 149    0\n",
              " 124    0\n",
              " 421    0\n",
              " 195    0\n",
              " 545    0\n",
              "       ..\n",
              " 71     0\n",
              " 106    0\n",
              " 270    0\n",
              " 435    1\n",
              " 102    0\n",
              " Name: diagnosis, Length: 398, dtype: int64,\n",
              " 204    0\n",
              " 70     1\n",
              " 131    1\n",
              " 431    0\n",
              " 540    0\n",
              "       ..\n",
              " 69     0\n",
              " 542    0\n",
              " 176    0\n",
              " 501    1\n",
              " 247    0\n",
              " Name: diagnosis, Length: 171, dtype: int64)"
            ]
          },
          "metadata": {},
          "execution_count": 29
        }
      ]
    },
    {
      "cell_type": "markdown",
      "metadata": {
        "id": "_SJau7Ijgs3u"
      },
      "source": [
        "Fit PCA on training set. Note: you are fitting PCA on the training set only\n",
        "\n"
      ]
    },
    {
      "cell_type": "code",
      "metadata": {
        "id": "_8rtpj1mgnfr"
      },
      "source": [
        "#pca.fit(X_train)"
      ],
      "execution_count": null,
      "outputs": []
    },
    {
      "cell_type": "markdown",
      "metadata": {
        "id": "QIK_0lpCodgj"
      },
      "source": [
        "Apply the mapping (transform) to both the training set and the test set."
      ]
    },
    {
      "cell_type": "code",
      "source": [
        "X_train_PCA = pca.fit_transform(X_train_PCA)\n",
        "\n",
        "# Transform testing data using the same PCA model\n",
        "X_test_PCA = pca.transform(X_test_PCA)"
      ],
      "metadata": {
        "id": "EBjvL9r2xHxu"
      },
      "execution_count": null,
      "outputs": []
    },
    {
      "cell_type": "markdown",
      "metadata": {
        "id": "He93au89gS_O"
      },
      "source": [
        "#Machine Learning Algorithms"
      ]
    },
    {
      "cell_type": "markdown",
      "source": [
        "## `1. Logistic Regression`"
      ],
      "metadata": {
        "id": "VUTpCRbp-Jy1"
      }
    },
    {
      "cell_type": "markdown",
      "metadata": {
        "id": "bZxgNYkUgxOU"
      },
      "source": [
        "###Step 1: Import the model you want to use\n",
        "\n",
        "In sklearn, all machine learning models are implemented as Python classes"
      ]
    },
    {
      "cell_type": "code",
      "metadata": {
        "id": "jrwarFqNo270"
      },
      "source": [
        "from sklearn.linear_model import LogisticRegression\n",
        "from sklearn.metrics import recall_score"
      ],
      "execution_count": null,
      "outputs": []
    },
    {
      "cell_type": "markdown",
      "metadata": {
        "id": "BNzcIxkGo6wJ"
      },
      "source": [
        "###Step 2: Make an instance of the Model"
      ]
    },
    {
      "cell_type": "code",
      "metadata": {
        "id": "HKAXZZq_o-er"
      },
      "source": [
        "# all parameters not specified are set to their defaults\n",
        "# default solver is incredibly slow thats why we change it\n",
        "# solver = 'lbfgs'\n",
        "logisticRegr = LogisticRegression(solver = 'lbfgs')"
      ],
      "execution_count": null,
      "outputs": []
    },
    {
      "cell_type": "markdown",
      "metadata": {
        "id": "YVhkuErXpKG_"
      },
      "source": [
        "###Step 3: Training the model on the data, storing the information learned from the data\n",
        "\n",
        "Model is learning the relationship between x (digits) and y (labels)"
      ]
    },
    {
      "cell_type": "code",
      "metadata": {
        "id": "jJWlDSdFpO-h"
      },
      "source": [
        "PCA_model_logis = logisticRegr.fit(X_train_PCA, y_train_PCA)"
      ],
      "execution_count": null,
      "outputs": []
    },
    {
      "cell_type": "markdown",
      "metadata": {
        "id": "Znh7U9icpqtN"
      },
      "source": [
        "###Step 4: Predict the labels of new data (new images)\n",
        "\n",
        "Uses the information the model learned during the model training process"
      ]
    },
    {
      "cell_type": "code",
      "source": [
        "# Predictions\n",
        "PCA_y_pred_logis = logisticRegr.predict(X_test_PCA)"
      ],
      "metadata": {
        "id": "on8CU7J39MXB"
      },
      "execution_count": null,
      "outputs": []
    },
    {
      "cell_type": "code",
      "source": [
        "PCA_y_pred_logis"
      ],
      "metadata": {
        "colab": {
          "base_uri": "https://localhost:8080/"
        },
        "id": "s9m3XtOt4Bty",
        "outputId": "1fa5b969-14a6-42dc-c19d-38400a9d4c89"
      },
      "execution_count": null,
      "outputs": [
        {
          "output_type": "execute_result",
          "data": {
            "text/plain": [
              "array([0, 1, 1, 0, 0, 1, 1, 1, 0, 0, 0, 1, 0, 1, 0, 1, 0, 0, 0, 1, 0, 0,\n",
              "       1, 0, 0, 0, 0, 0, 0, 1, 0, 0, 0, 0, 0, 0, 1, 0, 1, 0, 0, 1, 0, 0,\n",
              "       0, 0, 0, 0, 0, 0, 1, 1, 0, 0, 0, 0, 0, 1, 1, 0, 0, 1, 1, 0, 0, 0,\n",
              "       1, 1, 0, 0, 1, 1, 0, 1, 0, 0, 0, 1, 0, 0, 1, 0, 1, 1, 1, 1, 1, 1,\n",
              "       0, 0, 0, 0, 0, 0, 0, 0, 1, 1, 0, 1, 1, 0, 1, 1, 0, 0, 0, 1, 0, 0,\n",
              "       1, 0, 0, 1, 0, 1, 0, 0, 0, 1, 0, 0, 0, 1, 0, 1, 1, 0, 0, 1, 1, 1,\n",
              "       0, 0, 0, 1, 0, 0, 0, 1, 0, 1, 0, 0, 1, 0, 1, 1, 1, 0, 1, 0, 0, 0,\n",
              "       0, 1, 1, 0, 0, 0, 0, 0, 0, 0, 1, 0, 0, 0, 0, 1, 0])"
            ]
          },
          "metadata": {},
          "execution_count": 36
        }
      ]
    },
    {
      "cell_type": "code",
      "source": [
        "# สมมติว่าคุณมีโมเดล logistic regression ชื่อว่า logisticRegr\n",
        "# และคุณได้ทำการทำนายด้วยข้อมูล PCA แล้วเก็บผลลัพธ์ไว้ในตัวแปร PCA_y_pred_logis\n",
        "\n",
        "# ใช้ inverse_transform เพื่อทำการ decode\n",
        "decoded_y_pred = le.inverse_transform(PCA_y_pred_logis)\n",
        "\n",
        "# ผลลัพธ์คือค่าข้อมูลที่ถูก decode กลับมาจากการทำนาย PCA_y_pred_logis\n",
        "print(decoded_y_pred)\n"
      ],
      "metadata": {
        "colab": {
          "base_uri": "https://localhost:8080/"
        },
        "id": "3l_k7WFRxkSi",
        "outputId": "0225a7ed-0c95-45c3-c069-ecc8d2686e35"
      },
      "execution_count": null,
      "outputs": [
        {
          "output_type": "stream",
          "name": "stdout",
          "text": [
            "['B' 'M' 'M' 'B' 'B' 'M' 'M' 'M' 'B' 'B' 'B' 'M' 'B' 'M' 'B' 'M' 'B' 'B'\n",
            " 'B' 'M' 'B' 'B' 'M' 'B' 'B' 'B' 'B' 'B' 'B' 'M' 'B' 'B' 'B' 'B' 'B' 'B'\n",
            " 'M' 'B' 'M' 'B' 'B' 'M' 'B' 'B' 'B' 'B' 'B' 'B' 'B' 'B' 'M' 'M' 'B' 'B'\n",
            " 'B' 'B' 'B' 'M' 'M' 'B' 'B' 'M' 'M' 'B' 'B' 'B' 'M' 'M' 'B' 'B' 'M' 'M'\n",
            " 'B' 'M' 'B' 'B' 'B' 'M' 'B' 'B' 'M' 'B' 'M' 'M' 'M' 'M' 'M' 'M' 'B' 'B'\n",
            " 'B' 'B' 'B' 'B' 'B' 'B' 'M' 'M' 'B' 'M' 'M' 'B' 'M' 'M' 'B' 'B' 'B' 'M'\n",
            " 'B' 'B' 'M' 'B' 'B' 'M' 'B' 'M' 'B' 'B' 'B' 'M' 'B' 'B' 'B' 'M' 'B' 'M'\n",
            " 'M' 'B' 'B' 'M' 'M' 'M' 'B' 'B' 'B' 'M' 'B' 'B' 'B' 'M' 'B' 'M' 'B' 'B'\n",
            " 'M' 'B' 'M' 'M' 'M' 'B' 'M' 'B' 'B' 'B' 'B' 'M' 'M' 'B' 'B' 'B' 'B' 'B'\n",
            " 'B' 'B' 'M' 'B' 'B' 'B' 'B' 'M' 'B']\n"
          ]
        }
      ]
    },
    {
      "cell_type": "markdown",
      "metadata": {
        "id": "eaOyUZjFp23C"
      },
      "source": [
        "###Step 5: Measuring Model Performance\n",
        "accuracy (fraction of correct predictions): correct predictions / total number of data points\n",
        "\n",
        "Basically, how the model performs on new data (test set)"
      ]
    },
    {
      "cell_type": "code",
      "source": [
        "# ประเมินความสามารถในการจำแนกคลาสของโมเดล\n",
        "from sklearn.metrics import accuracy_score, classification_report, roc_auc_score\n",
        "from sklearn.metrics import fbeta_score\n",
        "\n",
        "\n",
        "PCA_accuracy_logis = accuracy_score(y_test_PCA, PCA_y_pred_logis)\n",
        "PCA_roc_auc_logis = roc_auc_score(y_test_PCA, PCA_y_pred_logis)\n",
        "PCA_recall_logis = recall_score(y_test_PCA, PCA_y_pred_logis)\n",
        "PCA_report_logis = classification_report(y_test_PCA, PCA_y_pred_logis)\n",
        "PCA_f1_logis = fbeta_score(y_test_PCA, PCA_y_pred_logis, beta=1)\n",
        "PCA_f2_logis = fbeta_score(y_test_PCA, PCA_y_pred_logis, beta=2)\n",
        "\n",
        "print(\"F2 Score:\", PCA_f2_logis)\n",
        "print(\"F1 Score:\", PCA_f1_logis)\n",
        "print(\"Recall Score:\", PCA_recall_logis)\n",
        "print(\"Accuracy:\", PCA_accuracy_logis)\n",
        "print(\"ROC AUC:\", PCA_roc_auc_logis)\n",
        "print(\"Classification Report:\\n\", PCA_report_logis)"
      ],
      "metadata": {
        "id": "uoKcuLTq6M3m",
        "outputId": "33c8fb2e-7e24-4c43-e0bd-08a9460e220f",
        "colab": {
          "base_uri": "https://localhost:8080/"
        }
      },
      "execution_count": null,
      "outputs": [
        {
          "output_type": "stream",
          "name": "stdout",
          "text": [
            "F2 Score: 0.9872611464968152\n",
            "F1 Score: 0.9919999999999999\n",
            "Recall Score: 0.9841269841269841\n",
            "Accuracy: 0.9941520467836257\n",
            "ROC AUC: 0.9920634920634921\n",
            "Classification Report:\n",
            "               precision    recall  f1-score   support\n",
            "\n",
            "           0       0.99      1.00      1.00       108\n",
            "           1       1.00      0.98      0.99        63\n",
            "\n",
            "    accuracy                           0.99       171\n",
            "   macro avg       1.00      0.99      0.99       171\n",
            "weighted avg       0.99      0.99      0.99       171\n",
            "\n"
          ]
        }
      ]
    },
    {
      "cell_type": "code",
      "source": [
        "from sklearn.metrics import confusion_matrix\n",
        "\n",
        "# คำนวณ Confusion Matrix\n",
        "PCA_cm_logis = confusion_matrix(y_test_PCA, PCA_y_pred_logis)\n",
        "\n",
        "# แสดงในรูปแบบเปอร์เซ็น\n",
        "plt.figure(figsize=(8, 6))\n",
        "sns.heatmap(PCA_cm_logis / PCA_cm_logis.sum(axis=1)[:, np.newaxis], annot=True, fmt=\".3%\", cmap=\"Blues\")\n",
        "plt.title(\"Confusion Matrix (Logistic Regression)\")\n",
        "plt.xlabel(\"Predicted\")\n",
        "plt.ylabel(\"Actual\")\n",
        "plt.show()"
      ],
      "metadata": {
        "id": "zq31JlPr6Nft",
        "outputId": "295574f0-a639-454e-def0-db1783a7712e",
        "colab": {
          "base_uri": "https://localhost:8080/",
          "height": 564
        }
      },
      "execution_count": null,
      "outputs": [
        {
          "output_type": "display_data",
          "data": {
            "text/plain": [
              "<Figure size 800x600 with 2 Axes>"
            ],
            "image/png": "[encoded data removed]"
          },
          "metadata": {}
        }
      ]
    },
    {
      "cell_type": "code",
      "source": [
        "# Plot ROC Curve\n",
        "PCA_fpr_logis, PCA_tpr_logis, thresholds_PCA = roc_curve(y_test_PCA, PCA_y_pred_logis)\n",
        "PCA_roc_auc_logis = auc(PCA_fpr_logis, PCA_tpr_logis)\n",
        "\n",
        "plt.figure()\n",
        "lw = 2\n",
        "plt.plot(PCA_fpr_logis, PCA_tpr_logis, color='darkorange', lw=lw, label='ROC curve (area = %0.3f)' % PCA_roc_auc_logis)\n",
        "plt.plot([0, 1], [0, 1], color='navy', lw=lw, linestyle='--')\n",
        "plt.xlim([0.0, 1.0])\n",
        "plt.ylim([0.0, 1.05])\n",
        "plt.xlabel('False Positive Rate')\n",
        "plt.ylabel('True Positive Rate')\n",
        "plt.title('Logis performance with ROC curve')\n",
        "plt.legend(loc=\"lower right\")\n",
        "plt.show()"
      ],
      "metadata": {
        "id": "oMZ98pkIoCgt",
        "outputId": "f3b37b49-566b-4eb9-f9ca-58f41965b117",
        "colab": {
          "base_uri": "https://localhost:8080/",
          "height": 472
        }
      },
      "execution_count": null,
      "outputs": [
        {
          "output_type": "display_data",
          "data": {
            "text/plain": [
              "<Figure size 640x480 with 1 Axes>"
            ],
            "image/png": "[encoded data removed]"
          },
          "metadata": {}
        }
      ]
    },
    {
      "cell_type": "markdown",
      "source": [
        "## `2. SVC`"
      ],
      "metadata": {
        "id": "ZoQhX8GYx6ec"
      }
    },
    {
      "cell_type": "code",
      "source": [
        "# import SVC classifier\n",
        "from sklearn.svm import SVC\n",
        "from sklearn.metrics import accuracy_score\n",
        "\n",
        "# instantiate classifier with linear kernel and C=10\n",
        "PCA_linear_svc = SVC(kernel='linear', C=10)\n",
        "\n",
        "\n",
        "# fit classifier to training set\n",
        "PCA_model_svc = PCA_linear_svc.fit(X_train_PCA, y_train_PCA)\n",
        "\n",
        "\n",
        "# make predictions on test set\n",
        "PCA_y_pred_SVC = PCA_model_svc.predict(X_test_PCA)\n",
        "\n",
        "\n",
        "# compute and print accuracy score\n",
        "print('Model accuracy score with linear kernel and C=10 : {0:0.10f}'. format(accuracy_score(y_test_PCA, PCA_y_pred_SVC)))"
      ],
      "metadata": {
        "id": "aVhzbEaf4qGv",
        "outputId": "759d7024-e6bb-4426-947a-af844c30cb3f",
        "colab": {
          "base_uri": "https://localhost:8080/"
        }
      },
      "execution_count": null,
      "outputs": [
        {
          "output_type": "stream",
          "name": "stdout",
          "text": [
            "Model accuracy score with linear kernel and C=10 : 0.9941520468\n"
          ]
        }
      ]
    },
    {
      "cell_type": "code",
      "source": [
        "# ประเมินความสามารถในการจำแนกคลาสของโมเดล\n",
        "from sklearn.metrics import accuracy_score, classification_report, roc_auc_score\n",
        "from sklearn.metrics import fbeta_score\n",
        "\n",
        "\n",
        "PCA_accuracy_SVC = accuracy_score(y_test_PCA, PCA_y_pred_SVC)\n",
        "PCA_recall_SVC = recall_score(y_test_PCA, PCA_y_pred_SVC)\n",
        "PCA_roc_auc_SVC = roc_auc_score(y_test_PCA, PCA_y_pred_SVC)\n",
        "PCA_report_SVC = classification_report(y_test_PCA, PCA_y_pred_SVC)\n",
        "PCA_f1_SVC = fbeta_score(y_test_PCA, PCA_y_pred_SVC, beta=1)\n",
        "PCA_f2_SVC = fbeta_score(y_test_PCA, PCA_y_pred_SVC, beta=2)\n",
        "\n",
        "print(\"F2 Score:\", PCA_f2_SVC)\n",
        "print(\"F1 Score:\", PCA_f1_SVC)\n",
        "print(\"Recall Score:\", PCA_recall_SVC)\n",
        "print(\"Accuracy:\", PCA_accuracy_SVC)\n",
        "print(\"ROC AUC:\", PCA_roc_auc_SVC)\n",
        "print(\"Classification Report:\\n\", PCA_report_SVC)"
      ],
      "metadata": {
        "id": "GCiX3JkR5JGH",
        "outputId": "485ad53d-6df1-4d85-ed8b-6d4b777f6434",
        "colab": {
          "base_uri": "https://localhost:8080/"
        }
      },
      "execution_count": null,
      "outputs": [
        {
          "output_type": "stream",
          "name": "stdout",
          "text": [
            "F2 Score: 0.9872611464968152\n",
            "F1 Score: 0.9919999999999999\n",
            "Recall Score: 0.9841269841269841\n",
            "Accuracy: 0.9941520467836257\n",
            "ROC AUC: 0.9920634920634921\n",
            "Classification Report:\n",
            "               precision    recall  f1-score   support\n",
            "\n",
            "           0       0.99      1.00      1.00       108\n",
            "           1       1.00      0.98      0.99        63\n",
            "\n",
            "    accuracy                           0.99       171\n",
            "   macro avg       1.00      0.99      0.99       171\n",
            "weighted avg       0.99      0.99      0.99       171\n",
            "\n"
          ]
        }
      ]
    },
    {
      "cell_type": "code",
      "source": [
        "from sklearn.metrics import confusion_matrix\n",
        "\n",
        "# คำนวณ Confusion Matrix\n",
        "PCA_cm_SVC = confusion_matrix(y_test_PCA, PCA_y_pred_SVC)\n",
        "\n",
        "# แสดงในรูปแบบเปอร์เซ็น\n",
        "plt.figure(figsize=(8, 6))\n",
        "sns.heatmap(PCA_cm_SVC / PCA_cm_SVC.sum(axis=1)[:, np.newaxis], annot=True, fmt=\".3%\", cmap=\"Blues\")\n",
        "plt.title(\"Confusion Matrix (SVC)\")\n",
        "plt.xlabel(\"Predicted\")\n",
        "plt.ylabel(\"Actual\")\n",
        "plt.show()"
      ],
      "metadata": {
        "id": "Vha8RyB_47zf",
        "outputId": "d6804429-b10e-4729-f370-27104341fe69",
        "colab": {
          "base_uri": "https://localhost:8080/",
          "height": 564
        }
      },
      "execution_count": null,
      "outputs": [
        {
          "output_type": "display_data",
          "data": {
            "text/plain": [
              "<Figure size 800x600 with 2 Axes>"
            ],
            "image/png": "[encoded data removed]"
          },
          "metadata": {}
        }
      ]
    },
    {
      "cell_type": "code",
      "source": [
        "# Plot ROC Curve\n",
        "PCA_fpr_SVC, PCA_tpr_SVC, thresholds_PCA = roc_curve(y_test_PCA, PCA_y_pred_SVC)\n",
        "PCA_roc_auc_SVC = auc(PCA_fpr_SVC, PCA_tpr_SVC)\n",
        "\n",
        "plt.figure()\n",
        "lw = 2\n",
        "plt.plot(PCA_fpr_SVC, PCA_tpr_SVC, color='darkorange', lw=lw, label='ROC curve (area = %0.3f)' % PCA_roc_auc_SVC)\n",
        "plt.plot([0, 1], [0, 1], color='navy', lw=lw, linestyle='--')\n",
        "plt.xlim([0.0, 1.0])\n",
        "plt.ylim([0.0, 1.05])\n",
        "plt.xlabel('False Positive Rate')\n",
        "plt.ylabel('True Positive Rate')\n",
        "plt.title('SVC performance with ROC curve')\n",
        "plt.legend(loc=\"lower right\")\n",
        "plt.show()"
      ],
      "metadata": {
        "id": "efTWF0ArovXt",
        "outputId": "0d887a06-0d9c-46c0-ebd3-ca7cd1c96b5e",
        "colab": {
          "base_uri": "https://localhost:8080/",
          "height": 472
        }
      },
      "execution_count": null,
      "outputs": [
        {
          "output_type": "display_data",
          "data": {
            "text/plain": [
              "<Figure size 640x480 with 1 Axes>"
            ],
            "image/png": "[encoded data removed]"
          },
          "metadata": {}
        }
      ]
    },
    {
      "cell_type": "markdown",
      "source": [
        "## `3. KNN Classification`"
      ],
      "metadata": {
        "id": "HWMRycJg2c95"
      }
    },
    {
      "cell_type": "code",
      "source": [
        "from sklearn.neighbors import KNeighborsClassifier\n",
        "from sklearn.metrics import accuracy_score, classification_report, roc_auc_score\n",
        "from sklearn.metrics import recall_score\n",
        "from sklearn.metrics import fbeta_score\n",
        "from sklearn.metrics import f1_score"
      ],
      "metadata": {
        "id": "kXLDE1njgqjH"
      },
      "execution_count": null,
      "outputs": []
    },
    {
      "cell_type": "code",
      "source": [
        "# กำหนดพารามิเตอร์ของ KNN Classifier\n",
        "PCA_knn_classifier = KNeighborsClassifier(n_neighbors=3)\n",
        "\n",
        "# ฝึกโมเดลด้วยข้อมูล training\n",
        "PCA_model_knn = PCA_knn_classifier.fit(X_train_PCA, y_train_PCA)\n",
        "\n",
        "# ทำนายข้อมูล testing\n",
        "PCA_y_pred_KNN = PCA_model_knn.predict(X_test_PCA)\n",
        "\n",
        "# ประเมินประสิทธิภาพของโมเดล\n",
        "PCA_accuracy_KNN = accuracy_score(y_test_PCA, PCA_y_pred_KNN)\n",
        "PCA_recall_KNN = recall_score(y_test_PCA, PCA_y_pred_KNN)\n",
        "PCA_roc_auc_KNN = roc_auc_score(y_test_PCA, PCA_y_pred_KNN)\n",
        "PCA_report_KNN = classification_report(y_test_PCA, PCA_y_pred_KNN)\n",
        "PCA_f1_score_KNN = fbeta_score(y_test_PCA, PCA_y_pred_KNN, beta=1)\n",
        "PCA_f2_score_KNN = fbeta_score(y_test_PCA, PCA_y_pred_KNN, beta=2)\n",
        "\n",
        "print(\"F2 Score:\", PCA_f2_score_KNN)\n",
        "print(\"F1 Score:\", PCA_f1_score_KNN)\n",
        "print(\"Recall Score:\", PCA_recall_KNN)\n",
        "print(f\"Accuracy: {PCA_accuracy_KNN}\")\n",
        "print(\"ROC AUC:\", PCA_roc_auc_KNN)\n",
        "print(\"Classification Report:\\n\", PCA_report_KNN)"
      ],
      "metadata": {
        "id": "bF0Xa5fhgq4G",
        "outputId": "232d1f61-00df-4385-c61e-e1cd48ce042e",
        "colab": {
          "base_uri": "https://localhost:8080/"
        }
      },
      "execution_count": null,
      "outputs": [
        {
          "output_type": "stream",
          "name": "stdout",
          "text": [
            "F2 Score: 0.9713375796178345\n",
            "F1 Score: 0.976\n",
            "Recall Score: 0.9682539682539683\n",
            "Accuracy: 0.9824561403508771\n",
            "ROC AUC: 0.9794973544973545\n",
            "Classification Report:\n",
            "               precision    recall  f1-score   support\n",
            "\n",
            "           0       0.98      0.99      0.99       108\n",
            "           1       0.98      0.97      0.98        63\n",
            "\n",
            "    accuracy                           0.98       171\n",
            "   macro avg       0.98      0.98      0.98       171\n",
            "weighted avg       0.98      0.98      0.98       171\n",
            "\n"
          ]
        }
      ]
    },
    {
      "cell_type": "code",
      "source": [
        "from sklearn.metrics import confusion_matrix\n",
        "\n",
        "# คำนวณ Confusion Matrix\n",
        "PCA_cm_KNN = confusion_matrix(y_test_PCA, PCA_y_pred_KNN)\n",
        "\n",
        "# แสดงในรูปแบบเปอร์เซ็น\n",
        "plt.figure(figsize=(8, 6))\n",
        "sns.heatmap(PCA_cm_KNN / PCA_cm_KNN.sum(axis=1)[:, np.newaxis], annot=True, fmt=\".3%\", cmap=\"Blues\")\n",
        "plt.title(\"Confusion Matrix (KNN)\")\n",
        "plt.xlabel(\"Predicted\")\n",
        "plt.ylabel(\"Actual\")\n",
        "plt.show()"
      ],
      "metadata": {
        "id": "gtREr7uOLTXD",
        "outputId": "82039776-b873-4055-d5db-d3bb4a10f262",
        "colab": {
          "base_uri": "https://localhost:8080/",
          "height": 564
        }
      },
      "execution_count": null,
      "outputs": [
        {
          "output_type": "display_data",
          "data": {
            "text/plain": [
              "<Figure size 800x600 with 2 Axes>"
            ],
            "image/png": "[encoded data removed]"
          },
          "metadata": {}
        }
      ]
    },
    {
      "cell_type": "code",
      "source": [
        "# Plot ROC Curve\n",
        "PCA_fpr_KNN, PCA_tpr_KNN, thresholds_PCA = roc_curve(y_test_PCA, PCA_y_pred_KNN)\n",
        "PCA_roc_auc_KNN = auc(PCA_fpr_KNN, PCA_tpr_KNN)\n",
        "\n",
        "plt.figure()\n",
        "lw = 2\n",
        "plt.plot(PCA_fpr_KNN, PCA_tpr_KNN, color='darkorange', lw=lw, label='ROC curve (area = %0.3f)' % PCA_roc_auc_KNN)\n",
        "plt.plot([0, 1], [0, 1], color='navy', lw=lw, linestyle='--')\n",
        "plt.xlim([0.0, 1.0])\n",
        "plt.ylim([0.0, 1.05])\n",
        "plt.xlabel('False Positive Rate')\n",
        "plt.ylabel('True Positive Rate')\n",
        "plt.title('KNN performance with ROC curve')\n",
        "plt.legend(loc=\"lower right\")\n",
        "plt.show()"
      ],
      "metadata": {
        "id": "myI4xpKGOeGL",
        "outputId": "53f6c4db-16c5-45af-d044-b8c046001333",
        "colab": {
          "base_uri": "https://localhost:8080/",
          "height": 472
        }
      },
      "execution_count": null,
      "outputs": [
        {
          "output_type": "display_data",
          "data": {
            "text/plain": [
              "<Figure size 640x480 with 1 Axes>"
            ],
            "image/png": "[encoded data removed]"
          },
          "metadata": {}
        }
      ]
    },
    {
      "cell_type": "markdown",
      "source": [
        "## `4. XGBoost(Classifier)`"
      ],
      "metadata": {
        "id": "NUGw8MNRg4NM"
      }
    },
    {
      "cell_type": "code",
      "source": [
        "import xgboost as xgb\n",
        "\n",
        "# สร้างโมเดล XGBoost Classifier\n",
        "PCA_XGBoost_Classifier = xgb.XGBClassifier()\n",
        "\n",
        "# ฝึกโมเดลด้วยข้อมูลฝึกอบรม (X_train, y_train)\n",
        "PCA_model_XGboost = PCA_XGBoost_Classifier.fit(X_train_PCA, y_train_PCA)\n",
        "\n",
        "# ทำนายผลลัพธ์ด้วยข้อมูลทดสอบ (X_test)\n",
        "PCA_y_pred_XGBoost = PCA_model_XGboost.predict(X_test_PCA)"
      ],
      "metadata": {
        "id": "XhV5l9O_g4NW"
      },
      "execution_count": null,
      "outputs": []
    },
    {
      "cell_type": "code",
      "source": [
        "# ประเมินประสิทธิภาพของโมเดล\n",
        "PCA_accuracy_XGBoost = accuracy_score(y_test_PCA, PCA_y_pred_XGBoost)\n",
        "PCA_recall_XGBoost = recall_score(y_test_PCA, PCA_y_pred_XGBoost)\n",
        "PCA_roc_auc_XGBoost = roc_auc_score(y_test_PCA, PCA_y_pred_XGBoost)\n",
        "PCA_report_XGBoost = classification_report(y_test_PCA, PCA_y_pred_XGBoost)\n",
        "PCA_f1_score_XGBoost = fbeta_score(y_test_PCA, PCA_y_pred_XGBoost, beta=1)\n",
        "PCA_f2_score_XGBoost = fbeta_score(y_test_PCA, PCA_y_pred_XGBoost, beta=2)\n",
        "\n",
        "print(\"F2 Score:\", PCA_f2_score_XGBoost)\n",
        "print(\"F1 Score:\", PCA_f1_score_XGBoost)\n",
        "print(\"Recall Score:\", PCA_recall_XGBoost)\n",
        "print(f\"Accuracy: {PCA_accuracy_XGBoost}\")\n",
        "print(\"ROC AUC:\", PCA_roc_auc_XGBoost)\n",
        "print(\"Classification Report:\\n\", PCA_report_XGBoost)"
      ],
      "metadata": {
        "id": "2M-DNx5FV_4C",
        "outputId": "e60f4fc8-efa2-46bd-d3c7-1de1ee44a497",
        "colab": {
          "base_uri": "https://localhost:8080/"
        }
      },
      "execution_count": null,
      "outputs": [
        {
          "output_type": "stream",
          "name": "stdout",
          "text": [
            "F2 Score: 0.981012658227848\n",
            "F1 Score: 0.9763779527559054\n",
            "Recall Score: 0.9841269841269841\n",
            "Accuracy: 0.9824561403508771\n",
            "ROC AUC: 0.9828042328042329\n",
            "Classification Report:\n",
            "               precision    recall  f1-score   support\n",
            "\n",
            "           0       0.99      0.98      0.99       108\n",
            "           1       0.97      0.98      0.98        63\n",
            "\n",
            "    accuracy                           0.98       171\n",
            "   macro avg       0.98      0.98      0.98       171\n",
            "weighted avg       0.98      0.98      0.98       171\n",
            "\n"
          ]
        }
      ]
    },
    {
      "cell_type": "code",
      "source": [
        "# คำนวณ Confusion Matrix\n",
        "PCA_cm_XGBoost = confusion_matrix(y_test_PCA, PCA_y_pred_XGBoost)\n",
        "\n",
        "# แสดงในรูปแบบเปอร์เซ็น\n",
        "plt.figure(figsize=(8, 6))\n",
        "sns.heatmap(PCA_cm_XGBoost / PCA_cm_XGBoost.sum(axis=1)[:, np.newaxis], annot=True, fmt=\".3%\", cmap=\"Blues\")\n",
        "plt.title(\"Confusion Matrix (XGBoost)\")\n",
        "plt.xlabel(\"Predicted\")\n",
        "plt.ylabel(\"Actual\")\n",
        "plt.show()"
      ],
      "metadata": {
        "id": "F6NN2BmRZu8f",
        "outputId": "d55825e3-6773-49d5-8530-5c169e9d011b",
        "colab": {
          "base_uri": "https://localhost:8080/",
          "height": 564
        }
      },
      "execution_count": null,
      "outputs": [
        {
          "output_type": "display_data",
          "data": {
            "text/plain": [
              "<Figure size 800x600 with 2 Axes>"
            ],
            "image/png": "[encoded data removed]"
          },
          "metadata": {}
        }
      ]
    },
    {
      "cell_type": "code",
      "source": [
        "# Plot ROC Curve\n",
        "PCA_fpr_XGBoost, PCA_tpr_XGBoost, thresholds_PCA = roc_curve(y_test_PCA, PCA_y_pred_XGBoost)\n",
        "PCA_roc_auc_XGBoost = auc(PCA_fpr_XGBoost, PCA_tpr_XGBoost)\n",
        "\n",
        "plt.figure()\n",
        "lw = 2\n",
        "plt.plot(PCA_fpr_XGBoost, PCA_tpr_XGBoost, color='darkorange', lw=lw, label='ROC curve (area = %0.3f)' % PCA_roc_auc_XGBoost)\n",
        "plt.plot([0, 1], [0, 1], color='navy', lw=lw, linestyle='--')\n",
        "plt.xlim([0.0, 1.0])\n",
        "plt.ylim([0.0, 1.05])\n",
        "plt.xlabel('False Positive Rate')\n",
        "plt.ylabel('True Positive Rate')\n",
        "plt.title('XGBoost performance with ROC curve')\n",
        "plt.legend(loc=\"lower right\")\n",
        "plt.show()"
      ],
      "metadata": {
        "id": "XB7hn42GZyLd",
        "outputId": "2421a467-61e0-4c27-ba6d-29acf714e8f6",
        "colab": {
          "base_uri": "https://localhost:8080/",
          "height": 472
        }
      },
      "execution_count": null,
      "outputs": [
        {
          "output_type": "display_data",
          "data": {
            "text/plain": [
              "<Figure size 640x480 with 1 Axes>"
            ],
            "image/png": "[encoded data removed]"
          },
          "metadata": {}
        }
      ]
    },
    {
      "cell_type": "markdown",
      "source": [
        "# สรุป MODEL"
      ],
      "metadata": {
        "id": "d17XwTjz-CnY"
      }
    },
    {
      "cell_type": "code",
      "source": [
        "# F2\n",
        "model_f2_PCA = []\n",
        "model_name = ['LogisticRegression', 'SVC', 'KNeighborsClassifier', 'XGBClassifier']\n",
        "\n",
        "f2_PCA_logis = fbeta_score(y_test_PCA, PCA_y_pred_logis, beta=2)\n",
        "model_f2_PCA.append(f2_PCA_logis)\n",
        "\n",
        "f2_PCA_SVC = fbeta_score(y_test_PCA, PCA_y_pred_SVC, beta=2)\n",
        "model_f2_PCA.append(f2_PCA_SVC)\n",
        "\n",
        "f2_PCA_KNN = fbeta_score(y_test_PCA, PCA_y_pred_KNN, beta=2)\n",
        "model_f2_PCA.append(f2_PCA_KNN)\n",
        "\n",
        "f2_PCA_XGB = fbeta_score(y_test_PCA, PCA_y_pred_XGBoost, beta=2)\n",
        "model_f2_PCA.append(f2_PCA_XGB)"
      ],
      "metadata": {
        "id": "TYNoILi5-a2A"
      },
      "execution_count": null,
      "outputs": []
    },
    {
      "cell_type": "code",
      "source": [
        "# Recall\n",
        "model_recall_PCA = []\n",
        "model_name = ['LogisticRegression', 'SVC', 'KNeighborsClassifier', 'XGBClassifier']\n",
        "\n",
        "recall_PCA_logis = recall_score(y_test_PCA, PCA_y_pred_logis)\n",
        "model_recall_PCA.append(recall_PCA_logis)\n",
        "\n",
        "recall_PCA_SVC = recall_score(y_test_PCA, PCA_y_pred_SVC)\n",
        "model_recall_PCA.append(recall_PCA_SVC)\n",
        "\n",
        "recall_PCA_KNN = recall_score(y_test_PCA, PCA_y_pred_KNN)\n",
        "model_recall_PCA.append(recall_PCA_KNN)\n",
        "\n",
        "recall_PCA_XGB = recall_score(y_test_PCA, PCA_y_pred_XGBoost)\n",
        "model_recall_PCA.append(recall_PCA_XGB)"
      ],
      "metadata": {
        "id": "EzUiubBccf6U"
      },
      "execution_count": null,
      "outputs": []
    },
    {
      "cell_type": "code",
      "source": [
        "# Accuracy\n",
        "model_accuracy_PCA = []\n",
        "model_name = ['LogisticRegression', 'SVC', 'KNeighborsClassifier', 'XGBClassifier']\n",
        "\n",
        "accuracy_PCA_logis = accuracy_score(y_test_PCA, PCA_y_pred_logis)\n",
        "model_accuracy_PCA.append(accuracy_PCA_logis)\n",
        "\n",
        "accuracy_PCA_SVC = accuracy_score(y_test_PCA, PCA_y_pred_SVC)\n",
        "model_accuracy_PCA.append(accuracy_PCA_SVC)\n",
        "\n",
        "accuracy_PCA_KNN = accuracy_score(y_test_PCA, PCA_y_pred_KNN)\n",
        "model_accuracy_PCA.append(accuracy_PCA_KNN)\n",
        "\n",
        "accuracy_PCA_XGB = accuracy_score(y_test_PCA, PCA_y_pred_XGBoost)\n",
        "model_accuracy_PCA.append(accuracy_PCA_XGB)"
      ],
      "metadata": {
        "id": "XdfHvErrctfr"
      },
      "execution_count": null,
      "outputs": []
    },
    {
      "cell_type": "markdown",
      "source": [
        "##ค่าModel"
      ],
      "metadata": {
        "id": "Jw5C0eIidIWq"
      }
    },
    {
      "cell_type": "code",
      "source": [
        "model_f2_PCA"
      ],
      "metadata": {
        "colab": {
          "base_uri": "https://localhost:8080/"
        },
        "id": "2KKp-WYs_gbK",
        "outputId": "06dcb99d-ddef-4244-ff76-fa4bfc8f6a04"
      },
      "execution_count": null,
      "outputs": [
        {
          "output_type": "execute_result",
          "data": {
            "text/plain": [
              "[0.9872611464968152, 0.9872611464968152, 0.9713375796178345, 0.981012658227848]"
            ]
          },
          "metadata": {},
          "execution_count": 56
        }
      ]
    },
    {
      "cell_type": "code",
      "source": [
        "model_recall_PCA"
      ],
      "metadata": {
        "colab": {
          "base_uri": "https://localhost:8080/"
        },
        "id": "8fed5NuidcYu",
        "outputId": "ec0a987f-29f6-4b72-be1d-6da72a02d6fd"
      },
      "execution_count": null,
      "outputs": [
        {
          "output_type": "execute_result",
          "data": {
            "text/plain": [
              "[0.9841269841269841,\n",
              " 0.9841269841269841,\n",
              " 0.9682539682539683,\n",
              " 0.9841269841269841]"
            ]
          },
          "metadata": {},
          "execution_count": 57
        }
      ]
    },
    {
      "cell_type": "code",
      "source": [
        "model_accuracy_PCA"
      ],
      "metadata": {
        "colab": {
          "base_uri": "https://localhost:8080/"
        },
        "id": "VhCciOwhdZA2",
        "outputId": "935801c7-dea5-4539-9e70-e3a0e29aced9"
      },
      "execution_count": null,
      "outputs": [
        {
          "output_type": "execute_result",
          "data": {
            "text/plain": [
              "[0.9941520467836257,\n",
              " 0.9941520467836257,\n",
              " 0.9824561403508771,\n",
              " 0.9824561403508771]"
            ]
          },
          "metadata": {},
          "execution_count": 58
        }
      ]
    },
    {
      "cell_type": "markdown",
      "source": [
        "##Plot Graph"
      ],
      "metadata": {
        "id": "lDPMO6fhoypz"
      }
    },
    {
      "cell_type": "code",
      "source": [
        "import seaborn as sns\n",
        "import matplotlib.pyplot as plt\n",
        "\n",
        "# F2\n",
        "\n",
        "fig, ax = plt.subplots(figsize=(7,5))\n",
        "cols = [\"#21B6B6\" if i < (max(model_f2_PCA)) else \"#B62121\" for i in model_f2_PCA]\n",
        "sns.barplot(x=model_name, y=model_f2_PCA, ax=ax, palette=cols)\n",
        "plt.ylim(0.8, 1.05)\n",
        "plt.title(\"F2 Scores of Models\", fontsize=15)\n",
        "plt.axhline(0.970, lw=0.9, ls=\"--\", color=\"green\")\n",
        "plt.xticks(rotation=60)\n",
        "\n",
        "for i in range(len(model_f2_PCA)):\n",
        "    ax.text(i, model_f2_PCA[i] + 0.01, f\"{model_f2_PCA[i]:.3f}\", ha='center', color='black')\n",
        "plt.show()"
      ],
      "metadata": {
        "colab": {
          "base_uri": "https://localhost:8080/",
          "height": 678
        },
        "id": "NeOnBXSh-KKn",
        "outputId": "0de611bb-19ce-4332-8d72-e622b53f6bac"
      },
      "execution_count": null,
      "outputs": [
        {
          "output_type": "stream",
          "name": "stderr",
          "text": [
            "<ipython-input-59-d84635f1ffde>:8: FutureWarning: \n",
            "\n",
            "Passing `palette` without assigning `hue` is deprecated and will be removed in v0.14.0. Assign the `x` variable to `hue` and set `legend=False` for the same effect.\n",
            "\n",
            "  sns.barplot(x=model_name, y=model_f2_PCA, ax=ax, palette=cols)\n"
          ]
        },
        {
          "output_type": "display_data",
          "data": {
            "text/plain": [
              "<Figure size 700x500 with 1 Axes>"
            ],
            "image/png": "[encoded data removed]"
          },
          "metadata": {}
        }
      ]
    },
    {
      "cell_type": "code",
      "source": [
        "# Recall\n",
        "\n",
        "fig, ax = plt.subplots(figsize=(7,5))\n",
        "cols = [\"#21B6B6\" if i < (max(model_recall_PCA)) else \"#B62121\" for i in model_recall_PCA]\n",
        "sns.barplot(x=model_name, y=model_f2_PCA, ax=ax, palette=cols)\n",
        "plt.ylim(0.8, 1.05)\n",
        "plt.title(\"Recall Scores of Models\", fontsize=15)\n",
        "plt.axhline(0.970, lw=0.9, ls=\"--\", color=\"green\")\n",
        "plt.xticks(rotation=60)\n",
        "\n",
        "for i in range(len(model_recall_PCA)):\n",
        "    ax.text(i, model_recall_PCA[i] + 0.01, f\"{model_recall_PCA[i]:.3f}\", ha='center', color='black')\n",
        "plt.show()"
      ],
      "metadata": {
        "colab": {
          "base_uri": "https://localhost:8080/",
          "height": 678
        },
        "id": "M5Vqt-lDnxh5",
        "outputId": "c527de1d-4e9a-4189-b6fe-13ac2347bd80"
      },
      "execution_count": null,
      "outputs": [
        {
          "output_type": "stream",
          "name": "stderr",
          "text": [
            "<ipython-input-60-1dade6bfb94b>:5: FutureWarning: \n",
            "\n",
            "Passing `palette` without assigning `hue` is deprecated and will be removed in v0.14.0. Assign the `x` variable to `hue` and set `legend=False` for the same effect.\n",
            "\n",
            "  sns.barplot(x=model_name, y=model_f2_PCA, ax=ax, palette=cols)\n"
          ]
        },
        {
          "output_type": "display_data",
          "data": {
            "text/plain": [
              "<Figure size 700x500 with 1 Axes>"
            ],
            "image/png": "[encoded data removed]"
          },
          "metadata": {}
        }
      ]
    },
    {
      "cell_type": "code",
      "source": [
        "#Accuracy\n",
        "\n",
        "fig, ax = plt.subplots(figsize=(7,5))\n",
        "cols = [\"#21B6B6\" if i < (max(model_accuracy_PCA)) else \"#B62121\" for i in model_accuracy_PCA]\n",
        "sns.barplot(x=model_name, y=model_accuracy_PCA, ax=ax, palette=cols)\n",
        "plt.ylim(0.8, 1.05)\n",
        "plt.title(\"Accuracy Scores of Models\", fontsize=15)\n",
        "plt.axhline(0.970, lw=0.9, ls=\"--\", color=\"green\")\n",
        "plt.xticks(rotation=60)\n",
        "\n",
        "for i in range(len(model_accuracy_PCA)):\n",
        "    ax.text(i, model_accuracy_PCA[i] + 0.01, f\"{model_accuracy_PCA[i]:.3f}\", ha='center', color='black')\n",
        "plt.show()"
      ],
      "metadata": {
        "colab": {
          "base_uri": "https://localhost:8080/",
          "height": 678
        },
        "id": "4m01mS2TnykD",
        "outputId": "3436a690-fab7-4963-a197-4272ab3e71e8"
      },
      "execution_count": null,
      "outputs": [
        {
          "output_type": "stream",
          "name": "stderr",
          "text": [
            "<ipython-input-61-aec3009d1f9a>:5: FutureWarning: \n",
            "\n",
            "Passing `palette` without assigning `hue` is deprecated and will be removed in v0.14.0. Assign the `x` variable to `hue` and set `legend=False` for the same effect.\n",
            "\n",
            "  sns.barplot(x=model_name, y=model_accuracy_PCA, ax=ax, palette=cols)\n"
          ]
        },
        {
          "output_type": "display_data",
          "data": {
            "text/plain": [
              "<Figure size 700x500 with 1 Axes>"
            ],
            "image/png": "[encoded data removed]"
          },
          "metadata": {}
        }
      ]
    },
    {
      "cell_type": "markdown",
      "source": [
        "#Cross Validation"
      ],
      "metadata": {
        "id": "y8WKSwfpuJZb"
      }
    },
    {
      "cell_type": "code",
      "source": [
        "from sklearn.model_selection import KFold, cross_val_score\n",
        "from sklearn.metrics import get_scorer_names, make_scorer, fbeta_score"
      ],
      "metadata": {
        "id": "7yWlF8T9eVDA"
      },
      "execution_count": null,
      "outputs": []
    },
    {
      "cell_type": "code",
      "source": [
        "CV_F2_PCA = []\n",
        "scorer_f2 = make_scorer(fbeta_score,beta=2)"
      ],
      "metadata": {
        "id": "vFbXQIMcEm9p"
      },
      "execution_count": null,
      "outputs": []
    },
    {
      "cell_type": "code",
      "source": [
        "CV_RECALL_PCA = []\n",
        "scorer_recall = make_scorer(recall_score)"
      ],
      "metadata": {
        "id": "RhUwATmx9yts"
      },
      "execution_count": null,
      "outputs": []
    },
    {
      "cell_type": "code",
      "source": [
        "CV_ACCURACY_PCA = []\n",
        "scorer_accuracy = make_scorer(accuracy_score)"
      ],
      "metadata": {
        "id": "WUaGXCx0S_jw"
      },
      "execution_count": null,
      "outputs": []
    },
    {
      "cell_type": "markdown",
      "source": [
        "##Logistic Regression"
      ],
      "metadata": {
        "id": "cWO7pCrFunIZ"
      }
    },
    {
      "cell_type": "code",
      "source": [
        "#f2\n",
        "from sklearn.model_selection import KFold, cross_val_score\n",
        "k = 5\n",
        "kf = KFold(n_splits=k, random_state=42, shuffle=True)\n",
        "\n",
        "scores_logis_f2 = cross_val_score(PCA_model_logis, x_pca, y, cv=kf, scoring=scorer_f2)\n",
        "CV_F2_PCA.append(scores_logis_f2.mean())\n",
        "\n",
        "print(f'')\n",
        "print(f'Scores for each fold: {scores_logis_f2}')\n",
        "print(f'F2 Average score: {scores_logis_f2.mean():.3f}')"
      ],
      "metadata": {
        "id": "kBqujv3kuhaO",
        "outputId": "4f4ea710-0074-4b1b-f895-292c5f70a934",
        "colab": {
          "base_uri": "https://localhost:8080/"
        }
      },
      "execution_count": null,
      "outputs": [
        {
          "output_type": "stream",
          "name": "stdout",
          "text": [
            "\n",
            "Scores for each fold: [1.         1.         0.98130841 1.         1.        ]\n",
            "F2 Average score: 0.996\n"
          ]
        }
      ]
    },
    {
      "cell_type": "code",
      "source": [
        "#recall\n",
        "from sklearn.model_selection import KFold, cross_val_score\n",
        "k = 5\n",
        "kf = KFold(n_splits=k, random_state=42, shuffle=True)\n",
        "\n",
        "scores_logis_recall = cross_val_score(PCA_model_logis, x_pca, y, cv=kf, scoring=scorer_recall)\n",
        "CV_RECALL_PCA.append(scores_logis_recall.mean())\n",
        "\n",
        "print(f'')\n",
        "print(f'Scores for each fold: {scores_logis_recall}')\n",
        "print(f'Recall Average score: {scores_logis_recall.mean():.3f}')"
      ],
      "metadata": {
        "id": "c0XsvyS7_QIX",
        "colab": {
          "base_uri": "https://localhost:8080/"
        },
        "outputId": "1ae515a6-e7d2-4a5c-c012-fc2a786df103"
      },
      "execution_count": null,
      "outputs": [
        {
          "output_type": "stream",
          "name": "stdout",
          "text": [
            "\n",
            "Scores for each fold: [1.         1.         0.97674419 1.         1.        ]\n",
            "Recall Average score: 0.995\n"
          ]
        }
      ]
    },
    {
      "cell_type": "code",
      "source": [
        "#accuracy\n",
        "from sklearn.model_selection import KFold, cross_val_score\n",
        "k = 5\n",
        "kf = KFold(n_splits=k, random_state=42, shuffle=True)\n",
        "\n",
        "scores_logis_accuracy = cross_val_score(PCA_model_logis, x_pca, y, cv=kf, scoring=scorer_accuracy)\n",
        "CV_ACCURACY_PCA.append(scores_logis_accuracy.mean())\n",
        "\n",
        "print(f'')\n",
        "print(f'Scores for each fold: {scores_logis_accuracy}')\n",
        "print(f'Accuracy Average score: {scores_logis_accuracy.mean():.3f}')"
      ],
      "metadata": {
        "colab": {
          "base_uri": "https://localhost:8080/"
        },
        "id": "Fq2dZrHFTiHj",
        "outputId": "ea31e4f8-3be9-4303-ad2e-2948e3d6b409"
      },
      "execution_count": null,
      "outputs": [
        {
          "output_type": "stream",
          "name": "stdout",
          "text": [
            "\n",
            "Scores for each fold: [1.         1.         0.99122807 1.         1.        ]\n",
            "Accuracy Average score: 0.998\n"
          ]
        }
      ]
    },
    {
      "cell_type": "markdown",
      "source": [
        "\n",
        "\n",
        "---\n",
        "\n",
        "\n",
        "\n",
        "---\n",
        "\n",
        "\n",
        "\n",
        "---\n",
        "\n"
      ],
      "metadata": {
        "id": "7tSSWySNXpZt"
      }
    },
    {
      "cell_type": "code",
      "source": [
        "from sklearn.model_selection import cross_val_predict\n",
        "from sklearn.metrics import confusion_matrix\n",
        "\n",
        "# Perform cross-validation\n",
        "PCA_predicted_logis_CV = cross_val_predict(PCA_model_logis, x_pca, y, cv=kf)\n",
        "\n",
        "# Forecast values after cross-validation\n",
        "PCA_forecasted_logis_CV = PCA_model_logis.fit(x_pca, y).predict(x_pca)\n",
        "\n",
        "# Calculate confusion matrix\n",
        "PCA_conf_logis_CV = confusion_matrix(y, PCA_predicted_logis_CV)\n",
        "\n",
        "# Calculate accuracy\n",
        "PCA_acc_logis_CV = accuracy_score(y, PCA_predicted_logis_CV)\n",
        "\n",
        "print(\"Confusion Matrix:\")\n",
        "print(PCA_conf_logis_CV)\n",
        "print(\"Accuracy:\", PCA_acc_logis_CV)"
      ],
      "metadata": {
        "id": "xdu8c7ysOBD0",
        "colab": {
          "base_uri": "https://localhost:8080/"
        },
        "outputId": "0eff675f-34c5-4bd5-df98-867556bb169c"
      },
      "execution_count": null,
      "outputs": [
        {
          "output_type": "stream",
          "name": "stdout",
          "text": [
            "Confusion Matrix:\n",
            "[[357   0]\n",
            " [  1 211]]\n",
            "Accuracy: 0.9982425307557118\n"
          ]
        }
      ]
    },
    {
      "cell_type": "code",
      "source": [
        "# คำนวณ Confusion Matrix\n",
        "PCA_cm_logis_CV = confusion_matrix(y, PCA_predicted_logis_CV)\n",
        "\n",
        "# แสดงในรูปแบบเปอร์เซ็น\n",
        "plt.figure(figsize=(8, 6))\n",
        "sns.heatmap(PCA_cm_logis_CV / PCA_cm_logis_CV.sum(axis=1)[:, np.newaxis], annot=True, fmt=\".3%\", cmap=\"Blues\")\n",
        "plt.title(\"Confusion Matrix Logistic Regression (cross validation)\")\n",
        "plt.xlabel(\"Predicted\")\n",
        "plt.ylabel(\"Actual\")\n",
        "plt.show()"
      ],
      "metadata": {
        "id": "A1O-GcLGVjPL",
        "colab": {
          "base_uri": "https://localhost:8080/",
          "height": 564
        },
        "outputId": "8beba659-ed88-4e60-dd68-73548724a541"
      },
      "execution_count": null,
      "outputs": [
        {
          "output_type": "display_data",
          "data": {
            "text/plain": [
              "<Figure size 800x600 with 2 Axes>"
            ],
            "image/png": "[encoded data removed]"
          },
          "metadata": {}
        }
      ]
    },
    {
      "cell_type": "markdown",
      "source": [
        "##SVC"
      ],
      "metadata": {
        "id": "lUrXWCEBuycu"
      }
    },
    {
      "cell_type": "code",
      "source": [
        "#f2\n",
        "from sklearn.model_selection import KFold, cross_val_score\n",
        "k = 5\n",
        "kf = KFold(n_splits=k, random_state=42, shuffle=True)\n",
        "\n",
        "scores_SVC_f2 = cross_val_score(PCA_model_svc, x_pca, y, cv=kf, scoring=scorer_f2)\n",
        "CV_F2_PCA.append(scores_SVC_f2.mean())\n",
        "\n",
        "print(f'')\n",
        "print(f'Scores for each fold: {scores_SVC_f2}')\n",
        "print(f'F2 Average score: {scores_SVC_f2.mean():.3f}')"
      ],
      "metadata": {
        "id": "0sp5jN-euj56",
        "colab": {
          "base_uri": "https://localhost:8080/"
        },
        "outputId": "29f87443-1fce-4d36-f677-e291d19cfb88"
      },
      "execution_count": null,
      "outputs": [
        {
          "output_type": "stream",
          "name": "stdout",
          "text": [
            "\n",
            "Scores for each fold: [1. 1. 1. 1. 1.]\n",
            "F2 Average score: 1.000\n"
          ]
        }
      ]
    },
    {
      "cell_type": "code",
      "source": [
        "#recall\n",
        "from sklearn.model_selection import KFold, cross_val_score\n",
        "k = 5\n",
        "kf = KFold(n_splits=k, random_state=42, shuffle=True)\n",
        "\n",
        "scores_SVC_recall = cross_val_score(PCA_model_svc, x_pca, y, cv=kf, scoring=scorer_recall)\n",
        "CV_RECALL_PCA.append(scores_SVC_recall.mean())\n",
        "\n",
        "print(f'')\n",
        "print(f'Scores for each fold: {scores_SVC_recall}')\n",
        "print(f'Recall Average score: {scores_SVC_recall.mean():.3f}')"
      ],
      "metadata": {
        "id": "DQAJPgXjAK_w",
        "colab": {
          "base_uri": "https://localhost:8080/"
        },
        "outputId": "eb11a123-c2c9-4901-da93-5ffbe35df675"
      },
      "execution_count": null,
      "outputs": [
        {
          "output_type": "stream",
          "name": "stdout",
          "text": [
            "\n",
            "Scores for each fold: [1. 1. 1. 1. 1.]\n",
            "Recall Average score: 1.000\n"
          ]
        }
      ]
    },
    {
      "cell_type": "code",
      "source": [
        "#accuracy\n",
        "from sklearn.model_selection import KFold, cross_val_score\n",
        "k = 5\n",
        "kf = KFold(n_splits=k, random_state=42, shuffle=True)\n",
        "\n",
        "scores_SVC_accuracy = cross_val_score(PCA_model_svc, x_pca, y, cv=kf, scoring=scorer_accuracy)\n",
        "CV_ACCURACY_PCA.append(scores_SVC_accuracy.mean())\n",
        "\n",
        "print(f'')\n",
        "print(f'Scores for each fold: {scores_SVC_accuracy}')\n",
        "print(f'Accuracy Average score: {scores_SVC_accuracy.mean():.3f}')"
      ],
      "metadata": {
        "colab": {
          "base_uri": "https://localhost:8080/"
        },
        "id": "PRF1H4rtU4W9",
        "outputId": "55f264d8-cf04-4c67-c041-a511a32dd96f"
      },
      "execution_count": null,
      "outputs": [
        {
          "output_type": "stream",
          "name": "stdout",
          "text": [
            "\n",
            "Scores for each fold: [1. 1. 1. 1. 1.]\n",
            "Accuracy Average score: 1.000\n"
          ]
        }
      ]
    },
    {
      "cell_type": "markdown",
      "source": [
        "\n",
        "\n",
        "---\n",
        "\n",
        "\n",
        "\n",
        "---\n",
        "\n",
        "\n",
        "\n",
        "---\n",
        "\n"
      ],
      "metadata": {
        "id": "fdtH5DtkXyMU"
      }
    },
    {
      "cell_type": "code",
      "source": [
        "# Perform cross-validation\n",
        "PCA_predicted_SVC_CV = cross_val_predict(PCA_model_svc, x_pca, y, cv=kf)\n",
        "\n",
        "# Forecast values after cross-validation\n",
        "PCA_forecasted_SVC_CV = PCA_model_svc.fit(x_pca, y).predict(x_pca)\n",
        "\n",
        "# Calculate confusion matrix\n",
        "PCA_conf_SVC_CV = confusion_matrix(y, PCA_predicted_SVC_CV)\n",
        "\n",
        "# Calculate accuracy\n",
        "PCA_acc_SVC_CV = accuracy_score(y, PCA_predicted_SVC_CV)\n",
        "\n",
        "print(\"Confusion Matrix:\")\n",
        "print(PCA_conf_SVC_CV)\n",
        "print(\"Accuracy:\", PCA_acc_SVC_CV)"
      ],
      "metadata": {
        "colab": {
          "base_uri": "https://localhost:8080/"
        },
        "id": "zNl8OryyXy_t",
        "outputId": "945e7485-453a-4c9b-df19-cafb5825c8fa"
      },
      "execution_count": null,
      "outputs": [
        {
          "output_type": "stream",
          "name": "stdout",
          "text": [
            "Confusion Matrix:\n",
            "[[357   0]\n",
            " [  0 212]]\n",
            "Accuracy: 1.0\n"
          ]
        }
      ]
    },
    {
      "cell_type": "code",
      "source": [
        "# คำนวณ Confusion Matrix\n",
        "PCA_cm_SVC_CV = confusion_matrix(y, PCA_predicted_SVC_CV)\n",
        "\n",
        "# แสดงในรูปแบบเปอร์เซ็น\n",
        "plt.figure(figsize=(8, 6))\n",
        "sns.heatmap(PCA_cm_SVC_CV / PCA_cm_SVC_CV.sum(axis=1)[:, np.newaxis], annot=True, fmt=\".3%\", cmap=\"Blues\")\n",
        "plt.title(\"Confusion Matrix SVC (cross validation)\")\n",
        "plt.xlabel(\"Predicted\")\n",
        "plt.ylabel(\"Actual\")\n",
        "plt.show()"
      ],
      "metadata": {
        "colab": {
          "base_uri": "https://localhost:8080/",
          "height": 564
        },
        "id": "dtxIA4-WX1QA",
        "outputId": "5129e66c-9d5a-4c00-9626-00b60e245f69"
      },
      "execution_count": null,
      "outputs": [
        {
          "output_type": "display_data",
          "data": {
            "text/plain": [
              "<Figure size 800x600 with 2 Axes>"
            ],
            "image/png": "[encoded data removed]"
          },
          "metadata": {}
        }
      ]
    },
    {
      "cell_type": "markdown",
      "source": [
        "##KNN"
      ],
      "metadata": {
        "id": "aaYx5QtOu3zf"
      }
    },
    {
      "cell_type": "code",
      "source": [
        "#f2\n",
        "from sklearn.model_selection import KFold, cross_val_score\n",
        "k = 3\n",
        "kf = KFold(n_splits=k, random_state=42, shuffle=True)\n",
        "\n",
        "scores_knn_f2 = cross_val_score(PCA_model_knn, x_pca, y, cv=kf, scoring=scorer_f2)\n",
        "CV_F2_PCA.append(scores_knn_f2.mean())\n",
        "\n",
        "print(f'')\n",
        "print(f'Scores for each fold: {scores_knn_f2}')\n",
        "print(f'F2 Average score: {scores_knn_f2.mean():.3f}')"
      ],
      "metadata": {
        "id": "C9sAAH5Yuks8",
        "colab": {
          "base_uri": "https://localhost:8080/"
        },
        "outputId": "79946196-e574-410d-e9f5-c4a856a5e6c8"
      },
      "execution_count": null,
      "outputs": [
        {
          "output_type": "stream",
          "name": "stdout",
          "text": [
            "\n",
            "Scores for each fold: [1.         0.98820059 0.97883598]\n",
            "F2 Average score: 0.989\n"
          ]
        }
      ]
    },
    {
      "cell_type": "code",
      "source": [
        "#recall\n",
        "from sklearn.model_selection import KFold, cross_val_score\n",
        "k = 3\n",
        "kf = KFold(n_splits=k, random_state=42, shuffle=True)\n",
        "\n",
        "scores_knn_recall = cross_val_score(PCA_model_knn, x_pca, y, cv=kf, scoring=scorer_recall)\n",
        "CV_RECALL_PCA.append(scores_knn_recall.mean())\n",
        "\n",
        "print(f'')\n",
        "print(f'Scores for each fold: {scores_knn_recall}')\n",
        "print(f'Recall Average score: {scores_knn_recall.mean():.3f}')"
      ],
      "metadata": {
        "id": "lRurIM_GBhhS",
        "colab": {
          "base_uri": "https://localhost:8080/"
        },
        "outputId": "1f68a347-a687-4395-d167-c43f9491c40b"
      },
      "execution_count": null,
      "outputs": [
        {
          "output_type": "stream",
          "name": "stdout",
          "text": [
            "\n",
            "Scores for each fold: [1.         0.98529412 0.97368421]\n",
            "Recall Average score: 0.986\n"
          ]
        }
      ]
    },
    {
      "cell_type": "code",
      "source": [
        "#accuracy\n",
        "from sklearn.model_selection import KFold, cross_val_score\n",
        "k = 3\n",
        "kf = KFold(n_splits=k, random_state=42, shuffle=True)\n",
        "\n",
        "scores_knn_accuracy = cross_val_score(PCA_model_knn, x_pca, y, cv=kf, scoring=scorer_accuracy)\n",
        "CV_ACCURACY_PCA.append(scores_knn_accuracy.mean())\n",
        "\n",
        "print(f'')\n",
        "print(f'Scores for each fold: {scores_knn_accuracy}')\n",
        "print(f'Accuracy Average score: {scores_knn_accuracy.mean():.3f}')"
      ],
      "metadata": {
        "colab": {
          "base_uri": "https://localhost:8080/"
        },
        "id": "7OJtyl2IWmg9",
        "outputId": "36290c24-2cb9-423e-f1b4-032dd8aca6dd"
      },
      "execution_count": null,
      "outputs": [
        {
          "output_type": "stream",
          "name": "stdout",
          "text": [
            "\n",
            "Scores for each fold: [1.         0.99473684 0.98941799]\n",
            "Accuracy Average score: 0.995\n"
          ]
        }
      ]
    },
    {
      "cell_type": "markdown",
      "source": [
        "\n",
        "\n",
        "---\n",
        "\n",
        "\n",
        "\n",
        "---\n",
        "\n",
        "\n",
        "\n",
        "---\n",
        "\n"
      ],
      "metadata": {
        "id": "KTGe64EWVADB"
      }
    },
    {
      "cell_type": "code",
      "source": [
        "from sklearn.model_selection import cross_val_predict\n",
        "from sklearn.metrics import confusion_matrix\n",
        "\n",
        "# Perform cross-validation\n",
        "PCA_predicted_knn_CV = cross_val_predict(PCA_model_knn, x_pca, y, cv=kf)\n",
        "\n",
        "# Forecast values after cross-validation\n",
        "PCA_forecasted_knn_CV = PCA_model_knn.fit(x_pca, y).predict(x_pca)\n",
        "\n",
        "# Calculate confusion matrix\n",
        "PCA_conf_knn_CV = confusion_matrix(y, PCA_predicted_knn_CV)\n",
        "\n",
        "# Calculate accuracy\n",
        "PCA_acc_knn_CV = accuracy_score(y, PCA_predicted_knn_CV)\n",
        "\n",
        "print(\"Confusion Matrix:\")\n",
        "print(PCA_conf_knn_CV)\n",
        "print(\"Accuracy:\", PCA_acc_knn_CV)"
      ],
      "metadata": {
        "colab": {
          "base_uri": "https://localhost:8080/"
        },
        "id": "U0Lh8Uj1VCSE",
        "outputId": "8ecd2c66-e994-45c3-80a1-f14176b41df7"
      },
      "execution_count": null,
      "outputs": [
        {
          "output_type": "stream",
          "name": "stdout",
          "text": [
            "Confusion Matrix:\n",
            "[[357   0]\n",
            " [  3 209]]\n",
            "Accuracy: 0.9947275922671354\n"
          ]
        }
      ]
    },
    {
      "cell_type": "code",
      "source": [
        "from sklearn.metrics import confusion_matrix\n",
        "\n",
        "# คำนวณ Confusion Matrix\n",
        "PCA_cm_knn_CV = confusion_matrix(y, PCA_predicted_knn_CV)\n",
        "\n",
        "# แสดงในรูปแบบเปอร์เซ็น\n",
        "plt.figure(figsize=(8, 6))\n",
        "sns.heatmap(PCA_cm_knn_CV / PCA_cm_knn_CV.sum(axis=1)[:, np.newaxis], annot=True, fmt=\".3%\", cmap=\"Blues\")\n",
        "plt.title(\"Confusion Matrix KNN(cross validation)\")\n",
        "plt.xlabel(\"Predicted\")\n",
        "plt.ylabel(\"Actual\")\n",
        "plt.show()"
      ],
      "metadata": {
        "colab": {
          "base_uri": "https://localhost:8080/"
        },
        "id": "u7uYxh-YVF2S",
        "outputId": "eceb88e3-e27f-4ffc-ed42-e4ead5f146ca"
      },
      "execution_count": null,
      "outputs": [
        {
          "output_type": "display_data",
          "data": {
            "text/plain": [
              "<Figure size 800x600 with 2 Axes>"
            ],
            "image/png": "[encoded data removed]"
          },
          "metadata": {}
        }
      ]
    },
    {
      "cell_type": "markdown",
      "source": [
        "##XGBoost"
      ],
      "metadata": {
        "id": "vGVg5Cy7u7gY"
      }
    },
    {
      "cell_type": "code",
      "source": [
        "#f2\n",
        "k = 5\n",
        "kf = KFold(n_splits=k, random_state=42, shuffle=True)\n",
        "\n",
        "scorer_XGB_f2 = cross_val_score(PCA_model_XGboost, x_pca, y, cv=kf, scoring=scorer_f2, error_score='raise')\n",
        "CV_F2_PCA.append(scorer_XGB_f2.mean())\n",
        "\n",
        "print(f'')\n",
        "print(f'Scores for each fold: {scorer_XGB_f2}')\n",
        "print(f'F2 Average score: {scorer_XGB_f2.mean():.3f}')"
      ],
      "metadata": {
        "id": "4A9KG2n9ulZn",
        "colab": {
          "base_uri": "https://localhost:8080/"
        },
        "outputId": "c3e91837-0eaf-4bee-8910-4c13c359f7c5"
      },
      "execution_count": null,
      "outputs": [
        {
          "output_type": "stream",
          "name": "stdout",
          "text": [
            "\n",
            "Scores for each fold: [0.99537037 0.95108696 0.98130841 0.99537037 0.98253275]\n",
            "F2 Average score: 0.981\n"
          ]
        }
      ]
    },
    {
      "cell_type": "code",
      "source": [
        "#recall\n",
        "k = 5\n",
        "kf = KFold(n_splits=k, random_state=42, shuffle=True)\n",
        "\n",
        "scorer_XGB_recall = cross_val_score(PCA_model_XGboost, x_pca, y, cv=kf, scoring=scorer_recall, error_score='raise')\n",
        "CV_RECALL_PCA.append(scorer_XGB_recall.mean())\n",
        "\n",
        "print(f'')\n",
        "print(f'Scores for each fold: {scorer_XGB_recall}')\n",
        "print(f'Recall Average score: {scorer_XGB_recall.mean():.3f}')"
      ],
      "metadata": {
        "id": "KR3VpNB2CPHw",
        "colab": {
          "base_uri": "https://localhost:8080/"
        },
        "outputId": "d0e2d0f9-5280-4c37-816d-433bf85b0fd9"
      },
      "execution_count": null,
      "outputs": [
        {
          "output_type": "stream",
          "name": "stdout",
          "text": [
            "\n",
            "Scores for each fold: [1.         0.94594595 0.97674419 1.         0.97826087]\n",
            "Recall Average score: 0.980\n"
          ]
        }
      ]
    },
    {
      "cell_type": "code",
      "source": [
        "#accuracy\n",
        "k = 5\n",
        "kf = KFold(n_splits=k, random_state=42, shuffle=True)\n",
        "\n",
        "scorer_XGB_accuracy = cross_val_score(PCA_model_XGboost, x_pca, y, cv=kf, scoring=scorer_accuracy, error_score='raise')\n",
        "CV_ACCURACY_PCA.append(scorer_XGB_accuracy.mean())\n",
        "\n",
        "print(f'')\n",
        "print(f'Scores for each fold: {scorer_XGB_accuracy}')\n",
        "print(f'Accuracy Average score: {scorer_XGB_accuracy.mean():.3f}')"
      ],
      "metadata": {
        "colab": {
          "base_uri": "https://localhost:8080/"
        },
        "id": "z14-U5goXMgr",
        "outputId": "9af394b0-5022-4727-9047-0514b9b0facf"
      },
      "execution_count": null,
      "outputs": [
        {
          "output_type": "stream",
          "name": "stdout",
          "text": [
            "\n",
            "Scores for each fold: [0.99122807 0.97368421 0.99122807 0.99122807 0.99115044]\n",
            "Accuracy Average score: 0.988\n"
          ]
        }
      ]
    },
    {
      "cell_type": "markdown",
      "source": [
        "\n",
        "\n",
        "---\n",
        "\n",
        "\n",
        "\n",
        "---\n",
        "\n",
        "\n",
        "\n",
        "---\n",
        "\n"
      ],
      "metadata": {
        "id": "JX9HJby5WqNc"
      }
    },
    {
      "cell_type": "code",
      "source": [
        "from sklearn.model_selection import cross_val_predict\n",
        "from sklearn.metrics import confusion_matrix\n",
        "\n",
        "# Perform cross-validation\n",
        "PCA_predicted_XGB_CV = cross_val_predict(PCA_model_XGboost, x_pca, y, cv=kf)\n",
        "\n",
        "# Forecast values after cross-validation\n",
        "PCA_forecasted_knn_CV = PCA_model_XGboost.fit(x_pca, y).predict(x_pca)\n",
        "\n",
        "# Calculate confusion matrix\n",
        "PCA_conf_XGB_CV = confusion_matrix(y, PCA_predicted_XGB_CV)\n",
        "\n",
        "# Calculate accuracy\n",
        "PCA_acc_XGB_CV = accuracy_score(y, PCA_predicted_XGB_CV)\n",
        "\n",
        "print(\"Confusion Matrix:\")\n",
        "print(PCA_conf_XGB_CV)\n",
        "print(\"Accuracy:\", PCA_acc_XGB_CV)"
      ],
      "metadata": {
        "colab": {
          "base_uri": "https://localhost:8080/"
        },
        "id": "7HCLkcYmWlt9",
        "outputId": "e6ef5921-b03c-4081-9695-3a32dbdf5094"
      },
      "execution_count": null,
      "outputs": [
        {
          "output_type": "stream",
          "name": "stdout",
          "text": [
            "Confusion Matrix:\n",
            "[[354   3]\n",
            " [  4 208]]\n",
            "Accuracy: 0.9876977152899824\n"
          ]
        }
      ]
    },
    {
      "cell_type": "code",
      "source": [
        "from sklearn.metrics import confusion_matrix\n",
        "\n",
        "# คำนวณ Confusion Matrix\n",
        "PCA_cm_XGB_CV = confusion_matrix(y, PCA_predicted_XGB_CV)\n",
        "\n",
        "# แสดงในรูปแบบเปอร์เซ็น\n",
        "plt.figure(figsize=(8, 6))\n",
        "sns.heatmap(PCA_cm_XGB_CV / PCA_cm_XGB_CV.sum(axis=1)[:, np.newaxis], annot=True, fmt=\".3%\", cmap=\"Blues\")\n",
        "plt.title(\"Confusion Matrix XGboost(cross validation)\")\n",
        "plt.xlabel(\"Predicted\")\n",
        "plt.ylabel(\"Actual\")\n",
        "plt.show()"
      ],
      "metadata": {
        "id": "vXCwOhLuWpJk",
        "colab": {
          "base_uri": "https://localhost:8080/"
        },
        "outputId": "964548da-1dfb-4138-87c6-64615f558394"
      },
      "execution_count": null,
      "outputs": [
        {
          "output_type": "display_data",
          "data": {
            "text/plain": [
              "<Figure size 800x600 with 2 Axes>"
            ],
            "image/png": "[encoded data removed]"
          },
          "metadata": {}
        }
      ]
    },
    {
      "cell_type": "markdown",
      "source": [
        "#สรุปโมเดลที่ผ่านการ CV"
      ],
      "metadata": {
        "id": "Zl924q_4ASbh"
      }
    },
    {
      "cell_type": "code",
      "source": [
        "CV_F2_PCA"
      ],
      "metadata": {
        "colab": {
          "base_uri": "https://localhost:8080/"
        },
        "id": "p84ykOLfHXRr",
        "outputId": "5aaed524-6c08-444f-b5f6-ce1092e004d3"
      },
      "execution_count": null,
      "outputs": [
        {
          "output_type": "execute_result",
          "data": {
            "text/plain": [
              "[0.9962616822429906, 1.0, 0.9890121896021601, 0.9811337719138272]"
            ]
          },
          "metadata": {},
          "execution_count": 86
        }
      ]
    },
    {
      "cell_type": "code",
      "source": [
        "CV_RECALL_PCA"
      ],
      "metadata": {
        "id": "GhIEc_mJC7FX",
        "colab": {
          "base_uri": "https://localhost:8080/"
        },
        "outputId": "f431410f-be8c-4f13-e670-3fa2b7757486"
      },
      "execution_count": null,
      "outputs": [
        {
          "output_type": "execute_result",
          "data": {
            "text/plain": [
              "[0.9953488372093023, 1.0, 0.986326109391125, 0.980190200311535]"
            ]
          },
          "metadata": {},
          "execution_count": 87
        }
      ]
    },
    {
      "cell_type": "code",
      "source": [
        "CV_ACCURACY_PCA"
      ],
      "metadata": {
        "colab": {
          "base_uri": "https://localhost:8080/"
        },
        "id": "CNxUSJPGR27r",
        "outputId": "6e36fada-eaa1-45f6-be7a-44314e3298f2"
      },
      "execution_count": null,
      "outputs": [
        {
          "output_type": "execute_result",
          "data": {
            "text/plain": [
              "[0.9982456140350877, 1.0, 0.9947182771744175, 0.9877037727061013]"
            ]
          },
          "metadata": {},
          "execution_count": 88
        }
      ]
    },
    {
      "cell_type": "markdown",
      "source": [
        "##Plot Graph"
      ],
      "metadata": {
        "id": "jyszFCNmpAwF"
      }
    },
    {
      "cell_type": "code",
      "source": [
        "#CV_F2_PCA = []\n",
        "model_name = ['LogisticRegression', 'SVC', 'KNeighborsClassifier', 'XGBClassifier']\n",
        "\n",
        "fig, ax = plt.subplots(figsize=(7,5))\n",
        "cols = [\"#21B6B6\" if i < (max(CV_F2_PCA)) else \"#B62121\" for i in CV_F2_PCA]\n",
        "#cols = [\"darkorange\" if score < max(CV_PCA) else \"brown\" for score in CV_PCA]\n",
        "\n",
        "\n",
        "sns.barplot(x=model_name, y=CV_F2_PCA, ax=ax, palette=cols)\n",
        "plt.ylim(0.8, 1.05)\n",
        "plt.title(\"F2 Scores of Models\", fontsize=15)\n",
        "plt.axhline(0.970, lw=0.9, ls=\"--\", color=\"green\")\n",
        "plt.xticks(rotation=60)\n",
        "\n",
        "for i in range(len(CV_F2_PCA)):\n",
        "    ax.text(i, CV_F2_PCA[i] + 0.01, f\"{CV_F2_PCA[i]:.3f}\", ha='center', color='black')\n",
        "plt.show()"
      ],
      "metadata": {
        "colab": {
          "base_uri": "https://localhost:8080/",
          "height": 678
        },
        "id": "JEiqIf-dAZy9",
        "outputId": "eda924d6-ef18-4a63-d2b7-f38d23c6ba0e"
      },
      "execution_count": null,
      "outputs": [
        {
          "output_type": "stream",
          "name": "stderr",
          "text": [
            "<ipython-input-89-fce0a6eb6938>:9: FutureWarning: \n",
            "\n",
            "Passing `palette` without assigning `hue` is deprecated and will be removed in v0.14.0. Assign the `x` variable to `hue` and set `legend=False` for the same effect.\n",
            "\n",
            "  sns.barplot(x=model_name, y=CV_F2_PCA, ax=ax, palette=cols)\n"
          ]
        },
        {
          "output_type": "display_data",
          "data": {
            "text/plain": [
              "<Figure size 700x500 with 1 Axes>"
            ],
            "image/png": "[encoded data removed]"
          },
          "metadata": {}
        }
      ]
    },
    {
      "cell_type": "code",
      "source": [
        "#CV_RECALL_PCA = []\n",
        "model_name = ['LogisticRegression', 'SVC', 'KNeighborsClassifier', 'XGBClassifier']\n",
        "\n",
        "fig, ax = plt.subplots(figsize=(7,5))\n",
        "cols = [\"#21B6B6\" if i < (max(CV_RECALL_PCA)) else \"#B62121\" for i in CV_RECALL_PCA]\n",
        "\n",
        "\n",
        "sns.barplot(x=model_name, y=CV_RECALL_PCA, ax=ax, palette=cols)\n",
        "plt.ylim(0.8, 1.05)\n",
        "plt.title(\"Recall Scores of Models\", fontsize=15)\n",
        "plt.axhline(0.970, lw=0.9, ls=\"--\", color=\"green\")\n",
        "plt.xticks(rotation=60)\n",
        "\n",
        "for i in range(len(CV_RECALL_PCA)):\n",
        "    ax.text(i, CV_RECALL_PCA[i] + 0.01, f\"{CV_RECALL_PCA[i]:.3f}\", ha='center', color='black')\n",
        "plt.show()"
      ],
      "metadata": {
        "id": "1BO5bP2gEHC2",
        "colab": {
          "base_uri": "https://localhost:8080/",
          "height": 678
        },
        "outputId": "0c1f84a7-4ddb-495a-f2f0-b23122ead1b5"
      },
      "execution_count": null,
      "outputs": [
        {
          "output_type": "stream",
          "name": "stderr",
          "text": [
            "<ipython-input-90-92200df7ab13>:8: FutureWarning: \n",
            "\n",
            "Passing `palette` without assigning `hue` is deprecated and will be removed in v0.14.0. Assign the `x` variable to `hue` and set `legend=False` for the same effect.\n",
            "\n",
            "  sns.barplot(x=model_name, y=CV_RECALL_PCA, ax=ax, palette=cols)\n"
          ]
        },
        {
          "output_type": "display_data",
          "data": {
            "text/plain": [
              "<Figure size 700x500 with 1 Axes>"
            ],
            "image/png": "[encoded data removed]"
          },
          "metadata": {}
        }
      ]
    },
    {
      "cell_type": "code",
      "source": [
        "#CV_ACCURACY_PCA = []\n",
        "model_name = ['LogisticRegression', 'SVC', 'KNeighborsClassifier', 'XGBClassifier']\n",
        "\n",
        "fig, ax = plt.subplots(figsize=(7,5))\n",
        "cols = [\"#21B6B6\" if i < (max(CV_ACCURACY_PCA)) else \"#B62121\" for i in CV_ACCURACY_PCA]\n",
        "#cols = [\"darkorange\" if score < max(CV_PCA) else \"brown\" for score in CV_PCA]\n",
        "\n",
        "\n",
        "sns.barplot(x=model_name, y=CV_ACCURACY_PCA, ax=ax, palette=cols)\n",
        "plt.ylim(0.8, 1.05)\n",
        "plt.title(\"Accuracy Scores of Models\", fontsize=15)\n",
        "plt.axhline(0.970, lw=0.9, ls=\"--\", color=\"green\")\n",
        "plt.xticks(rotation=60)\n",
        "\n",
        "for i in range(len(CV_ACCURACY_PCA)):\n",
        "    ax.text(i, CV_ACCURACY_PCA[i] + 0.01, f\"{CV_ACCURACY_PCA[i]:.3f}\", ha='center', color='black')\n",
        "plt.show()"
      ],
      "metadata": {
        "colab": {
          "base_uri": "https://localhost:8080/",
          "height": 678
        },
        "id": "tVePWjocXizp",
        "outputId": "13586026-1929-4643-8045-835a6d81aeb2"
      },
      "execution_count": null,
      "outputs": [
        {
          "output_type": "stream",
          "name": "stderr",
          "text": [
            "<ipython-input-91-7c82d81d9a4f>:9: FutureWarning: \n",
            "\n",
            "Passing `palette` without assigning `hue` is deprecated and will be removed in v0.14.0. Assign the `x` variable to `hue` and set `legend=False` for the same effect.\n",
            "\n",
            "  sns.barplot(x=model_name, y=CV_ACCURACY_PCA, ax=ax, palette=cols)\n"
          ]
        },
        {
          "output_type": "display_data",
          "data": {
            "text/plain": [
              "<Figure size 700x500 with 1 Axes>"
            ],
            "image/png": "[encoded data removed]"
          },
          "metadata": {}
        }
      ]
    },
    {
      "cell_type": "markdown",
      "source": [
        "# `Credit`"
      ],
      "metadata": {
        "id": "0x63CphB9R_v"
      }
    },
    {
      "cell_type": "markdown",
      "source": [
        "https://xgboost.readthedocs.io/en/latest/parameter.html"
      ],
      "metadata": {
        "id": "sCPmNwFKR7Li"
      }
    },
    {
      "cell_type": "markdown",
      "source": [
        "https://www.baeldung.com/cs/train-test-datasets-ratio"
      ],
      "metadata": {
        "id": "rERsbBLmR76D"
      }
    },
    {
      "cell_type": "markdown",
      "source": [
        "https://gist.github.com/alinaselega/a85a41b733c0eed1d5c607fad0cddc17"
      ],
      "metadata": {
        "id": "IWFcMHevR90C"
      }
    },
    {
      "cell_type": "markdown",
      "source": [
        "https://www.kaggle.com/code/palanjali007/xgbclassifier#Using-XGBClassifier"
      ],
      "metadata": {
        "id": "bVDTgdSKSA9D"
      }
    },
    {
      "cell_type": "markdown",
      "source": [
        "https://scikit-learn.org/stable/modules/cross_validation.html"
      ],
      "metadata": {
        "id": "HLMI5PuySCee"
      }
    },
    {
      "cell_type": "markdown",
      "source": [
        "https://www.kaggle.com/code/karltonkxb/dimensionality-reduction-techniques"
      ],
      "metadata": {
        "id": "hdbsK7rfSERR"
      }
    },
    {
      "cell_type": "markdown",
      "source": [
        "https://medium.com/@avijit.bhattacharjee1996/implementing-k-fold-cross-validation-from-scratch-in-python-ae413b41c80d"
      ],
      "metadata": {
        "id": "4WOhhzHnSLrg"
      }
    },
    {
      "cell_type": "markdown",
      "source": [
        "https://www.kaggle.com/code/shivanirana63/breast-cancer-prediction-10-models-pca"
      ],
      "metadata": {
        "id": "yY4rEHfvZcKk"
      }
    },
    {
      "cell_type": "markdown",
      "source": [
        "[เริ่มต้นทำ Machine Learning แบบง่ายๆ (อธิบายพร้อม Code) (2)](https://parinkittipongdaja.medium.com/%E0%B9%80%E0%B8%A3%E0%B8%B4%E0%B9%88%E0%B8%A1%E0%B8%95%E0%B9%89%E0%B8%99%E0%B8%97%E0%B8%B3-machine-learning-%E0%B9%81%E0%B8%9A%E0%B8%9A%E0%B8%87%E0%B9%88%E0%B8%B2%E0%B8%A2%E0%B9%86-%E0%B8%AD%E0%B8%98%E0%B8%B4%E0%B8%9A%E0%B8%B2%E0%B8%A2%E0%B8%9E%E0%B8%A3%E0%B9%89%E0%B8%AD%E0%B8%A1-code-2-bd370f7d74d1)"
      ],
      "metadata": {
        "id": "1-dYP9Taeywb"
      }
    },
    {
      "cell_type": "markdown",
      "source": [
        "[Scale or Standardize or Normalize](https://medium.com/data-espresso/scale-or-standardize-or-normalize-ef905613f275)"
      ],
      "metadata": {
        "id": "HIYHgSV-e6AR"
      }
    },
    {
      "cell_type": "markdown",
      "source": [
        "[link text](https://www.kaggle.com/code/janiezj/breast-cancer-analysis-using-machine-learning/notebook)"
      ],
      "metadata": {
        "id": "_yUHxWdIos9G"
      }
    }
  ]
}